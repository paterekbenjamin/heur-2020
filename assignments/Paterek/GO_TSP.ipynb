{
 "cells": [
  {
   "cell_type": "markdown",
   "metadata": {},
   "source": [
    "# Genetická optimalizácia (GO) problému obchodného cestujúceho (TSP)"
   ]
  },
  {
   "cell_type": "markdown",
   "metadata": {},
   "source": [
    "Tento notebook sa zaoberá GO (Genetic optimization) na TSP (Travelling salesman problem). Špeciálna pozornosť je venovaná skúmaniu crossover metód a ich porovnaniu. Súčasťou práce je zavedenie 4 nových crossover metód a ich porovnanie s metódami implementovanými v rámci kurzu."
   ]
  },
  {
   "cell_type": "markdown",
   "metadata": {},
   "source": [
    "## Ciele práce "
   ]
  },
  {
   "cell_type": "markdown",
   "metadata": {},
   "source": [
    "1. Definovanie nových crossover metód.\n",
    "2. Hľadanie optimálnych kombinácii crossover, mutation a correction metód pri GO na TSPGrid(3, 3).\n",
    "3. Tuning hyper-parametrov $ N, M, T_{1}, T_{2} $.\n",
    "4. Zhodnotenie vplyvu náhodného generovania počiatočných riešení vs. žravej heuristiky.\n",
    "5. Záverečné zhodnotenie dosiahnutých výsledkov."
   ]
  },
  {
   "cell_type": "markdown",
   "metadata": {},
   "source": [
    "## 1. Nové crossover metódy"
   ]
  },
  {
   "cell_type": "markdown",
   "metadata": {},
   "source": [
    "Pokiaľ sú rodičia (teda riešenia problému) vyjadrené ako vektory: $[x_{0},...,x_{n-1} ] $ a $[y_{0},...,y_{n-1} ] $, potom dieťa vyjadrené ako: <br>\n",
    "$[z_{0},...,z_{n-1} ] $ vznikne nasledovne."
   ]
  },
  {
   "cell_type": "markdown",
   "metadata": {},
   "source": [
    "<b>MatchCrossoverMax() </b>\n",
    "\n",
    "Pokiaľ $x_{i} = y_{i} $, potom $z_{i} = x_{i} $. <br>\n",
    "Pokiaľ $x_{i} \\neq y_{i} $, potom $z_{i} $ je náhodné celé číslo z intervalu $[0, max(x_{i},y_{i})] $."
   ]
  },
  {
   "cell_type": "markdown",
   "metadata": {},
   "source": [
    "<b>MatchCrossoverRnd() </b>\n",
    "\n",
    "Pokiaľ $x_{i} = y_{i} $, potom $z_{i} = x_{i} $. <br>\n",
    "Pokiaľ $x_{i} \\neq y_{i} $, potom $z_{i} $ je náhodné celé číslo z intervalu $[0, n-i-1] $."
   ]
  },
  {
   "cell_type": "markdown",
   "metadata": {},
   "source": [
    "<b>MisMatchCrossoverMax() </b>\n",
    "\n",
    "Pokiaľ $x_{i} \\neq y_{i} $, potom $z_{i} = x_{i} $. <br>\n",
    "Pokiaľ $x_{i} = y_{i} $, potom $z_{i} $ je náhodné celé číslo z intervalu $[0, y_{i}] $."
   ]
  },
  {
   "cell_type": "markdown",
   "metadata": {},
   "source": [
    "<b>MisMatchCrossoverRnd() </b>\n",
    "\n",
    "Pokiaľ $x_{i} \\neq y_{i} $, potom $z_{i} = x_{i} $. <br>\n",
    "Pokiaľ $x_{i} = y_{i} $, potom $z_{i} $ je náhodné celé číslo z intervalu $[0, n-i-1] $."
   ]
  },
  {
   "cell_type": "code",
   "execution_count": 1,
   "metadata": {},
   "outputs": [],
   "source": [
    "# Import path to source directory (bit of a hack in Jupyter)\n",
    "import sys\n",
    "import os\n",
    "pwd = %pwd\n",
    "sys.path.append(os.path.join(pwd, os.path.join('..', 'src')))\n",
    "\n",
    "# Ensure modules are reloaded on any change (very useful when developing code on the fly)\n",
    "%load_ext autoreload\n",
    "%autoreload 2\n",
    "\n",
    "# Work on local computer... add path to source directory\n",
    "sys.path.append('/home/benjamin/Documents/18heur-2020-master_1/18heur-2020-master/src')"
   ]
  },
  {
   "cell_type": "code",
   "execution_count": 2,
   "metadata": {},
   "outputs": [],
   "source": [
    "import numpy as np\n",
    "import pandas as pd\n",
    "from tqdm.notebook import tqdm\n",
    "\n",
    "import matplotlib\n",
    "%matplotlib notebook\n",
    "import matplotlib.pyplot as plt\n",
    "import seaborn as sns\n",
    "sns.set()"
   ]
  },
  {
   "cell_type": "code",
   "execution_count": 3,
   "metadata": {},
   "outputs": [],
   "source": [
    "from objfun_tsp import TSPGrid\n",
    "tsp = TSPGrid(3, 3)"
   ]
  },
  {
   "cell_type": "code",
   "execution_count": 4,
   "metadata": {},
   "outputs": [],
   "source": [
    "from heur_go import Crossover, UniformMultipoint, RandomCombination # crossovers\n",
    "from heur_go import MatchCrossoverMax, MatchCrossoverRnd, MisMatchCrossoverMax, MisMatchCrossoverRnd # new crossovers\n",
    "from heur_go import GeneticOptimization # heuristics \n",
    "from heur_aux import Correction, MirrorCorrection, ExtensionCorrection # corrections \n",
    "from heur_aux import CauchyMutation # mutation"
   ]
  },
  {
   "cell_type": "markdown",
   "metadata": {},
   "source": [
    "## 2. Optimálne kombinácie crossover, mutation a correction metód"
   ]
  },
  {
   "cell_type": "markdown",
   "metadata": {},
   "source": [
    "V prvej fáze testovania vyskúšame všetky možné kombinácie crossover, mutation a correction metód. Ostatné hyper-parametre heuristiky GO sú zafixované: $N=5, M=15, T_{1}=1.0, T_{2}=0.5 $. <br>\n",
    "\n",
    "K dispozícii máme: <br>\n",
    "\n",
    "<b>Crossover metódy:</b> mix Crossover(), RandomCombination(), UniformMultipoint(k), kde parameter $ k $ volí používaťeľ (v našom prípade 1,2,3), MatchCrossoverMax(), MatchCrossoverRnd(), MisMatchCrossoverMax() a MisMatchCrossoverRnd(), <br>\n",
    "<b>Mutation metóda:</b> CauchyMutation(r), kde parameter $ r $ volí používaťeľ (v našom prípade 1,2,3),  <br>\n",
    "<b>Correction metódy:</b> vanilla Correction(of), MirrorCorrection(of) a ExtensionCorrection(of)."
   ]
  },
  {
   "cell_type": "code",
   "execution_count": 5,
   "metadata": {},
   "outputs": [],
   "source": [
    "multipoints = [1, 2, 3]\n",
    "crossovers = [\n",
    "    {'crossover': MatchCrossoverMax(), 'name': 'MCM'},\n",
    "    {'crossover': MatchCrossoverRnd(), 'name': 'MCR'},\n",
    "    {'crossover': MisMatchCrossoverMax(), 'name': 'MMCM'},\n",
    "    {'crossover': MisMatchCrossoverRnd(), 'name': 'MMCR'},\n",
    "    {'crossover': Crossover(), 'name': 'mix'},\n",
    "    {'crossover': RandomCombination(), 'name': 'rnd'}]\n",
    "for multipoint in multipoints:\n",
    "    crossover = {'crossover': UniformMultipoint(multipoint), 'name': 'uni{}'.format(multipoint)}\n",
    "    crossovers.append(crossover)\n",
    "\n",
    "corrections = [\n",
    "    {'correction': Correction(tsp), 'name': 'vanilla'},\n",
    "    {'correction': MirrorCorrection(tsp), 'name': 'mirror'},\n",
    "    {'correction': ExtensionCorrection(tsp), 'name': 'extension'}]\n",
    "\n",
    "parameters = [2, 3, 1]\n",
    "mutations = []\n",
    "for parameter in parameters:\n",
    "    for correction in corrections:\n",
    "        mutation = {'mutation': CauchyMutation(r=parameter, correction = correction['correction']), 'name': 'cauchy{}_'\n",
    "                   .format(parameter)+correction['name']}\n",
    "        mutations.append(mutation)"
   ]
  },
  {
   "cell_type": "code",
   "execution_count": 6,
   "metadata": {},
   "outputs": [],
   "source": [
    "NUM_RUNS = 1000\n",
    "maxeval = 100"
   ]
  },
  {
   "cell_type": "code",
   "execution_count": 7,
   "metadata": {},
   "outputs": [
    {
     "data": {
      "application/vnd.jupyter.widget-view+json": {
       "model_id": "3a28b20ad8db4bcb863aaa0570684714",
       "version_major": 2,
       "version_minor": 0
      },
      "text/plain": [
       "HBox(children=(FloatProgress(value=0.0, description='Testing GO_mut:(cauchy2_vanilla)_cro:MCM', max=1000.0, st…"
      ]
     },
     "metadata": {},
     "output_type": "display_data"
    },
    {
     "name": "stdout",
     "output_type": "stream",
     "text": [
      "\n"
     ]
    },
    {
     "data": {
      "application/vnd.jupyter.widget-view+json": {
       "model_id": "1a510afcc895403f96c1cdbf1b2ce084",
       "version_major": 2,
       "version_minor": 0
      },
      "text/plain": [
       "HBox(children=(FloatProgress(value=0.0, description='Testing GO_mut:(cauchy2_mirror)_cro:MCM', max=1000.0, sty…"
      ]
     },
     "metadata": {},
     "output_type": "display_data"
    },
    {
     "name": "stdout",
     "output_type": "stream",
     "text": [
      "\n"
     ]
    },
    {
     "data": {
      "application/vnd.jupyter.widget-view+json": {
       "model_id": "e55b78842bbf41ecbbfbc578a86f8767",
       "version_major": 2,
       "version_minor": 0
      },
      "text/plain": [
       "HBox(children=(FloatProgress(value=0.0, description='Testing GO_mut:(cauchy2_extension)_cro:MCM', max=1000.0, …"
      ]
     },
     "metadata": {},
     "output_type": "display_data"
    },
    {
     "name": "stdout",
     "output_type": "stream",
     "text": [
      "\n"
     ]
    },
    {
     "data": {
      "application/vnd.jupyter.widget-view+json": {
       "model_id": "9ed00fb558c44735b8bf95fae6b3714d",
       "version_major": 2,
       "version_minor": 0
      },
      "text/plain": [
       "HBox(children=(FloatProgress(value=0.0, description='Testing GO_mut:(cauchy3_vanilla)_cro:MCM', max=1000.0, st…"
      ]
     },
     "metadata": {},
     "output_type": "display_data"
    },
    {
     "name": "stdout",
     "output_type": "stream",
     "text": [
      "\n"
     ]
    },
    {
     "data": {
      "application/vnd.jupyter.widget-view+json": {
       "model_id": "0193c42983574eeab30235b2f6547a08",
       "version_major": 2,
       "version_minor": 0
      },
      "text/plain": [
       "HBox(children=(FloatProgress(value=0.0, description='Testing GO_mut:(cauchy3_mirror)_cro:MCM', max=1000.0, sty…"
      ]
     },
     "metadata": {},
     "output_type": "display_data"
    },
    {
     "name": "stdout",
     "output_type": "stream",
     "text": [
      "\n"
     ]
    },
    {
     "data": {
      "application/vnd.jupyter.widget-view+json": {
       "model_id": "b2652be01af6422f94c95aa1dccee19d",
       "version_major": 2,
       "version_minor": 0
      },
      "text/plain": [
       "HBox(children=(FloatProgress(value=0.0, description='Testing GO_mut:(cauchy3_extension)_cro:MCM', max=1000.0, …"
      ]
     },
     "metadata": {},
     "output_type": "display_data"
    },
    {
     "name": "stdout",
     "output_type": "stream",
     "text": [
      "\n"
     ]
    },
    {
     "data": {
      "application/vnd.jupyter.widget-view+json": {
       "model_id": "48a704efeb394431816007dba2f5bea5",
       "version_major": 2,
       "version_minor": 0
      },
      "text/plain": [
       "HBox(children=(FloatProgress(value=0.0, description='Testing GO_mut:(cauchy1_vanilla)_cro:MCM', max=1000.0, st…"
      ]
     },
     "metadata": {},
     "output_type": "display_data"
    },
    {
     "name": "stdout",
     "output_type": "stream",
     "text": [
      "\n"
     ]
    },
    {
     "data": {
      "application/vnd.jupyter.widget-view+json": {
       "model_id": "27b1bf3470bb4d30a72f458082279861",
       "version_major": 2,
       "version_minor": 0
      },
      "text/plain": [
       "HBox(children=(FloatProgress(value=0.0, description='Testing GO_mut:(cauchy1_mirror)_cro:MCM', max=1000.0, sty…"
      ]
     },
     "metadata": {},
     "output_type": "display_data"
    },
    {
     "name": "stdout",
     "output_type": "stream",
     "text": [
      "\n"
     ]
    },
    {
     "data": {
      "application/vnd.jupyter.widget-view+json": {
       "model_id": "f959762c2c1e459faeb532436b013c04",
       "version_major": 2,
       "version_minor": 0
      },
      "text/plain": [
       "HBox(children=(FloatProgress(value=0.0, description='Testing GO_mut:(cauchy1_extension)_cro:MCM', max=1000.0, …"
      ]
     },
     "metadata": {},
     "output_type": "display_data"
    },
    {
     "name": "stdout",
     "output_type": "stream",
     "text": [
      "\n"
     ]
    },
    {
     "data": {
      "application/vnd.jupyter.widget-view+json": {
       "model_id": "f0b40ea977fa42449a1b0f17fffb16b7",
       "version_major": 2,
       "version_minor": 0
      },
      "text/plain": [
       "HBox(children=(FloatProgress(value=0.0, description='Testing GO_mut:(cauchy2_vanilla)_cro:MCR', max=1000.0, st…"
      ]
     },
     "metadata": {},
     "output_type": "display_data"
    },
    {
     "name": "stdout",
     "output_type": "stream",
     "text": [
      "\n"
     ]
    },
    {
     "data": {
      "application/vnd.jupyter.widget-view+json": {
       "model_id": "f7ee8e0fa9d3453e8ae559eb8a956006",
       "version_major": 2,
       "version_minor": 0
      },
      "text/plain": [
       "HBox(children=(FloatProgress(value=0.0, description='Testing GO_mut:(cauchy2_mirror)_cro:MCR', max=1000.0, sty…"
      ]
     },
     "metadata": {},
     "output_type": "display_data"
    },
    {
     "name": "stdout",
     "output_type": "stream",
     "text": [
      "\n"
     ]
    },
    {
     "data": {
      "application/vnd.jupyter.widget-view+json": {
       "model_id": "c8d5d8997d91470f84f969d4944bd2b7",
       "version_major": 2,
       "version_minor": 0
      },
      "text/plain": [
       "HBox(children=(FloatProgress(value=0.0, description='Testing GO_mut:(cauchy2_extension)_cro:MCR', max=1000.0, …"
      ]
     },
     "metadata": {},
     "output_type": "display_data"
    },
    {
     "name": "stdout",
     "output_type": "stream",
     "text": [
      "\n"
     ]
    },
    {
     "data": {
      "application/vnd.jupyter.widget-view+json": {
       "model_id": "fd4a37bfa1e143fe956c7754f59448aa",
       "version_major": 2,
       "version_minor": 0
      },
      "text/plain": [
       "HBox(children=(FloatProgress(value=0.0, description='Testing GO_mut:(cauchy3_vanilla)_cro:MCR', max=1000.0, st…"
      ]
     },
     "metadata": {},
     "output_type": "display_data"
    },
    {
     "name": "stdout",
     "output_type": "stream",
     "text": [
      "\n"
     ]
    },
    {
     "data": {
      "application/vnd.jupyter.widget-view+json": {
       "model_id": "179cd4a5f01f4a9cb403d5bde1753dff",
       "version_major": 2,
       "version_minor": 0
      },
      "text/plain": [
       "HBox(children=(FloatProgress(value=0.0, description='Testing GO_mut:(cauchy3_mirror)_cro:MCR', max=1000.0, sty…"
      ]
     },
     "metadata": {},
     "output_type": "display_data"
    },
    {
     "name": "stdout",
     "output_type": "stream",
     "text": [
      "\n"
     ]
    },
    {
     "data": {
      "application/vnd.jupyter.widget-view+json": {
       "model_id": "ea640d8521eb41749c6ec627a649f663",
       "version_major": 2,
       "version_minor": 0
      },
      "text/plain": [
       "HBox(children=(FloatProgress(value=0.0, description='Testing GO_mut:(cauchy3_extension)_cro:MCR', max=1000.0, …"
      ]
     },
     "metadata": {},
     "output_type": "display_data"
    },
    {
     "name": "stdout",
     "output_type": "stream",
     "text": [
      "\n"
     ]
    },
    {
     "data": {
      "application/vnd.jupyter.widget-view+json": {
       "model_id": "f000009666874574a793a5ab699d871d",
       "version_major": 2,
       "version_minor": 0
      },
      "text/plain": [
       "HBox(children=(FloatProgress(value=0.0, description='Testing GO_mut:(cauchy1_vanilla)_cro:MCR', max=1000.0, st…"
      ]
     },
     "metadata": {},
     "output_type": "display_data"
    },
    {
     "name": "stdout",
     "output_type": "stream",
     "text": [
      "\n"
     ]
    },
    {
     "data": {
      "application/vnd.jupyter.widget-view+json": {
       "model_id": "8f3832f9fd524753800bbf8307f5e30a",
       "version_major": 2,
       "version_minor": 0
      },
      "text/plain": [
       "HBox(children=(FloatProgress(value=0.0, description='Testing GO_mut:(cauchy1_mirror)_cro:MCR', max=1000.0, sty…"
      ]
     },
     "metadata": {},
     "output_type": "display_data"
    },
    {
     "name": "stdout",
     "output_type": "stream",
     "text": [
      "\n"
     ]
    },
    {
     "data": {
      "application/vnd.jupyter.widget-view+json": {
       "model_id": "340cac60164e469dab446f1da0c4c99d",
       "version_major": 2,
       "version_minor": 0
      },
      "text/plain": [
       "HBox(children=(FloatProgress(value=0.0, description='Testing GO_mut:(cauchy1_extension)_cro:MCR', max=1000.0, …"
      ]
     },
     "metadata": {},
     "output_type": "display_data"
    },
    {
     "name": "stdout",
     "output_type": "stream",
     "text": [
      "\n"
     ]
    },
    {
     "data": {
      "application/vnd.jupyter.widget-view+json": {
       "model_id": "96ec3b954c4e445ea3137d95b18c93a5",
       "version_major": 2,
       "version_minor": 0
      },
      "text/plain": [
       "HBox(children=(FloatProgress(value=0.0, description='Testing GO_mut:(cauchy2_vanilla)_cro:MMCM', max=1000.0, s…"
      ]
     },
     "metadata": {},
     "output_type": "display_data"
    },
    {
     "name": "stdout",
     "output_type": "stream",
     "text": [
      "\n"
     ]
    },
    {
     "data": {
      "application/vnd.jupyter.widget-view+json": {
       "model_id": "94b415a2394f4f2885987b1d20f08e14",
       "version_major": 2,
       "version_minor": 0
      },
      "text/plain": [
       "HBox(children=(FloatProgress(value=0.0, description='Testing GO_mut:(cauchy2_mirror)_cro:MMCM', max=1000.0, st…"
      ]
     },
     "metadata": {},
     "output_type": "display_data"
    },
    {
     "name": "stdout",
     "output_type": "stream",
     "text": [
      "\n"
     ]
    },
    {
     "data": {
      "application/vnd.jupyter.widget-view+json": {
       "model_id": "85a4f04324244ed9b6ca07c9c65dff02",
       "version_major": 2,
       "version_minor": 0
      },
      "text/plain": [
       "HBox(children=(FloatProgress(value=0.0, description='Testing GO_mut:(cauchy2_extension)_cro:MMCM', max=1000.0,…"
      ]
     },
     "metadata": {},
     "output_type": "display_data"
    },
    {
     "name": "stdout",
     "output_type": "stream",
     "text": [
      "\n"
     ]
    },
    {
     "data": {
      "application/vnd.jupyter.widget-view+json": {
       "model_id": "2ef5bcc30e074b028892487bbf56e27e",
       "version_major": 2,
       "version_minor": 0
      },
      "text/plain": [
       "HBox(children=(FloatProgress(value=0.0, description='Testing GO_mut:(cauchy3_vanilla)_cro:MMCM', max=1000.0, s…"
      ]
     },
     "metadata": {},
     "output_type": "display_data"
    },
    {
     "name": "stdout",
     "output_type": "stream",
     "text": [
      "\n"
     ]
    },
    {
     "data": {
      "application/vnd.jupyter.widget-view+json": {
       "model_id": "b017536bd2e1452d9ba0b95e3776b69a",
       "version_major": 2,
       "version_minor": 0
      },
      "text/plain": [
       "HBox(children=(FloatProgress(value=0.0, description='Testing GO_mut:(cauchy3_mirror)_cro:MMCM', max=1000.0, st…"
      ]
     },
     "metadata": {},
     "output_type": "display_data"
    },
    {
     "name": "stdout",
     "output_type": "stream",
     "text": [
      "\n"
     ]
    },
    {
     "data": {
      "application/vnd.jupyter.widget-view+json": {
       "model_id": "4854a79f0d0d40dba4f623d2491b061b",
       "version_major": 2,
       "version_minor": 0
      },
      "text/plain": [
       "HBox(children=(FloatProgress(value=0.0, description='Testing GO_mut:(cauchy3_extension)_cro:MMCM', max=1000.0,…"
      ]
     },
     "metadata": {},
     "output_type": "display_data"
    },
    {
     "name": "stdout",
     "output_type": "stream",
     "text": [
      "\n"
     ]
    },
    {
     "data": {
      "application/vnd.jupyter.widget-view+json": {
       "model_id": "93b39324858946488c22890a5fb05446",
       "version_major": 2,
       "version_minor": 0
      },
      "text/plain": [
       "HBox(children=(FloatProgress(value=0.0, description='Testing GO_mut:(cauchy1_vanilla)_cro:MMCM', max=1000.0, s…"
      ]
     },
     "metadata": {},
     "output_type": "display_data"
    },
    {
     "name": "stdout",
     "output_type": "stream",
     "text": [
      "\n"
     ]
    },
    {
     "data": {
      "application/vnd.jupyter.widget-view+json": {
       "model_id": "9e71ff04807245e9919ade86b52f0b9c",
       "version_major": 2,
       "version_minor": 0
      },
      "text/plain": [
       "HBox(children=(FloatProgress(value=0.0, description='Testing GO_mut:(cauchy1_mirror)_cro:MMCM', max=1000.0, st…"
      ]
     },
     "metadata": {},
     "output_type": "display_data"
    },
    {
     "name": "stdout",
     "output_type": "stream",
     "text": [
      "\n"
     ]
    },
    {
     "data": {
      "application/vnd.jupyter.widget-view+json": {
       "model_id": "a332e83505304d2cb9448df892a7ef99",
       "version_major": 2,
       "version_minor": 0
      },
      "text/plain": [
       "HBox(children=(FloatProgress(value=0.0, description='Testing GO_mut:(cauchy1_extension)_cro:MMCM', max=1000.0,…"
      ]
     },
     "metadata": {},
     "output_type": "display_data"
    },
    {
     "name": "stdout",
     "output_type": "stream",
     "text": [
      "\n"
     ]
    },
    {
     "data": {
      "application/vnd.jupyter.widget-view+json": {
       "model_id": "4fe2b68263f44705af37e59d6db74fee",
       "version_major": 2,
       "version_minor": 0
      },
      "text/plain": [
       "HBox(children=(FloatProgress(value=0.0, description='Testing GO_mut:(cauchy2_vanilla)_cro:MMCR', max=1000.0, s…"
      ]
     },
     "metadata": {},
     "output_type": "display_data"
    },
    {
     "name": "stdout",
     "output_type": "stream",
     "text": [
      "\n"
     ]
    },
    {
     "data": {
      "application/vnd.jupyter.widget-view+json": {
       "model_id": "d6a310f9bfb74c8a8e150045a6b76e72",
       "version_major": 2,
       "version_minor": 0
      },
      "text/plain": [
       "HBox(children=(FloatProgress(value=0.0, description='Testing GO_mut:(cauchy2_mirror)_cro:MMCR', max=1000.0, st…"
      ]
     },
     "metadata": {},
     "output_type": "display_data"
    },
    {
     "name": "stdout",
     "output_type": "stream",
     "text": [
      "\n"
     ]
    },
    {
     "data": {
      "application/vnd.jupyter.widget-view+json": {
       "model_id": "f7bb772f28dd48f49dd8d9e1e74ab1ea",
       "version_major": 2,
       "version_minor": 0
      },
      "text/plain": [
       "HBox(children=(FloatProgress(value=0.0, description='Testing GO_mut:(cauchy2_extension)_cro:MMCR', max=1000.0,…"
      ]
     },
     "metadata": {},
     "output_type": "display_data"
    },
    {
     "name": "stdout",
     "output_type": "stream",
     "text": [
      "\n"
     ]
    },
    {
     "data": {
      "application/vnd.jupyter.widget-view+json": {
       "model_id": "e11953e13ccf4fb096f55c4a1e0e93a5",
       "version_major": 2,
       "version_minor": 0
      },
      "text/plain": [
       "HBox(children=(FloatProgress(value=0.0, description='Testing GO_mut:(cauchy3_vanilla)_cro:MMCR', max=1000.0, s…"
      ]
     },
     "metadata": {},
     "output_type": "display_data"
    },
    {
     "name": "stdout",
     "output_type": "stream",
     "text": [
      "\n"
     ]
    },
    {
     "data": {
      "application/vnd.jupyter.widget-view+json": {
       "model_id": "2d5ecd83759646b9a59edec8af99c825",
       "version_major": 2,
       "version_minor": 0
      },
      "text/plain": [
       "HBox(children=(FloatProgress(value=0.0, description='Testing GO_mut:(cauchy3_mirror)_cro:MMCR', max=1000.0, st…"
      ]
     },
     "metadata": {},
     "output_type": "display_data"
    },
    {
     "name": "stdout",
     "output_type": "stream",
     "text": [
      "\n"
     ]
    },
    {
     "data": {
      "application/vnd.jupyter.widget-view+json": {
       "model_id": "2c441b6b555d4b8ca838a7b351852f61",
       "version_major": 2,
       "version_minor": 0
      },
      "text/plain": [
       "HBox(children=(FloatProgress(value=0.0, description='Testing GO_mut:(cauchy3_extension)_cro:MMCR', max=1000.0,…"
      ]
     },
     "metadata": {},
     "output_type": "display_data"
    },
    {
     "name": "stdout",
     "output_type": "stream",
     "text": [
      "\n"
     ]
    },
    {
     "data": {
      "application/vnd.jupyter.widget-view+json": {
       "model_id": "f39bf66a15854f4e946e4e15cdd9bc66",
       "version_major": 2,
       "version_minor": 0
      },
      "text/plain": [
       "HBox(children=(FloatProgress(value=0.0, description='Testing GO_mut:(cauchy1_vanilla)_cro:MMCR', max=1000.0, s…"
      ]
     },
     "metadata": {},
     "output_type": "display_data"
    },
    {
     "name": "stdout",
     "output_type": "stream",
     "text": [
      "\n"
     ]
    },
    {
     "data": {
      "application/vnd.jupyter.widget-view+json": {
       "model_id": "df4a572f58c64e4fbda93d0fd993b388",
       "version_major": 2,
       "version_minor": 0
      },
      "text/plain": [
       "HBox(children=(FloatProgress(value=0.0, description='Testing GO_mut:(cauchy1_mirror)_cro:MMCR', max=1000.0, st…"
      ]
     },
     "metadata": {},
     "output_type": "display_data"
    },
    {
     "name": "stdout",
     "output_type": "stream",
     "text": [
      "\n"
     ]
    },
    {
     "data": {
      "application/vnd.jupyter.widget-view+json": {
       "model_id": "7b8e19915cf04a31a6e295e267ea1007",
       "version_major": 2,
       "version_minor": 0
      },
      "text/plain": [
       "HBox(children=(FloatProgress(value=0.0, description='Testing GO_mut:(cauchy1_extension)_cro:MMCR', max=1000.0,…"
      ]
     },
     "metadata": {},
     "output_type": "display_data"
    },
    {
     "name": "stdout",
     "output_type": "stream",
     "text": [
      "\n"
     ]
    },
    {
     "data": {
      "application/vnd.jupyter.widget-view+json": {
       "model_id": "907a5e9c31b84acf93194a7f49d8c872",
       "version_major": 2,
       "version_minor": 0
      },
      "text/plain": [
       "HBox(children=(FloatProgress(value=0.0, description='Testing GO_mut:(cauchy2_vanilla)_cro:mix', max=1000.0, st…"
      ]
     },
     "metadata": {},
     "output_type": "display_data"
    },
    {
     "name": "stdout",
     "output_type": "stream",
     "text": [
      "\n"
     ]
    },
    {
     "data": {
      "application/vnd.jupyter.widget-view+json": {
       "model_id": "e48b28f7c02448629ca4718c7d83c6d6",
       "version_major": 2,
       "version_minor": 0
      },
      "text/plain": [
       "HBox(children=(FloatProgress(value=0.0, description='Testing GO_mut:(cauchy2_mirror)_cro:mix', max=1000.0, sty…"
      ]
     },
     "metadata": {},
     "output_type": "display_data"
    },
    {
     "name": "stdout",
     "output_type": "stream",
     "text": [
      "\n"
     ]
    },
    {
     "data": {
      "application/vnd.jupyter.widget-view+json": {
       "model_id": "3c1175fce45a47d780b4c3679424c41f",
       "version_major": 2,
       "version_minor": 0
      },
      "text/plain": [
       "HBox(children=(FloatProgress(value=0.0, description='Testing GO_mut:(cauchy2_extension)_cro:mix', max=1000.0, …"
      ]
     },
     "metadata": {},
     "output_type": "display_data"
    },
    {
     "name": "stdout",
     "output_type": "stream",
     "text": [
      "\n"
     ]
    },
    {
     "data": {
      "application/vnd.jupyter.widget-view+json": {
       "model_id": "78fc8b12fef04b5682a610f3a905dda6",
       "version_major": 2,
       "version_minor": 0
      },
      "text/plain": [
       "HBox(children=(FloatProgress(value=0.0, description='Testing GO_mut:(cauchy3_vanilla)_cro:mix', max=1000.0, st…"
      ]
     },
     "metadata": {},
     "output_type": "display_data"
    },
    {
     "name": "stdout",
     "output_type": "stream",
     "text": [
      "\n"
     ]
    },
    {
     "data": {
      "application/vnd.jupyter.widget-view+json": {
       "model_id": "20827a7e234440588ea9dfff852f263f",
       "version_major": 2,
       "version_minor": 0
      },
      "text/plain": [
       "HBox(children=(FloatProgress(value=0.0, description='Testing GO_mut:(cauchy3_mirror)_cro:mix', max=1000.0, sty…"
      ]
     },
     "metadata": {},
     "output_type": "display_data"
    },
    {
     "name": "stdout",
     "output_type": "stream",
     "text": [
      "\n"
     ]
    },
    {
     "data": {
      "application/vnd.jupyter.widget-view+json": {
       "model_id": "ab701ee330314a66a508cdaaaff1a75a",
       "version_major": 2,
       "version_minor": 0
      },
      "text/plain": [
       "HBox(children=(FloatProgress(value=0.0, description='Testing GO_mut:(cauchy3_extension)_cro:mix', max=1000.0, …"
      ]
     },
     "metadata": {},
     "output_type": "display_data"
    },
    {
     "name": "stdout",
     "output_type": "stream",
     "text": [
      "\n"
     ]
    },
    {
     "data": {
      "application/vnd.jupyter.widget-view+json": {
       "model_id": "9a61d41a5c6a4e7391dc2697e7280264",
       "version_major": 2,
       "version_minor": 0
      },
      "text/plain": [
       "HBox(children=(FloatProgress(value=0.0, description='Testing GO_mut:(cauchy1_vanilla)_cro:mix', max=1000.0, st…"
      ]
     },
     "metadata": {},
     "output_type": "display_data"
    },
    {
     "name": "stdout",
     "output_type": "stream",
     "text": [
      "\n"
     ]
    },
    {
     "data": {
      "application/vnd.jupyter.widget-view+json": {
       "model_id": "9711a0a4c8cf4a8198f298d0589716a1",
       "version_major": 2,
       "version_minor": 0
      },
      "text/plain": [
       "HBox(children=(FloatProgress(value=0.0, description='Testing GO_mut:(cauchy1_mirror)_cro:mix', max=1000.0, sty…"
      ]
     },
     "metadata": {},
     "output_type": "display_data"
    },
    {
     "name": "stdout",
     "output_type": "stream",
     "text": [
      "\n"
     ]
    },
    {
     "data": {
      "application/vnd.jupyter.widget-view+json": {
       "model_id": "2b7f9fc086184624bd38c1d8ff9f4912",
       "version_major": 2,
       "version_minor": 0
      },
      "text/plain": [
       "HBox(children=(FloatProgress(value=0.0, description='Testing GO_mut:(cauchy1_extension)_cro:mix', max=1000.0, …"
      ]
     },
     "metadata": {},
     "output_type": "display_data"
    },
    {
     "name": "stdout",
     "output_type": "stream",
     "text": [
      "\n"
     ]
    },
    {
     "data": {
      "application/vnd.jupyter.widget-view+json": {
       "model_id": "97b8724100e145ce83ad939e8f755900",
       "version_major": 2,
       "version_minor": 0
      },
      "text/plain": [
       "HBox(children=(FloatProgress(value=0.0, description='Testing GO_mut:(cauchy2_vanilla)_cro:rnd', max=1000.0, st…"
      ]
     },
     "metadata": {},
     "output_type": "display_data"
    },
    {
     "name": "stdout",
     "output_type": "stream",
     "text": [
      "\n"
     ]
    },
    {
     "data": {
      "application/vnd.jupyter.widget-view+json": {
       "model_id": "e60329f08aba4146be2685d8ef4ba36f",
       "version_major": 2,
       "version_minor": 0
      },
      "text/plain": [
       "HBox(children=(FloatProgress(value=0.0, description='Testing GO_mut:(cauchy2_mirror)_cro:rnd', max=1000.0, sty…"
      ]
     },
     "metadata": {},
     "output_type": "display_data"
    },
    {
     "name": "stdout",
     "output_type": "stream",
     "text": [
      "\n"
     ]
    },
    {
     "data": {
      "application/vnd.jupyter.widget-view+json": {
       "model_id": "6eb7a06595d943f38902efef3de3ead1",
       "version_major": 2,
       "version_minor": 0
      },
      "text/plain": [
       "HBox(children=(FloatProgress(value=0.0, description='Testing GO_mut:(cauchy2_extension)_cro:rnd', max=1000.0, …"
      ]
     },
     "metadata": {},
     "output_type": "display_data"
    },
    {
     "name": "stdout",
     "output_type": "stream",
     "text": [
      "\n"
     ]
    },
    {
     "data": {
      "application/vnd.jupyter.widget-view+json": {
       "model_id": "14ca44072bf9419e81ae459e4229292a",
       "version_major": 2,
       "version_minor": 0
      },
      "text/plain": [
       "HBox(children=(FloatProgress(value=0.0, description='Testing GO_mut:(cauchy3_vanilla)_cro:rnd', max=1000.0, st…"
      ]
     },
     "metadata": {},
     "output_type": "display_data"
    },
    {
     "name": "stdout",
     "output_type": "stream",
     "text": [
      "\n"
     ]
    },
    {
     "data": {
      "application/vnd.jupyter.widget-view+json": {
       "model_id": "1b42ffbd841a45e98d67d738e6a557ab",
       "version_major": 2,
       "version_minor": 0
      },
      "text/plain": [
       "HBox(children=(FloatProgress(value=0.0, description='Testing GO_mut:(cauchy3_mirror)_cro:rnd', max=1000.0, sty…"
      ]
     },
     "metadata": {},
     "output_type": "display_data"
    },
    {
     "name": "stdout",
     "output_type": "stream",
     "text": [
      "\n"
     ]
    },
    {
     "data": {
      "application/vnd.jupyter.widget-view+json": {
       "model_id": "b48116fe02784d56a804a8988d38d968",
       "version_major": 2,
       "version_minor": 0
      },
      "text/plain": [
       "HBox(children=(FloatProgress(value=0.0, description='Testing GO_mut:(cauchy3_extension)_cro:rnd', max=1000.0, …"
      ]
     },
     "metadata": {},
     "output_type": "display_data"
    },
    {
     "name": "stdout",
     "output_type": "stream",
     "text": [
      "\n"
     ]
    },
    {
     "data": {
      "application/vnd.jupyter.widget-view+json": {
       "model_id": "8463aba1bf2f4d16a735b88b6a1c669e",
       "version_major": 2,
       "version_minor": 0
      },
      "text/plain": [
       "HBox(children=(FloatProgress(value=0.0, description='Testing GO_mut:(cauchy1_vanilla)_cro:rnd', max=1000.0, st…"
      ]
     },
     "metadata": {},
     "output_type": "display_data"
    },
    {
     "name": "stdout",
     "output_type": "stream",
     "text": [
      "\n"
     ]
    },
    {
     "data": {
      "application/vnd.jupyter.widget-view+json": {
       "model_id": "6be3c25891a843c1b8996d91454e4929",
       "version_major": 2,
       "version_minor": 0
      },
      "text/plain": [
       "HBox(children=(FloatProgress(value=0.0, description='Testing GO_mut:(cauchy1_mirror)_cro:rnd', max=1000.0, sty…"
      ]
     },
     "metadata": {},
     "output_type": "display_data"
    },
    {
     "name": "stdout",
     "output_type": "stream",
     "text": [
      "\n"
     ]
    },
    {
     "data": {
      "application/vnd.jupyter.widget-view+json": {
       "model_id": "9ffb9e0a83b648d19ac33772c38c5d4a",
       "version_major": 2,
       "version_minor": 0
      },
      "text/plain": [
       "HBox(children=(FloatProgress(value=0.0, description='Testing GO_mut:(cauchy1_extension)_cro:rnd', max=1000.0, …"
      ]
     },
     "metadata": {},
     "output_type": "display_data"
    },
    {
     "name": "stdout",
     "output_type": "stream",
     "text": [
      "\n"
     ]
    },
    {
     "data": {
      "application/vnd.jupyter.widget-view+json": {
       "model_id": "f8118891b09a4abfa62dc276737f2f24",
       "version_major": 2,
       "version_minor": 0
      },
      "text/plain": [
       "HBox(children=(FloatProgress(value=0.0, description='Testing GO_mut:(cauchy2_vanilla)_cro:uni1', max=1000.0, s…"
      ]
     },
     "metadata": {},
     "output_type": "display_data"
    },
    {
     "name": "stdout",
     "output_type": "stream",
     "text": [
      "\n"
     ]
    },
    {
     "data": {
      "application/vnd.jupyter.widget-view+json": {
       "model_id": "2411cdf417d14dfe91a8ee4f78bb09d8",
       "version_major": 2,
       "version_minor": 0
      },
      "text/plain": [
       "HBox(children=(FloatProgress(value=0.0, description='Testing GO_mut:(cauchy2_mirror)_cro:uni1', max=1000.0, st…"
      ]
     },
     "metadata": {},
     "output_type": "display_data"
    },
    {
     "name": "stdout",
     "output_type": "stream",
     "text": [
      "\n"
     ]
    },
    {
     "data": {
      "application/vnd.jupyter.widget-view+json": {
       "model_id": "7d43dad6bbb24a8c8b1ef6ec158df780",
       "version_major": 2,
       "version_minor": 0
      },
      "text/plain": [
       "HBox(children=(FloatProgress(value=0.0, description='Testing GO_mut:(cauchy2_extension)_cro:uni1', max=1000.0,…"
      ]
     },
     "metadata": {},
     "output_type": "display_data"
    },
    {
     "name": "stdout",
     "output_type": "stream",
     "text": [
      "\n"
     ]
    },
    {
     "data": {
      "application/vnd.jupyter.widget-view+json": {
       "model_id": "c5a4f33fd44445308c5d761abef7e351",
       "version_major": 2,
       "version_minor": 0
      },
      "text/plain": [
       "HBox(children=(FloatProgress(value=0.0, description='Testing GO_mut:(cauchy3_vanilla)_cro:uni1', max=1000.0, s…"
      ]
     },
     "metadata": {},
     "output_type": "display_data"
    },
    {
     "name": "stdout",
     "output_type": "stream",
     "text": [
      "\n"
     ]
    },
    {
     "data": {
      "application/vnd.jupyter.widget-view+json": {
       "model_id": "940da7eab1e8456095d6abdcd2e9b0c5",
       "version_major": 2,
       "version_minor": 0
      },
      "text/plain": [
       "HBox(children=(FloatProgress(value=0.0, description='Testing GO_mut:(cauchy3_mirror)_cro:uni1', max=1000.0, st…"
      ]
     },
     "metadata": {},
     "output_type": "display_data"
    },
    {
     "name": "stdout",
     "output_type": "stream",
     "text": [
      "\n"
     ]
    },
    {
     "data": {
      "application/vnd.jupyter.widget-view+json": {
       "model_id": "3b445baba4584ce49c0e2c5722e88c13",
       "version_major": 2,
       "version_minor": 0
      },
      "text/plain": [
       "HBox(children=(FloatProgress(value=0.0, description='Testing GO_mut:(cauchy3_extension)_cro:uni1', max=1000.0,…"
      ]
     },
     "metadata": {},
     "output_type": "display_data"
    },
    {
     "name": "stdout",
     "output_type": "stream",
     "text": [
      "\n"
     ]
    },
    {
     "data": {
      "application/vnd.jupyter.widget-view+json": {
       "model_id": "b622985037e0426bab83927fcbfcca33",
       "version_major": 2,
       "version_minor": 0
      },
      "text/plain": [
       "HBox(children=(FloatProgress(value=0.0, description='Testing GO_mut:(cauchy1_vanilla)_cro:uni1', max=1000.0, s…"
      ]
     },
     "metadata": {},
     "output_type": "display_data"
    },
    {
     "name": "stdout",
     "output_type": "stream",
     "text": [
      "\n"
     ]
    },
    {
     "data": {
      "application/vnd.jupyter.widget-view+json": {
       "model_id": "e7b9ddc45f7a43a792c3f642c91f0a1e",
       "version_major": 2,
       "version_minor": 0
      },
      "text/plain": [
       "HBox(children=(FloatProgress(value=0.0, description='Testing GO_mut:(cauchy1_mirror)_cro:uni1', max=1000.0, st…"
      ]
     },
     "metadata": {},
     "output_type": "display_data"
    },
    {
     "name": "stdout",
     "output_type": "stream",
     "text": [
      "\n"
     ]
    },
    {
     "data": {
      "application/vnd.jupyter.widget-view+json": {
       "model_id": "cf3285e729ac4bc693eca8585d83e95b",
       "version_major": 2,
       "version_minor": 0
      },
      "text/plain": [
       "HBox(children=(FloatProgress(value=0.0, description='Testing GO_mut:(cauchy1_extension)_cro:uni1', max=1000.0,…"
      ]
     },
     "metadata": {},
     "output_type": "display_data"
    },
    {
     "name": "stdout",
     "output_type": "stream",
     "text": [
      "\n"
     ]
    },
    {
     "data": {
      "application/vnd.jupyter.widget-view+json": {
       "model_id": "502d63f3c08f4835ba680865804e16a1",
       "version_major": 2,
       "version_minor": 0
      },
      "text/plain": [
       "HBox(children=(FloatProgress(value=0.0, description='Testing GO_mut:(cauchy2_vanilla)_cro:uni2', max=1000.0, s…"
      ]
     },
     "metadata": {},
     "output_type": "display_data"
    },
    {
     "name": "stdout",
     "output_type": "stream",
     "text": [
      "\n"
     ]
    },
    {
     "data": {
      "application/vnd.jupyter.widget-view+json": {
       "model_id": "a5bea27f8fe7479e88e73aad580c04e9",
       "version_major": 2,
       "version_minor": 0
      },
      "text/plain": [
       "HBox(children=(FloatProgress(value=0.0, description='Testing GO_mut:(cauchy2_mirror)_cro:uni2', max=1000.0, st…"
      ]
     },
     "metadata": {},
     "output_type": "display_data"
    },
    {
     "name": "stdout",
     "output_type": "stream",
     "text": [
      "\n"
     ]
    },
    {
     "data": {
      "application/vnd.jupyter.widget-view+json": {
       "model_id": "74fc41a31fb44c088ba6827bcbcd2d92",
       "version_major": 2,
       "version_minor": 0
      },
      "text/plain": [
       "HBox(children=(FloatProgress(value=0.0, description='Testing GO_mut:(cauchy2_extension)_cro:uni2', max=1000.0,…"
      ]
     },
     "metadata": {},
     "output_type": "display_data"
    },
    {
     "name": "stdout",
     "output_type": "stream",
     "text": [
      "\n"
     ]
    },
    {
     "data": {
      "application/vnd.jupyter.widget-view+json": {
       "model_id": "6581a2df2524482a9b1f92178e22a716",
       "version_major": 2,
       "version_minor": 0
      },
      "text/plain": [
       "HBox(children=(FloatProgress(value=0.0, description='Testing GO_mut:(cauchy3_vanilla)_cro:uni2', max=1000.0, s…"
      ]
     },
     "metadata": {},
     "output_type": "display_data"
    },
    {
     "name": "stdout",
     "output_type": "stream",
     "text": [
      "\n"
     ]
    },
    {
     "data": {
      "application/vnd.jupyter.widget-view+json": {
       "model_id": "88f37b3f753f479ea09e14c4590dc1d8",
       "version_major": 2,
       "version_minor": 0
      },
      "text/plain": [
       "HBox(children=(FloatProgress(value=0.0, description='Testing GO_mut:(cauchy3_mirror)_cro:uni2', max=1000.0, st…"
      ]
     },
     "metadata": {},
     "output_type": "display_data"
    },
    {
     "name": "stdout",
     "output_type": "stream",
     "text": [
      "\n"
     ]
    },
    {
     "data": {
      "application/vnd.jupyter.widget-view+json": {
       "model_id": "311f520471604fcf81685c4c95929700",
       "version_major": 2,
       "version_minor": 0
      },
      "text/plain": [
       "HBox(children=(FloatProgress(value=0.0, description='Testing GO_mut:(cauchy3_extension)_cro:uni2', max=1000.0,…"
      ]
     },
     "metadata": {},
     "output_type": "display_data"
    },
    {
     "name": "stdout",
     "output_type": "stream",
     "text": [
      "\n"
     ]
    },
    {
     "data": {
      "application/vnd.jupyter.widget-view+json": {
       "model_id": "af7ec5b9730d4e889b97f405cf9d32ae",
       "version_major": 2,
       "version_minor": 0
      },
      "text/plain": [
       "HBox(children=(FloatProgress(value=0.0, description='Testing GO_mut:(cauchy1_vanilla)_cro:uni2', max=1000.0, s…"
      ]
     },
     "metadata": {},
     "output_type": "display_data"
    },
    {
     "name": "stdout",
     "output_type": "stream",
     "text": [
      "\n"
     ]
    },
    {
     "data": {
      "application/vnd.jupyter.widget-view+json": {
       "model_id": "0fe28c0ac056430dae061df2e6eee58d",
       "version_major": 2,
       "version_minor": 0
      },
      "text/plain": [
       "HBox(children=(FloatProgress(value=0.0, description='Testing GO_mut:(cauchy1_mirror)_cro:uni2', max=1000.0, st…"
      ]
     },
     "metadata": {},
     "output_type": "display_data"
    },
    {
     "name": "stdout",
     "output_type": "stream",
     "text": [
      "\n"
     ]
    },
    {
     "data": {
      "application/vnd.jupyter.widget-view+json": {
       "model_id": "23356722d6864c75932f2a83e307e9ba",
       "version_major": 2,
       "version_minor": 0
      },
      "text/plain": [
       "HBox(children=(FloatProgress(value=0.0, description='Testing GO_mut:(cauchy1_extension)_cro:uni2', max=1000.0,…"
      ]
     },
     "metadata": {},
     "output_type": "display_data"
    },
    {
     "name": "stdout",
     "output_type": "stream",
     "text": [
      "\n"
     ]
    },
    {
     "data": {
      "application/vnd.jupyter.widget-view+json": {
       "model_id": "925fc922f5e74a8e9dba005fc13ef765",
       "version_major": 2,
       "version_minor": 0
      },
      "text/plain": [
       "HBox(children=(FloatProgress(value=0.0, description='Testing GO_mut:(cauchy2_vanilla)_cro:uni3', max=1000.0, s…"
      ]
     },
     "metadata": {},
     "output_type": "display_data"
    },
    {
     "name": "stdout",
     "output_type": "stream",
     "text": [
      "\n"
     ]
    },
    {
     "data": {
      "application/vnd.jupyter.widget-view+json": {
       "model_id": "3afda95934af4fe793ec95422af7d3eb",
       "version_major": 2,
       "version_minor": 0
      },
      "text/plain": [
       "HBox(children=(FloatProgress(value=0.0, description='Testing GO_mut:(cauchy2_mirror)_cro:uni3', max=1000.0, st…"
      ]
     },
     "metadata": {},
     "output_type": "display_data"
    },
    {
     "name": "stdout",
     "output_type": "stream",
     "text": [
      "\n"
     ]
    },
    {
     "data": {
      "application/vnd.jupyter.widget-view+json": {
       "model_id": "17873b9f29764c4da19b9ea695f1aee8",
       "version_major": 2,
       "version_minor": 0
      },
      "text/plain": [
       "HBox(children=(FloatProgress(value=0.0, description='Testing GO_mut:(cauchy2_extension)_cro:uni3', max=1000.0,…"
      ]
     },
     "metadata": {},
     "output_type": "display_data"
    },
    {
     "name": "stdout",
     "output_type": "stream",
     "text": [
      "\n"
     ]
    },
    {
     "data": {
      "application/vnd.jupyter.widget-view+json": {
       "model_id": "ca49bc89da5147b4beead94f7952dced",
       "version_major": 2,
       "version_minor": 0
      },
      "text/plain": [
       "HBox(children=(FloatProgress(value=0.0, description='Testing GO_mut:(cauchy3_vanilla)_cro:uni3', max=1000.0, s…"
      ]
     },
     "metadata": {},
     "output_type": "display_data"
    },
    {
     "name": "stdout",
     "output_type": "stream",
     "text": [
      "\n"
     ]
    },
    {
     "data": {
      "application/vnd.jupyter.widget-view+json": {
       "model_id": "8e57474dfdab4c86870630ee60e2c116",
       "version_major": 2,
       "version_minor": 0
      },
      "text/plain": [
       "HBox(children=(FloatProgress(value=0.0, description='Testing GO_mut:(cauchy3_mirror)_cro:uni3', max=1000.0, st…"
      ]
     },
     "metadata": {},
     "output_type": "display_data"
    },
    {
     "name": "stdout",
     "output_type": "stream",
     "text": [
      "\n"
     ]
    },
    {
     "data": {
      "application/vnd.jupyter.widget-view+json": {
       "model_id": "6f446d5f416245858cd24b05e216954e",
       "version_major": 2,
       "version_minor": 0
      },
      "text/plain": [
       "HBox(children=(FloatProgress(value=0.0, description='Testing GO_mut:(cauchy3_extension)_cro:uni3', max=1000.0,…"
      ]
     },
     "metadata": {},
     "output_type": "display_data"
    },
    {
     "name": "stdout",
     "output_type": "stream",
     "text": [
      "\n"
     ]
    },
    {
     "data": {
      "application/vnd.jupyter.widget-view+json": {
       "model_id": "fc371d5b56f744e398600a911fe4552e",
       "version_major": 2,
       "version_minor": 0
      },
      "text/plain": [
       "HBox(children=(FloatProgress(value=0.0, description='Testing GO_mut:(cauchy1_vanilla)_cro:uni3', max=1000.0, s…"
      ]
     },
     "metadata": {},
     "output_type": "display_data"
    },
    {
     "name": "stdout",
     "output_type": "stream",
     "text": [
      "\n"
     ]
    },
    {
     "data": {
      "application/vnd.jupyter.widget-view+json": {
       "model_id": "9a24f9241a224786923096c6a8b50428",
       "version_major": 2,
       "version_minor": 0
      },
      "text/plain": [
       "HBox(children=(FloatProgress(value=0.0, description='Testing GO_mut:(cauchy1_mirror)_cro:uni3', max=1000.0, st…"
      ]
     },
     "metadata": {},
     "output_type": "display_data"
    },
    {
     "name": "stdout",
     "output_type": "stream",
     "text": [
      "\n"
     ]
    },
    {
     "data": {
      "application/vnd.jupyter.widget-view+json": {
       "model_id": "9b3eba1404c8469b9ea0bdeecfa7760b",
       "version_major": 2,
       "version_minor": 0
      },
      "text/plain": [
       "HBox(children=(FloatProgress(value=0.0, description='Testing GO_mut:(cauchy1_extension)_cro:uni3', max=1000.0,…"
      ]
     },
     "metadata": {},
     "output_type": "display_data"
    },
    {
     "name": "stdout",
     "output_type": "stream",
     "text": [
      "\n"
     ]
    }
   ],
   "source": [
    "results = pd.DataFrame()\n",
    "for crossover in crossovers:\n",
    "    for mutation in mutations:\n",
    "        heur_name = 'GO_mut:({})_cro:{}'.format(mutation['name'], crossover['name'])\n",
    "        runs = []\n",
    "        for i in tqdm(range(NUM_RUNS), 'Testing {}'.format(heur_name)):\n",
    "            run = GeneticOptimization(tsp, maxeval, N=5, M=15, Tsel1=1.0, Tsel2=0.5, \n",
    "                                      mutation=mutation['mutation'],\n",
    "                                      crossover=crossover['crossover']).search()\n",
    "            run['run'] = i\n",
    "            run['heur'] = heur_name\n",
    "            run['mutation'] = mutation['name']\n",
    "            run['crossover'] = crossover['name']\n",
    "            runs.append(run)\n",
    "\n",
    "        res_df = pd.DataFrame(runs, columns=['heur', 'run', 'mutation', 'crossover','best_x', 'best_y', 'neval'])\n",
    "        results = pd.concat([results, res_df], axis=0)"
   ]
  },
  {
   "cell_type": "code",
   "execution_count": 7,
   "metadata": {},
   "outputs": [],
   "source": [
    "import dill\n",
    "dill.load_session('heur_3.db')"
   ]
  },
  {
   "cell_type": "code",
   "execution_count": 8,
   "metadata": {},
   "outputs": [],
   "source": [
    "def rel(x):\n",
    "    return len([n for n in x if n < np.inf])/len(x)\n",
    "def mne(x):\n",
    "    return np.mean([n for n in x if n < np.inf])\n",
    "def feo(x):\n",
    "    return mne(x)/rel(x)"
   ]
  },
  {
   "cell_type": "code",
   "execution_count": 9,
   "metadata": {},
   "outputs": [
    {
     "name": "stderr",
     "output_type": "stream",
     "text": [
      "/home/benjamin/anaconda3/lib/python3.7/site-packages/numpy/core/fromnumeric.py:3335: RuntimeWarning: Mean of empty slice.\n",
      "  out=out, **kwargs)\n",
      "/home/benjamin/anaconda3/lib/python3.7/site-packages/numpy/core/_methods.py:161: RuntimeWarning: invalid value encountered in double_scalars\n",
      "  ret = ret.dtype.type(ret / rcount)\n"
     ]
    },
    {
     "data": {
      "text/html": [
       "<div>\n",
       "<style scoped>\n",
       "    .dataframe tbody tr th:only-of-type {\n",
       "        vertical-align: middle;\n",
       "    }\n",
       "\n",
       "    .dataframe tbody tr th {\n",
       "        vertical-align: top;\n",
       "    }\n",
       "\n",
       "    .dataframe thead th {\n",
       "        text-align: right;\n",
       "    }\n",
       "</style>\n",
       "<table border=\"1\" class=\"dataframe\">\n",
       "  <thead>\n",
       "    <tr style=\"text-align: right;\">\n",
       "      <th></th>\n",
       "      <th>heur</th>\n",
       "      <th>mutation</th>\n",
       "      <th>crossover</th>\n",
       "      <th>feo</th>\n",
       "      <th>mne</th>\n",
       "      <th>rel</th>\n",
       "    </tr>\n",
       "  </thead>\n",
       "  <tbody>\n",
       "    <tr>\n",
       "      <th>24</th>\n",
       "      <td>GO_mut:(cauchy1_vanilla)_cro:uni1</td>\n",
       "      <td>cauchy1_vanilla</td>\n",
       "      <td>uni1</td>\n",
       "      <td>266.118172</td>\n",
       "      <td>58.013761</td>\n",
       "      <td>0.218</td>\n",
       "    </tr>\n",
       "    <tr>\n",
       "      <th>18</th>\n",
       "      <td>GO_mut:(cauchy1_vanilla)_cro:MCM</td>\n",
       "      <td>cauchy1_vanilla</td>\n",
       "      <td>MCM</td>\n",
       "      <td>273.333333</td>\n",
       "      <td>57.400000</td>\n",
       "      <td>0.210</td>\n",
       "    </tr>\n",
       "    <tr>\n",
       "      <th>23</th>\n",
       "      <td>GO_mut:(cauchy1_vanilla)_cro:rnd</td>\n",
       "      <td>cauchy1_vanilla</td>\n",
       "      <td>rnd</td>\n",
       "      <td>283.431418</td>\n",
       "      <td>60.370892</td>\n",
       "      <td>0.213</td>\n",
       "    </tr>\n",
       "    <tr>\n",
       "      <th>22</th>\n",
       "      <td>GO_mut:(cauchy1_vanilla)_cro:mix</td>\n",
       "      <td>cauchy1_vanilla</td>\n",
       "      <td>mix</td>\n",
       "      <td>290.320951</td>\n",
       "      <td>57.773869</td>\n",
       "      <td>0.199</td>\n",
       "    </tr>\n",
       "    <tr>\n",
       "      <th>25</th>\n",
       "      <td>GO_mut:(cauchy1_vanilla)_cro:uni2</td>\n",
       "      <td>cauchy1_vanilla</td>\n",
       "      <td>uni2</td>\n",
       "      <td>296.257894</td>\n",
       "      <td>61.029126</td>\n",
       "      <td>0.206</td>\n",
       "    </tr>\n",
       "    <tr>\n",
       "      <th>26</th>\n",
       "      <td>GO_mut:(cauchy1_vanilla)_cro:uni3</td>\n",
       "      <td>cauchy1_vanilla</td>\n",
       "      <td>uni3</td>\n",
       "      <td>302.113583</td>\n",
       "      <td>60.120603</td>\n",
       "      <td>0.199</td>\n",
       "    </tr>\n",
       "    <tr>\n",
       "      <th>72</th>\n",
       "      <td>GO_mut:(cauchy3_vanilla)_cro:MCM</td>\n",
       "      <td>cauchy3_vanilla</td>\n",
       "      <td>MCM</td>\n",
       "      <td>308.767347</td>\n",
       "      <td>54.034286</td>\n",
       "      <td>0.175</td>\n",
       "    </tr>\n",
       "    <tr>\n",
       "      <th>45</th>\n",
       "      <td>GO_mut:(cauchy2_vanilla)_cro:MCM</td>\n",
       "      <td>cauchy2_vanilla</td>\n",
       "      <td>MCM</td>\n",
       "      <td>323.982784</td>\n",
       "      <td>58.640884</td>\n",
       "      <td>0.181</td>\n",
       "    </tr>\n",
       "    <tr>\n",
       "      <th>80</th>\n",
       "      <td>GO_mut:(cauchy3_vanilla)_cro:uni3</td>\n",
       "      <td>cauchy3_vanilla</td>\n",
       "      <td>uni3</td>\n",
       "      <td>334.278435</td>\n",
       "      <td>52.147436</td>\n",
       "      <td>0.156</td>\n",
       "    </tr>\n",
       "    <tr>\n",
       "      <th>50</th>\n",
       "      <td>GO_mut:(cauchy2_vanilla)_cro:rnd</td>\n",
       "      <td>cauchy2_vanilla</td>\n",
       "      <td>rnd</td>\n",
       "      <td>339.906196</td>\n",
       "      <td>59.143678</td>\n",
       "      <td>0.174</td>\n",
       "    </tr>\n",
       "    <tr>\n",
       "      <th>49</th>\n",
       "      <td>GO_mut:(cauchy2_vanilla)_cro:mix</td>\n",
       "      <td>cauchy2_vanilla</td>\n",
       "      <td>mix</td>\n",
       "      <td>345.450680</td>\n",
       "      <td>58.035714</td>\n",
       "      <td>0.168</td>\n",
       "    </tr>\n",
       "    <tr>\n",
       "      <th>53</th>\n",
       "      <td>GO_mut:(cauchy2_vanilla)_cro:uni3</td>\n",
       "      <td>cauchy2_vanilla</td>\n",
       "      <td>uni3</td>\n",
       "      <td>348.412170</td>\n",
       "      <td>58.881657</td>\n",
       "      <td>0.169</td>\n",
       "    </tr>\n",
       "    <tr>\n",
       "      <th>51</th>\n",
       "      <td>GO_mut:(cauchy2_vanilla)_cro:uni1</td>\n",
       "      <td>cauchy2_vanilla</td>\n",
       "      <td>uni1</td>\n",
       "      <td>351.523438</td>\n",
       "      <td>56.243750</td>\n",
       "      <td>0.160</td>\n",
       "    </tr>\n",
       "    <tr>\n",
       "      <th>77</th>\n",
       "      <td>GO_mut:(cauchy3_vanilla)_cro:rnd</td>\n",
       "      <td>cauchy3_vanilla</td>\n",
       "      <td>rnd</td>\n",
       "      <td>356.513379</td>\n",
       "      <td>56.329114</td>\n",
       "      <td>0.158</td>\n",
       "    </tr>\n",
       "    <tr>\n",
       "      <th>19</th>\n",
       "      <td>GO_mut:(cauchy1_vanilla)_cro:MCR</td>\n",
       "      <td>cauchy1_vanilla</td>\n",
       "      <td>MCR</td>\n",
       "      <td>378.574951</td>\n",
       "      <td>59.057692</td>\n",
       "      <td>0.156</td>\n",
       "    </tr>\n",
       "    <tr>\n",
       "      <th>79</th>\n",
       "      <td>GO_mut:(cauchy3_vanilla)_cro:uni2</td>\n",
       "      <td>cauchy3_vanilla</td>\n",
       "      <td>uni2</td>\n",
       "      <td>381.822222</td>\n",
       "      <td>57.273333</td>\n",
       "      <td>0.150</td>\n",
       "    </tr>\n",
       "    <tr>\n",
       "      <th>76</th>\n",
       "      <td>GO_mut:(cauchy3_vanilla)_cro:mix</td>\n",
       "      <td>cauchy3_vanilla</td>\n",
       "      <td>mix</td>\n",
       "      <td>382.717208</td>\n",
       "      <td>55.876712</td>\n",
       "      <td>0.146</td>\n",
       "    </tr>\n",
       "    <tr>\n",
       "      <th>46</th>\n",
       "      <td>GO_mut:(cauchy2_vanilla)_cro:MCR</td>\n",
       "      <td>cauchy2_vanilla</td>\n",
       "      <td>MCR</td>\n",
       "      <td>385.306972</td>\n",
       "      <td>59.722581</td>\n",
       "      <td>0.155</td>\n",
       "    </tr>\n",
       "    <tr>\n",
       "      <th>78</th>\n",
       "      <td>GO_mut:(cauchy3_vanilla)_cro:uni1</td>\n",
       "      <td>cauchy3_vanilla</td>\n",
       "      <td>uni1</td>\n",
       "      <td>398.183155</td>\n",
       "      <td>54.949275</td>\n",
       "      <td>0.138</td>\n",
       "    </tr>\n",
       "    <tr>\n",
       "      <th>52</th>\n",
       "      <td>GO_mut:(cauchy2_vanilla)_cro:uni2</td>\n",
       "      <td>cauchy2_vanilla</td>\n",
       "      <td>uni2</td>\n",
       "      <td>412.448204</td>\n",
       "      <td>63.104575</td>\n",
       "      <td>0.153</td>\n",
       "    </tr>\n",
       "    <tr>\n",
       "      <th>47</th>\n",
       "      <td>GO_mut:(cauchy2_vanilla)_cro:MMCM</td>\n",
       "      <td>cauchy2_vanilla</td>\n",
       "      <td>MMCM</td>\n",
       "      <td>423.952887</td>\n",
       "      <td>54.689922</td>\n",
       "      <td>0.129</td>\n",
       "    </tr>\n",
       "    <tr>\n",
       "      <th>74</th>\n",
       "      <td>GO_mut:(cauchy3_vanilla)_cro:MMCM</td>\n",
       "      <td>cauchy3_vanilla</td>\n",
       "      <td>MMCM</td>\n",
       "      <td>429.940828</td>\n",
       "      <td>55.892308</td>\n",
       "      <td>0.130</td>\n",
       "    </tr>\n",
       "    <tr>\n",
       "      <th>73</th>\n",
       "      <td>GO_mut:(cauchy3_vanilla)_cro:MCR</td>\n",
       "      <td>cauchy3_vanilla</td>\n",
       "      <td>MCR</td>\n",
       "      <td>433.272633</td>\n",
       "      <td>53.725806</td>\n",
       "      <td>0.124</td>\n",
       "    </tr>\n",
       "    <tr>\n",
       "      <th>75</th>\n",
       "      <td>GO_mut:(cauchy3_vanilla)_cro:MMCR</td>\n",
       "      <td>cauchy3_vanilla</td>\n",
       "      <td>MMCR</td>\n",
       "      <td>457.724573</td>\n",
       "      <td>47.145631</td>\n",
       "      <td>0.103</td>\n",
       "    </tr>\n",
       "    <tr>\n",
       "      <th>20</th>\n",
       "      <td>GO_mut:(cauchy1_vanilla)_cro:MMCM</td>\n",
       "      <td>cauchy1_vanilla</td>\n",
       "      <td>MMCM</td>\n",
       "      <td>477.146814</td>\n",
       "      <td>54.394737</td>\n",
       "      <td>0.114</td>\n",
       "    </tr>\n",
       "    <tr>\n",
       "      <th>48</th>\n",
       "      <td>GO_mut:(cauchy2_vanilla)_cro:MMCR</td>\n",
       "      <td>cauchy2_vanilla</td>\n",
       "      <td>MMCR</td>\n",
       "      <td>662.557528</td>\n",
       "      <td>51.679487</td>\n",
       "      <td>0.078</td>\n",
       "    </tr>\n",
       "    <tr>\n",
       "      <th>21</th>\n",
       "      <td>GO_mut:(cauchy1_vanilla)_cro:MMCR</td>\n",
       "      <td>cauchy1_vanilla</td>\n",
       "      <td>MMCR</td>\n",
       "      <td>688.986338</td>\n",
       "      <td>53.051948</td>\n",
       "      <td>0.077</td>\n",
       "    </tr>\n",
       "    <tr>\n",
       "      <th>0</th>\n",
       "      <td>GO_mut:(cauchy1_extension)_cro:MCM</td>\n",
       "      <td>cauchy1_extension</td>\n",
       "      <td>MCM</td>\n",
       "      <td>739.722222</td>\n",
       "      <td>44.383333</td>\n",
       "      <td>0.060</td>\n",
       "    </tr>\n",
       "    <tr>\n",
       "      <th>2</th>\n",
       "      <td>GO_mut:(cauchy1_extension)_cro:MMCM</td>\n",
       "      <td>cauchy1_extension</td>\n",
       "      <td>MMCM</td>\n",
       "      <td>819.166667</td>\n",
       "      <td>49.150000</td>\n",
       "      <td>0.060</td>\n",
       "    </tr>\n",
       "    <tr>\n",
       "      <th>6</th>\n",
       "      <td>GO_mut:(cauchy1_extension)_cro:uni1</td>\n",
       "      <td>cauchy1_extension</td>\n",
       "      <td>uni1</td>\n",
       "      <td>898.803330</td>\n",
       "      <td>55.725806</td>\n",
       "      <td>0.062</td>\n",
       "    </tr>\n",
       "    <tr>\n",
       "      <th>14</th>\n",
       "      <td>GO_mut:(cauchy1_mirror)_cro:rnd</td>\n",
       "      <td>cauchy1_mirror</td>\n",
       "      <td>rnd</td>\n",
       "      <td>925.826391</td>\n",
       "      <td>56.475410</td>\n",
       "      <td>0.061</td>\n",
       "    </tr>\n",
       "    <tr>\n",
       "      <th>7</th>\n",
       "      <td>GO_mut:(cauchy1_extension)_cro:uni2</td>\n",
       "      <td>cauchy1_extension</td>\n",
       "      <td>uni2</td>\n",
       "      <td>944.515306</td>\n",
       "      <td>52.892857</td>\n",
       "      <td>0.056</td>\n",
       "    </tr>\n",
       "    <tr>\n",
       "      <th>5</th>\n",
       "      <td>GO_mut:(cauchy1_extension)_cro:rnd</td>\n",
       "      <td>cauchy1_extension</td>\n",
       "      <td>rnd</td>\n",
       "      <td>957.840237</td>\n",
       "      <td>49.807692</td>\n",
       "      <td>0.052</td>\n",
       "    </tr>\n",
       "    <tr>\n",
       "      <th>8</th>\n",
       "      <td>GO_mut:(cauchy1_extension)_cro:uni3</td>\n",
       "      <td>cauchy1_extension</td>\n",
       "      <td>uni3</td>\n",
       "      <td>968.264463</td>\n",
       "      <td>53.254545</td>\n",
       "      <td>0.055</td>\n",
       "    </tr>\n",
       "    <tr>\n",
       "      <th>27</th>\n",
       "      <td>GO_mut:(cauchy2_extension)_cro:MCM</td>\n",
       "      <td>cauchy2_extension</td>\n",
       "      <td>MCM</td>\n",
       "      <td>979.753086</td>\n",
       "      <td>44.088889</td>\n",
       "      <td>0.045</td>\n",
       "    </tr>\n",
       "    <tr>\n",
       "      <th>4</th>\n",
       "      <td>GO_mut:(cauchy1_extension)_cro:mix</td>\n",
       "      <td>cauchy1_extension</td>\n",
       "      <td>mix</td>\n",
       "      <td>984.910837</td>\n",
       "      <td>53.185185</td>\n",
       "      <td>0.054</td>\n",
       "    </tr>\n",
       "    <tr>\n",
       "      <th>17</th>\n",
       "      <td>GO_mut:(cauchy1_mirror)_cro:uni3</td>\n",
       "      <td>cauchy1_mirror</td>\n",
       "      <td>uni3</td>\n",
       "      <td>1013.128112</td>\n",
       "      <td>47.617021</td>\n",
       "      <td>0.047</td>\n",
       "    </tr>\n",
       "    <tr>\n",
       "      <th>1</th>\n",
       "      <td>GO_mut:(cauchy1_extension)_cro:MCR</td>\n",
       "      <td>cauchy1_extension</td>\n",
       "      <td>MCR</td>\n",
       "      <td>1013.454861</td>\n",
       "      <td>48.645833</td>\n",
       "      <td>0.048</td>\n",
       "    </tr>\n",
       "    <tr>\n",
       "      <th>59</th>\n",
       "      <td>GO_mut:(cauchy3_extension)_cro:rnd</td>\n",
       "      <td>cauchy3_extension</td>\n",
       "      <td>rnd</td>\n",
       "      <td>1026.859504</td>\n",
       "      <td>45.181818</td>\n",
       "      <td>0.044</td>\n",
       "    </tr>\n",
       "    <tr>\n",
       "      <th>34</th>\n",
       "      <td>GO_mut:(cauchy2_extension)_cro:uni2</td>\n",
       "      <td>cauchy2_extension</td>\n",
       "      <td>uni2</td>\n",
       "      <td>1045.970795</td>\n",
       "      <td>44.976744</td>\n",
       "      <td>0.043</td>\n",
       "    </tr>\n",
       "    <tr>\n",
       "      <th>3</th>\n",
       "      <td>GO_mut:(cauchy1_extension)_cro:MMCR</td>\n",
       "      <td>cauchy1_extension</td>\n",
       "      <td>MMCR</td>\n",
       "      <td>1068.698347</td>\n",
       "      <td>47.022727</td>\n",
       "      <td>0.044</td>\n",
       "    </tr>\n",
       "    <tr>\n",
       "      <th>55</th>\n",
       "      <td>GO_mut:(cauchy3_extension)_cro:MCR</td>\n",
       "      <td>cauchy3_extension</td>\n",
       "      <td>MCR</td>\n",
       "      <td>1103.879027</td>\n",
       "      <td>43.051282</td>\n",
       "      <td>0.039</td>\n",
       "    </tr>\n",
       "    <tr>\n",
       "      <th>35</th>\n",
       "      <td>GO_mut:(cauchy2_extension)_cro:uni3</td>\n",
       "      <td>cauchy2_extension</td>\n",
       "      <td>uni3</td>\n",
       "      <td>1118.605704</td>\n",
       "      <td>52.574468</td>\n",
       "      <td>0.047</td>\n",
       "    </tr>\n",
       "    <tr>\n",
       "      <th>16</th>\n",
       "      <td>GO_mut:(cauchy1_mirror)_cro:uni2</td>\n",
       "      <td>cauchy1_mirror</td>\n",
       "      <td>uni2</td>\n",
       "      <td>1138.000000</td>\n",
       "      <td>56.900000</td>\n",
       "      <td>0.050</td>\n",
       "    </tr>\n",
       "    <tr>\n",
       "      <th>13</th>\n",
       "      <td>GO_mut:(cauchy1_mirror)_cro:mix</td>\n",
       "      <td>cauchy1_mirror</td>\n",
       "      <td>mix</td>\n",
       "      <td>1165.600000</td>\n",
       "      <td>58.280000</td>\n",
       "      <td>0.050</td>\n",
       "    </tr>\n",
       "    <tr>\n",
       "      <th>15</th>\n",
       "      <td>GO_mut:(cauchy1_mirror)_cro:uni1</td>\n",
       "      <td>cauchy1_mirror</td>\n",
       "      <td>uni1</td>\n",
       "      <td>1194.400000</td>\n",
       "      <td>59.720000</td>\n",
       "      <td>0.050</td>\n",
       "    </tr>\n",
       "    <tr>\n",
       "      <th>61</th>\n",
       "      <td>GO_mut:(cauchy3_extension)_cro:uni2</td>\n",
       "      <td>cauchy3_extension</td>\n",
       "      <td>uni2</td>\n",
       "      <td>1211.702827</td>\n",
       "      <td>47.256410</td>\n",
       "      <td>0.039</td>\n",
       "    </tr>\n",
       "    <tr>\n",
       "      <th>32</th>\n",
       "      <td>GO_mut:(cauchy2_extension)_cro:rnd</td>\n",
       "      <td>cauchy2_extension</td>\n",
       "      <td>rnd</td>\n",
       "      <td>1222.222222</td>\n",
       "      <td>58.666667</td>\n",
       "      <td>0.048</td>\n",
       "    </tr>\n",
       "    <tr>\n",
       "      <th>62</th>\n",
       "      <td>GO_mut:(cauchy3_extension)_cro:uni3</td>\n",
       "      <td>cauchy3_extension</td>\n",
       "      <td>uni3</td>\n",
       "      <td>1255.752794</td>\n",
       "      <td>48.974359</td>\n",
       "      <td>0.039</td>\n",
       "    </tr>\n",
       "    <tr>\n",
       "      <th>10</th>\n",
       "      <td>GO_mut:(cauchy1_mirror)_cro:MCR</td>\n",
       "      <td>cauchy1_mirror</td>\n",
       "      <td>MCR</td>\n",
       "      <td>1261.012492</td>\n",
       "      <td>49.179487</td>\n",
       "      <td>0.039</td>\n",
       "    </tr>\n",
       "    <tr>\n",
       "      <th>65</th>\n",
       "      <td>GO_mut:(cauchy3_mirror)_cro:MMCM</td>\n",
       "      <td>cauchy3_mirror</td>\n",
       "      <td>MMCM</td>\n",
       "      <td>1306.666667</td>\n",
       "      <td>39.200000</td>\n",
       "      <td>0.030</td>\n",
       "    </tr>\n",
       "    <tr>\n",
       "      <th>33</th>\n",
       "      <td>GO_mut:(cauchy2_extension)_cro:uni1</td>\n",
       "      <td>cauchy2_extension</td>\n",
       "      <td>uni1</td>\n",
       "      <td>1349.769888</td>\n",
       "      <td>52.641026</td>\n",
       "      <td>0.039</td>\n",
       "    </tr>\n",
       "    <tr>\n",
       "      <th>58</th>\n",
       "      <td>GO_mut:(cauchy3_extension)_cro:mix</td>\n",
       "      <td>cauchy3_extension</td>\n",
       "      <td>mix</td>\n",
       "      <td>1397.923875</td>\n",
       "      <td>47.529412</td>\n",
       "      <td>0.034</td>\n",
       "    </tr>\n",
       "    <tr>\n",
       "      <th>29</th>\n",
       "      <td>GO_mut:(cauchy2_extension)_cro:MMCM</td>\n",
       "      <td>cauchy2_extension</td>\n",
       "      <td>MMCM</td>\n",
       "      <td>1421.177870</td>\n",
       "      <td>58.268293</td>\n",
       "      <td>0.041</td>\n",
       "    </tr>\n",
       "    <tr>\n",
       "      <th>31</th>\n",
       "      <td>GO_mut:(cauchy2_extension)_cro:mix</td>\n",
       "      <td>cauchy2_extension</td>\n",
       "      <td>mix</td>\n",
       "      <td>1429.980276</td>\n",
       "      <td>55.769231</td>\n",
       "      <td>0.039</td>\n",
       "    </tr>\n",
       "    <tr>\n",
       "      <th>9</th>\n",
       "      <td>GO_mut:(cauchy1_mirror)_cro:MCM</td>\n",
       "      <td>cauchy1_mirror</td>\n",
       "      <td>MCM</td>\n",
       "      <td>1455.807159</td>\n",
       "      <td>53.864865</td>\n",
       "      <td>0.037</td>\n",
       "    </tr>\n",
       "    <tr>\n",
       "      <th>44</th>\n",
       "      <td>GO_mut:(cauchy2_mirror)_cro:uni3</td>\n",
       "      <td>cauchy2_mirror</td>\n",
       "      <td>uni3</td>\n",
       "      <td>1466.483012</td>\n",
       "      <td>48.393939</td>\n",
       "      <td>0.033</td>\n",
       "    </tr>\n",
       "    <tr>\n",
       "      <th>56</th>\n",
       "      <td>GO_mut:(cauchy3_extension)_cro:MMCM</td>\n",
       "      <td>cauchy3_extension</td>\n",
       "      <td>MMCM</td>\n",
       "      <td>1475.918367</td>\n",
       "      <td>51.657143</td>\n",
       "      <td>0.035</td>\n",
       "    </tr>\n",
       "    <tr>\n",
       "      <th>66</th>\n",
       "      <td>GO_mut:(cauchy3_mirror)_cro:MMCR</td>\n",
       "      <td>cauchy3_mirror</td>\n",
       "      <td>MMCR</td>\n",
       "      <td>1484.444444</td>\n",
       "      <td>44.533333</td>\n",
       "      <td>0.030</td>\n",
       "    </tr>\n",
       "    <tr>\n",
       "      <th>60</th>\n",
       "      <td>GO_mut:(cauchy3_extension)_cro:uni1</td>\n",
       "      <td>cauchy3_extension</td>\n",
       "      <td>uni1</td>\n",
       "      <td>1518.518519</td>\n",
       "      <td>54.666667</td>\n",
       "      <td>0.036</td>\n",
       "    </tr>\n",
       "    <tr>\n",
       "      <th>30</th>\n",
       "      <td>GO_mut:(cauchy2_extension)_cro:MMCR</td>\n",
       "      <td>cauchy2_extension</td>\n",
       "      <td>MMCR</td>\n",
       "      <td>1537.037037</td>\n",
       "      <td>55.333333</td>\n",
       "      <td>0.036</td>\n",
       "    </tr>\n",
       "    <tr>\n",
       "      <th>28</th>\n",
       "      <td>GO_mut:(cauchy2_extension)_cro:MCR</td>\n",
       "      <td>cauchy2_extension</td>\n",
       "      <td>MCR</td>\n",
       "      <td>1554.783951</td>\n",
       "      <td>55.972222</td>\n",
       "      <td>0.036</td>\n",
       "    </tr>\n",
       "    <tr>\n",
       "      <th>36</th>\n",
       "      <td>GO_mut:(cauchy2_mirror)_cro:MCM</td>\n",
       "      <td>cauchy2_mirror</td>\n",
       "      <td>MCM</td>\n",
       "      <td>1594.726562</td>\n",
       "      <td>51.031250</td>\n",
       "      <td>0.032</td>\n",
       "    </tr>\n",
       "    <tr>\n",
       "      <th>57</th>\n",
       "      <td>GO_mut:(cauchy3_extension)_cro:MMCR</td>\n",
       "      <td>cauchy3_extension</td>\n",
       "      <td>MMCR</td>\n",
       "      <td>1677.685950</td>\n",
       "      <td>55.363636</td>\n",
       "      <td>0.033</td>\n",
       "    </tr>\n",
       "    <tr>\n",
       "      <th>42</th>\n",
       "      <td>GO_mut:(cauchy2_mirror)_cro:uni1</td>\n",
       "      <td>cauchy2_mirror</td>\n",
       "      <td>uni1</td>\n",
       "      <td>1693.222354</td>\n",
       "      <td>49.103448</td>\n",
       "      <td>0.029</td>\n",
       "    </tr>\n",
       "    <tr>\n",
       "      <th>70</th>\n",
       "      <td>GO_mut:(cauchy3_mirror)_cro:uni2</td>\n",
       "      <td>cauchy3_mirror</td>\n",
       "      <td>uni2</td>\n",
       "      <td>1728.894174</td>\n",
       "      <td>50.137931</td>\n",
       "      <td>0.029</td>\n",
       "    </tr>\n",
       "    <tr>\n",
       "      <th>54</th>\n",
       "      <td>GO_mut:(cauchy3_extension)_cro:MCM</td>\n",
       "      <td>cauchy3_extension</td>\n",
       "      <td>MCM</td>\n",
       "      <td>1735.537190</td>\n",
       "      <td>57.272727</td>\n",
       "      <td>0.033</td>\n",
       "    </tr>\n",
       "    <tr>\n",
       "      <th>40</th>\n",
       "      <td>GO_mut:(cauchy2_mirror)_cro:mix</td>\n",
       "      <td>cauchy2_mirror</td>\n",
       "      <td>mix</td>\n",
       "      <td>1778.834721</td>\n",
       "      <td>51.586207</td>\n",
       "      <td>0.029</td>\n",
       "    </tr>\n",
       "    <tr>\n",
       "      <th>63</th>\n",
       "      <td>GO_mut:(cauchy3_mirror)_cro:MCM</td>\n",
       "      <td>cauchy3_mirror</td>\n",
       "      <td>MCM</td>\n",
       "      <td>1911.564626</td>\n",
       "      <td>40.142857</td>\n",
       "      <td>0.021</td>\n",
       "    </tr>\n",
       "    <tr>\n",
       "      <th>37</th>\n",
       "      <td>GO_mut:(cauchy2_mirror)_cro:MCR</td>\n",
       "      <td>cauchy2_mirror</td>\n",
       "      <td>MCR</td>\n",
       "      <td>1973.958333</td>\n",
       "      <td>47.375000</td>\n",
       "      <td>0.024</td>\n",
       "    </tr>\n",
       "    <tr>\n",
       "      <th>68</th>\n",
       "      <td>GO_mut:(cauchy3_mirror)_cro:rnd</td>\n",
       "      <td>cauchy3_mirror</td>\n",
       "      <td>rnd</td>\n",
       "      <td>2045.138889</td>\n",
       "      <td>49.083333</td>\n",
       "      <td>0.024</td>\n",
       "    </tr>\n",
       "    <tr>\n",
       "      <th>41</th>\n",
       "      <td>GO_mut:(cauchy2_mirror)_cro:rnd</td>\n",
       "      <td>cauchy2_mirror</td>\n",
       "      <td>rnd</td>\n",
       "      <td>2114.583333</td>\n",
       "      <td>50.750000</td>\n",
       "      <td>0.024</td>\n",
       "    </tr>\n",
       "    <tr>\n",
       "      <th>67</th>\n",
       "      <td>GO_mut:(cauchy3_mirror)_cro:mix</td>\n",
       "      <td>cauchy3_mirror</td>\n",
       "      <td>mix</td>\n",
       "      <td>2123.200000</td>\n",
       "      <td>53.080000</td>\n",
       "      <td>0.025</td>\n",
       "    </tr>\n",
       "    <tr>\n",
       "      <th>11</th>\n",
       "      <td>GO_mut:(cauchy1_mirror)_cro:MMCM</td>\n",
       "      <td>cauchy1_mirror</td>\n",
       "      <td>MMCM</td>\n",
       "      <td>2171.597633</td>\n",
       "      <td>56.461538</td>\n",
       "      <td>0.026</td>\n",
       "    </tr>\n",
       "    <tr>\n",
       "      <th>39</th>\n",
       "      <td>GO_mut:(cauchy2_mirror)_cro:MMCR</td>\n",
       "      <td>cauchy2_mirror</td>\n",
       "      <td>MMCR</td>\n",
       "      <td>2286.400000</td>\n",
       "      <td>57.160000</td>\n",
       "      <td>0.025</td>\n",
       "    </tr>\n",
       "    <tr>\n",
       "      <th>69</th>\n",
       "      <td>GO_mut:(cauchy3_mirror)_cro:uni1</td>\n",
       "      <td>cauchy3_mirror</td>\n",
       "      <td>uni1</td>\n",
       "      <td>2295.138889</td>\n",
       "      <td>55.083333</td>\n",
       "      <td>0.024</td>\n",
       "    </tr>\n",
       "    <tr>\n",
       "      <th>38</th>\n",
       "      <td>GO_mut:(cauchy2_mirror)_cro:MMCM</td>\n",
       "      <td>cauchy2_mirror</td>\n",
       "      <td>MMCM</td>\n",
       "      <td>2333.333333</td>\n",
       "      <td>49.000000</td>\n",
       "      <td>0.021</td>\n",
       "    </tr>\n",
       "    <tr>\n",
       "      <th>43</th>\n",
       "      <td>GO_mut:(cauchy2_mirror)_cro:uni2</td>\n",
       "      <td>cauchy2_mirror</td>\n",
       "      <td>uni2</td>\n",
       "      <td>2410.207940</td>\n",
       "      <td>55.434783</td>\n",
       "      <td>0.023</td>\n",
       "    </tr>\n",
       "    <tr>\n",
       "      <th>64</th>\n",
       "      <td>GO_mut:(cauchy3_mirror)_cro:MCR</td>\n",
       "      <td>cauchy3_mirror</td>\n",
       "      <td>MCR</td>\n",
       "      <td>2478.458050</td>\n",
       "      <td>52.047619</td>\n",
       "      <td>0.021</td>\n",
       "    </tr>\n",
       "    <tr>\n",
       "      <th>71</th>\n",
       "      <td>GO_mut:(cauchy3_mirror)_cro:uni3</td>\n",
       "      <td>cauchy3_mirror</td>\n",
       "      <td>uni3</td>\n",
       "      <td>2482.041588</td>\n",
       "      <td>57.086957</td>\n",
       "      <td>0.023</td>\n",
       "    </tr>\n",
       "    <tr>\n",
       "      <th>12</th>\n",
       "      <td>GO_mut:(cauchy1_mirror)_cro:MMCR</td>\n",
       "      <td>cauchy1_mirror</td>\n",
       "      <td>MMCR</td>\n",
       "      <td>2615.916955</td>\n",
       "      <td>44.470588</td>\n",
       "      <td>0.017</td>\n",
       "    </tr>\n",
       "  </tbody>\n",
       "</table>\n",
       "</div>"
      ],
      "text/plain": [
       "                                   heur           mutation crossover  \\\n",
       "24    GO_mut:(cauchy1_vanilla)_cro:uni1    cauchy1_vanilla      uni1   \n",
       "18     GO_mut:(cauchy1_vanilla)_cro:MCM    cauchy1_vanilla       MCM   \n",
       "23     GO_mut:(cauchy1_vanilla)_cro:rnd    cauchy1_vanilla       rnd   \n",
       "22     GO_mut:(cauchy1_vanilla)_cro:mix    cauchy1_vanilla       mix   \n",
       "25    GO_mut:(cauchy1_vanilla)_cro:uni2    cauchy1_vanilla      uni2   \n",
       "26    GO_mut:(cauchy1_vanilla)_cro:uni3    cauchy1_vanilla      uni3   \n",
       "72     GO_mut:(cauchy3_vanilla)_cro:MCM    cauchy3_vanilla       MCM   \n",
       "45     GO_mut:(cauchy2_vanilla)_cro:MCM    cauchy2_vanilla       MCM   \n",
       "80    GO_mut:(cauchy3_vanilla)_cro:uni3    cauchy3_vanilla      uni3   \n",
       "50     GO_mut:(cauchy2_vanilla)_cro:rnd    cauchy2_vanilla       rnd   \n",
       "49     GO_mut:(cauchy2_vanilla)_cro:mix    cauchy2_vanilla       mix   \n",
       "53    GO_mut:(cauchy2_vanilla)_cro:uni3    cauchy2_vanilla      uni3   \n",
       "51    GO_mut:(cauchy2_vanilla)_cro:uni1    cauchy2_vanilla      uni1   \n",
       "77     GO_mut:(cauchy3_vanilla)_cro:rnd    cauchy3_vanilla       rnd   \n",
       "19     GO_mut:(cauchy1_vanilla)_cro:MCR    cauchy1_vanilla       MCR   \n",
       "79    GO_mut:(cauchy3_vanilla)_cro:uni2    cauchy3_vanilla      uni2   \n",
       "76     GO_mut:(cauchy3_vanilla)_cro:mix    cauchy3_vanilla       mix   \n",
       "46     GO_mut:(cauchy2_vanilla)_cro:MCR    cauchy2_vanilla       MCR   \n",
       "78    GO_mut:(cauchy3_vanilla)_cro:uni1    cauchy3_vanilla      uni1   \n",
       "52    GO_mut:(cauchy2_vanilla)_cro:uni2    cauchy2_vanilla      uni2   \n",
       "47    GO_mut:(cauchy2_vanilla)_cro:MMCM    cauchy2_vanilla      MMCM   \n",
       "74    GO_mut:(cauchy3_vanilla)_cro:MMCM    cauchy3_vanilla      MMCM   \n",
       "73     GO_mut:(cauchy3_vanilla)_cro:MCR    cauchy3_vanilla       MCR   \n",
       "75    GO_mut:(cauchy3_vanilla)_cro:MMCR    cauchy3_vanilla      MMCR   \n",
       "20    GO_mut:(cauchy1_vanilla)_cro:MMCM    cauchy1_vanilla      MMCM   \n",
       "48    GO_mut:(cauchy2_vanilla)_cro:MMCR    cauchy2_vanilla      MMCR   \n",
       "21    GO_mut:(cauchy1_vanilla)_cro:MMCR    cauchy1_vanilla      MMCR   \n",
       "0    GO_mut:(cauchy1_extension)_cro:MCM  cauchy1_extension       MCM   \n",
       "2   GO_mut:(cauchy1_extension)_cro:MMCM  cauchy1_extension      MMCM   \n",
       "6   GO_mut:(cauchy1_extension)_cro:uni1  cauchy1_extension      uni1   \n",
       "14      GO_mut:(cauchy1_mirror)_cro:rnd     cauchy1_mirror       rnd   \n",
       "7   GO_mut:(cauchy1_extension)_cro:uni2  cauchy1_extension      uni2   \n",
       "5    GO_mut:(cauchy1_extension)_cro:rnd  cauchy1_extension       rnd   \n",
       "8   GO_mut:(cauchy1_extension)_cro:uni3  cauchy1_extension      uni3   \n",
       "27   GO_mut:(cauchy2_extension)_cro:MCM  cauchy2_extension       MCM   \n",
       "4    GO_mut:(cauchy1_extension)_cro:mix  cauchy1_extension       mix   \n",
       "17     GO_mut:(cauchy1_mirror)_cro:uni3     cauchy1_mirror      uni3   \n",
       "1    GO_mut:(cauchy1_extension)_cro:MCR  cauchy1_extension       MCR   \n",
       "59   GO_mut:(cauchy3_extension)_cro:rnd  cauchy3_extension       rnd   \n",
       "34  GO_mut:(cauchy2_extension)_cro:uni2  cauchy2_extension      uni2   \n",
       "3   GO_mut:(cauchy1_extension)_cro:MMCR  cauchy1_extension      MMCR   \n",
       "55   GO_mut:(cauchy3_extension)_cro:MCR  cauchy3_extension       MCR   \n",
       "35  GO_mut:(cauchy2_extension)_cro:uni3  cauchy2_extension      uni3   \n",
       "16     GO_mut:(cauchy1_mirror)_cro:uni2     cauchy1_mirror      uni2   \n",
       "13      GO_mut:(cauchy1_mirror)_cro:mix     cauchy1_mirror       mix   \n",
       "15     GO_mut:(cauchy1_mirror)_cro:uni1     cauchy1_mirror      uni1   \n",
       "61  GO_mut:(cauchy3_extension)_cro:uni2  cauchy3_extension      uni2   \n",
       "32   GO_mut:(cauchy2_extension)_cro:rnd  cauchy2_extension       rnd   \n",
       "62  GO_mut:(cauchy3_extension)_cro:uni3  cauchy3_extension      uni3   \n",
       "10      GO_mut:(cauchy1_mirror)_cro:MCR     cauchy1_mirror       MCR   \n",
       "65     GO_mut:(cauchy3_mirror)_cro:MMCM     cauchy3_mirror      MMCM   \n",
       "33  GO_mut:(cauchy2_extension)_cro:uni1  cauchy2_extension      uni1   \n",
       "58   GO_mut:(cauchy3_extension)_cro:mix  cauchy3_extension       mix   \n",
       "29  GO_mut:(cauchy2_extension)_cro:MMCM  cauchy2_extension      MMCM   \n",
       "31   GO_mut:(cauchy2_extension)_cro:mix  cauchy2_extension       mix   \n",
       "9       GO_mut:(cauchy1_mirror)_cro:MCM     cauchy1_mirror       MCM   \n",
       "44     GO_mut:(cauchy2_mirror)_cro:uni3     cauchy2_mirror      uni3   \n",
       "56  GO_mut:(cauchy3_extension)_cro:MMCM  cauchy3_extension      MMCM   \n",
       "66     GO_mut:(cauchy3_mirror)_cro:MMCR     cauchy3_mirror      MMCR   \n",
       "60  GO_mut:(cauchy3_extension)_cro:uni1  cauchy3_extension      uni1   \n",
       "30  GO_mut:(cauchy2_extension)_cro:MMCR  cauchy2_extension      MMCR   \n",
       "28   GO_mut:(cauchy2_extension)_cro:MCR  cauchy2_extension       MCR   \n",
       "36      GO_mut:(cauchy2_mirror)_cro:MCM     cauchy2_mirror       MCM   \n",
       "57  GO_mut:(cauchy3_extension)_cro:MMCR  cauchy3_extension      MMCR   \n",
       "42     GO_mut:(cauchy2_mirror)_cro:uni1     cauchy2_mirror      uni1   \n",
       "70     GO_mut:(cauchy3_mirror)_cro:uni2     cauchy3_mirror      uni2   \n",
       "54   GO_mut:(cauchy3_extension)_cro:MCM  cauchy3_extension       MCM   \n",
       "40      GO_mut:(cauchy2_mirror)_cro:mix     cauchy2_mirror       mix   \n",
       "63      GO_mut:(cauchy3_mirror)_cro:MCM     cauchy3_mirror       MCM   \n",
       "37      GO_mut:(cauchy2_mirror)_cro:MCR     cauchy2_mirror       MCR   \n",
       "68      GO_mut:(cauchy3_mirror)_cro:rnd     cauchy3_mirror       rnd   \n",
       "41      GO_mut:(cauchy2_mirror)_cro:rnd     cauchy2_mirror       rnd   \n",
       "67      GO_mut:(cauchy3_mirror)_cro:mix     cauchy3_mirror       mix   \n",
       "11     GO_mut:(cauchy1_mirror)_cro:MMCM     cauchy1_mirror      MMCM   \n",
       "39     GO_mut:(cauchy2_mirror)_cro:MMCR     cauchy2_mirror      MMCR   \n",
       "69     GO_mut:(cauchy3_mirror)_cro:uni1     cauchy3_mirror      uni1   \n",
       "38     GO_mut:(cauchy2_mirror)_cro:MMCM     cauchy2_mirror      MMCM   \n",
       "43     GO_mut:(cauchy2_mirror)_cro:uni2     cauchy2_mirror      uni2   \n",
       "64      GO_mut:(cauchy3_mirror)_cro:MCR     cauchy3_mirror       MCR   \n",
       "71     GO_mut:(cauchy3_mirror)_cro:uni3     cauchy3_mirror      uni3   \n",
       "12     GO_mut:(cauchy1_mirror)_cro:MMCR     cauchy1_mirror      MMCR   \n",
       "\n",
       "            feo        mne    rel  \n",
       "24   266.118172  58.013761  0.218  \n",
       "18   273.333333  57.400000  0.210  \n",
       "23   283.431418  60.370892  0.213  \n",
       "22   290.320951  57.773869  0.199  \n",
       "25   296.257894  61.029126  0.206  \n",
       "26   302.113583  60.120603  0.199  \n",
       "72   308.767347  54.034286  0.175  \n",
       "45   323.982784  58.640884  0.181  \n",
       "80   334.278435  52.147436  0.156  \n",
       "50   339.906196  59.143678  0.174  \n",
       "49   345.450680  58.035714  0.168  \n",
       "53   348.412170  58.881657  0.169  \n",
       "51   351.523438  56.243750  0.160  \n",
       "77   356.513379  56.329114  0.158  \n",
       "19   378.574951  59.057692  0.156  \n",
       "79   381.822222  57.273333  0.150  \n",
       "76   382.717208  55.876712  0.146  \n",
       "46   385.306972  59.722581  0.155  \n",
       "78   398.183155  54.949275  0.138  \n",
       "52   412.448204  63.104575  0.153  \n",
       "47   423.952887  54.689922  0.129  \n",
       "74   429.940828  55.892308  0.130  \n",
       "73   433.272633  53.725806  0.124  \n",
       "75   457.724573  47.145631  0.103  \n",
       "20   477.146814  54.394737  0.114  \n",
       "48   662.557528  51.679487  0.078  \n",
       "21   688.986338  53.051948  0.077  \n",
       "0    739.722222  44.383333  0.060  \n",
       "2    819.166667  49.150000  0.060  \n",
       "6    898.803330  55.725806  0.062  \n",
       "14   925.826391  56.475410  0.061  \n",
       "7    944.515306  52.892857  0.056  \n",
       "5    957.840237  49.807692  0.052  \n",
       "8    968.264463  53.254545  0.055  \n",
       "27   979.753086  44.088889  0.045  \n",
       "4    984.910837  53.185185  0.054  \n",
       "17  1013.128112  47.617021  0.047  \n",
       "1   1013.454861  48.645833  0.048  \n",
       "59  1026.859504  45.181818  0.044  \n",
       "34  1045.970795  44.976744  0.043  \n",
       "3   1068.698347  47.022727  0.044  \n",
       "55  1103.879027  43.051282  0.039  \n",
       "35  1118.605704  52.574468  0.047  \n",
       "16  1138.000000  56.900000  0.050  \n",
       "13  1165.600000  58.280000  0.050  \n",
       "15  1194.400000  59.720000  0.050  \n",
       "61  1211.702827  47.256410  0.039  \n",
       "32  1222.222222  58.666667  0.048  \n",
       "62  1255.752794  48.974359  0.039  \n",
       "10  1261.012492  49.179487  0.039  \n",
       "65  1306.666667  39.200000  0.030  \n",
       "33  1349.769888  52.641026  0.039  \n",
       "58  1397.923875  47.529412  0.034  \n",
       "29  1421.177870  58.268293  0.041  \n",
       "31  1429.980276  55.769231  0.039  \n",
       "9   1455.807159  53.864865  0.037  \n",
       "44  1466.483012  48.393939  0.033  \n",
       "56  1475.918367  51.657143  0.035  \n",
       "66  1484.444444  44.533333  0.030  \n",
       "60  1518.518519  54.666667  0.036  \n",
       "30  1537.037037  55.333333  0.036  \n",
       "28  1554.783951  55.972222  0.036  \n",
       "36  1594.726562  51.031250  0.032  \n",
       "57  1677.685950  55.363636  0.033  \n",
       "42  1693.222354  49.103448  0.029  \n",
       "70  1728.894174  50.137931  0.029  \n",
       "54  1735.537190  57.272727  0.033  \n",
       "40  1778.834721  51.586207  0.029  \n",
       "63  1911.564626  40.142857  0.021  \n",
       "37  1973.958333  47.375000  0.024  \n",
       "68  2045.138889  49.083333  0.024  \n",
       "41  2114.583333  50.750000  0.024  \n",
       "67  2123.200000  53.080000  0.025  \n",
       "11  2171.597633  56.461538  0.026  \n",
       "39  2286.400000  57.160000  0.025  \n",
       "69  2295.138889  55.083333  0.024  \n",
       "38  2333.333333  49.000000  0.021  \n",
       "43  2410.207940  55.434783  0.023  \n",
       "64  2478.458050  52.047619  0.021  \n",
       "71  2482.041588  57.086957  0.023  \n",
       "12  2615.916955  44.470588  0.017  "
      ]
     },
     "execution_count": 9,
     "metadata": {},
     "output_type": "execute_result"
    }
   ],
   "source": [
    "results_pivot = results.pivot_table(\n",
    "    index=['heur', 'mutation', 'crossover'],\n",
    "    values=['neval'],\n",
    "    aggfunc=(rel, mne, feo)\n",
    ")['neval']\n",
    "results_pivot = results_pivot.reset_index()\n",
    "pd.set_option('display.max_rows', 500)\n",
    "results_pivot.sort_values(by='feo')\n"
   ]
  },
  {
   "cell_type": "markdown",
   "metadata": {},
   "source": [
    "Pri pohľade na všetky výsledky zoradené podľa používaného <b>feo</b> kritéria zrejme vidíme, že výrazne najlepšou voľbou Correction metódy je vanilla. Z tohto dôvodu sa pri ďalšom testovaní obmedzíme iba na túto metódu. "
   ]
  },
  {
   "cell_type": "code",
   "execution_count": 10,
   "metadata": {},
   "outputs": [
    {
     "data": {
      "text/html": [
       "<div>\n",
       "<style scoped>\n",
       "    .dataframe tbody tr th:only-of-type {\n",
       "        vertical-align: middle;\n",
       "    }\n",
       "\n",
       "    .dataframe tbody tr th {\n",
       "        vertical-align: top;\n",
       "    }\n",
       "\n",
       "    .dataframe thead th {\n",
       "        text-align: right;\n",
       "    }\n",
       "</style>\n",
       "<table border=\"1\" class=\"dataframe\">\n",
       "  <thead>\n",
       "    <tr style=\"text-align: right;\">\n",
       "      <th></th>\n",
       "      <th>heur</th>\n",
       "      <th>mutation</th>\n",
       "      <th>crossover</th>\n",
       "      <th>feo</th>\n",
       "      <th>mne</th>\n",
       "      <th>rel</th>\n",
       "    </tr>\n",
       "  </thead>\n",
       "  <tbody>\n",
       "    <tr>\n",
       "      <th>18</th>\n",
       "      <td>GO_mut:(cauchy1_vanilla)_cro:MCM</td>\n",
       "      <td>cauchy1_vanilla</td>\n",
       "      <td>MCM</td>\n",
       "      <td>273.333333</td>\n",
       "      <td>57.400000</td>\n",
       "      <td>0.210</td>\n",
       "    </tr>\n",
       "    <tr>\n",
       "      <th>72</th>\n",
       "      <td>GO_mut:(cauchy3_vanilla)_cro:MCM</td>\n",
       "      <td>cauchy3_vanilla</td>\n",
       "      <td>MCM</td>\n",
       "      <td>308.767347</td>\n",
       "      <td>54.034286</td>\n",
       "      <td>0.175</td>\n",
       "    </tr>\n",
       "    <tr>\n",
       "      <th>45</th>\n",
       "      <td>GO_mut:(cauchy2_vanilla)_cro:MCM</td>\n",
       "      <td>cauchy2_vanilla</td>\n",
       "      <td>MCM</td>\n",
       "      <td>323.982784</td>\n",
       "      <td>58.640884</td>\n",
       "      <td>0.181</td>\n",
       "    </tr>\n",
       "    <tr>\n",
       "      <th>19</th>\n",
       "      <td>GO_mut:(cauchy1_vanilla)_cro:MCR</td>\n",
       "      <td>cauchy1_vanilla</td>\n",
       "      <td>MCR</td>\n",
       "      <td>378.574951</td>\n",
       "      <td>59.057692</td>\n",
       "      <td>0.156</td>\n",
       "    </tr>\n",
       "    <tr>\n",
       "      <th>46</th>\n",
       "      <td>GO_mut:(cauchy2_vanilla)_cro:MCR</td>\n",
       "      <td>cauchy2_vanilla</td>\n",
       "      <td>MCR</td>\n",
       "      <td>385.306972</td>\n",
       "      <td>59.722581</td>\n",
       "      <td>0.155</td>\n",
       "    </tr>\n",
       "    <tr>\n",
       "      <th>73</th>\n",
       "      <td>GO_mut:(cauchy3_vanilla)_cro:MCR</td>\n",
       "      <td>cauchy3_vanilla</td>\n",
       "      <td>MCR</td>\n",
       "      <td>433.272633</td>\n",
       "      <td>53.725806</td>\n",
       "      <td>0.124</td>\n",
       "    </tr>\n",
       "  </tbody>\n",
       "</table>\n",
       "</div>"
      ],
      "text/plain": [
       "                                heur         mutation crossover         feo  \\\n",
       "18  GO_mut:(cauchy1_vanilla)_cro:MCM  cauchy1_vanilla       MCM  273.333333   \n",
       "72  GO_mut:(cauchy3_vanilla)_cro:MCM  cauchy3_vanilla       MCM  308.767347   \n",
       "45  GO_mut:(cauchy2_vanilla)_cro:MCM  cauchy2_vanilla       MCM  323.982784   \n",
       "19  GO_mut:(cauchy1_vanilla)_cro:MCR  cauchy1_vanilla       MCR  378.574951   \n",
       "46  GO_mut:(cauchy2_vanilla)_cro:MCR  cauchy2_vanilla       MCR  385.306972   \n",
       "73  GO_mut:(cauchy3_vanilla)_cro:MCR  cauchy3_vanilla       MCR  433.272633   \n",
       "\n",
       "          mne    rel  \n",
       "18  57.400000  0.210  \n",
       "72  54.034286  0.175  \n",
       "45  58.640884  0.181  \n",
       "19  59.057692  0.156  \n",
       "46  59.722581  0.155  \n",
       "73  53.725806  0.124  "
      ]
     },
     "execution_count": 10,
     "metadata": {},
     "output_type": "execute_result"
    }
   ],
   "source": [
    "results_pivot_vanilla = results_pivot[(results_pivot['mutation'].isin(['cauchy1_vanilla', 'cauchy2_vanilla', 'cauchy3_vanilla']))]\n",
    "results_pivot_vanilla[(results_pivot_vanilla['crossover'].isin(['MCM', 'MCR']))].sort_values(by='feo')"
   ]
  },
  {
   "cell_type": "code",
   "execution_count": 11,
   "metadata": {},
   "outputs": [
    {
     "data": {
      "text/html": [
       "<div>\n",
       "<style scoped>\n",
       "    .dataframe tbody tr th:only-of-type {\n",
       "        vertical-align: middle;\n",
       "    }\n",
       "\n",
       "    .dataframe tbody tr th {\n",
       "        vertical-align: top;\n",
       "    }\n",
       "\n",
       "    .dataframe thead th {\n",
       "        text-align: right;\n",
       "    }\n",
       "</style>\n",
       "<table border=\"1\" class=\"dataframe\">\n",
       "  <thead>\n",
       "    <tr style=\"text-align: right;\">\n",
       "      <th></th>\n",
       "      <th>heur</th>\n",
       "      <th>mutation</th>\n",
       "      <th>crossover</th>\n",
       "      <th>feo</th>\n",
       "      <th>mne</th>\n",
       "      <th>rel</th>\n",
       "    </tr>\n",
       "  </thead>\n",
       "  <tbody>\n",
       "    <tr>\n",
       "      <th>47</th>\n",
       "      <td>GO_mut:(cauchy2_vanilla)_cro:MMCM</td>\n",
       "      <td>cauchy2_vanilla</td>\n",
       "      <td>MMCM</td>\n",
       "      <td>423.952887</td>\n",
       "      <td>54.689922</td>\n",
       "      <td>0.129</td>\n",
       "    </tr>\n",
       "    <tr>\n",
       "      <th>74</th>\n",
       "      <td>GO_mut:(cauchy3_vanilla)_cro:MMCM</td>\n",
       "      <td>cauchy3_vanilla</td>\n",
       "      <td>MMCM</td>\n",
       "      <td>429.940828</td>\n",
       "      <td>55.892308</td>\n",
       "      <td>0.130</td>\n",
       "    </tr>\n",
       "    <tr>\n",
       "      <th>75</th>\n",
       "      <td>GO_mut:(cauchy3_vanilla)_cro:MMCR</td>\n",
       "      <td>cauchy3_vanilla</td>\n",
       "      <td>MMCR</td>\n",
       "      <td>457.724573</td>\n",
       "      <td>47.145631</td>\n",
       "      <td>0.103</td>\n",
       "    </tr>\n",
       "    <tr>\n",
       "      <th>20</th>\n",
       "      <td>GO_mut:(cauchy1_vanilla)_cro:MMCM</td>\n",
       "      <td>cauchy1_vanilla</td>\n",
       "      <td>MMCM</td>\n",
       "      <td>477.146814</td>\n",
       "      <td>54.394737</td>\n",
       "      <td>0.114</td>\n",
       "    </tr>\n",
       "    <tr>\n",
       "      <th>48</th>\n",
       "      <td>GO_mut:(cauchy2_vanilla)_cro:MMCR</td>\n",
       "      <td>cauchy2_vanilla</td>\n",
       "      <td>MMCR</td>\n",
       "      <td>662.557528</td>\n",
       "      <td>51.679487</td>\n",
       "      <td>0.078</td>\n",
       "    </tr>\n",
       "    <tr>\n",
       "      <th>21</th>\n",
       "      <td>GO_mut:(cauchy1_vanilla)_cro:MMCR</td>\n",
       "      <td>cauchy1_vanilla</td>\n",
       "      <td>MMCR</td>\n",
       "      <td>688.986338</td>\n",
       "      <td>53.051948</td>\n",
       "      <td>0.077</td>\n",
       "    </tr>\n",
       "  </tbody>\n",
       "</table>\n",
       "</div>"
      ],
      "text/plain": [
       "                                 heur         mutation crossover         feo  \\\n",
       "47  GO_mut:(cauchy2_vanilla)_cro:MMCM  cauchy2_vanilla      MMCM  423.952887   \n",
       "74  GO_mut:(cauchy3_vanilla)_cro:MMCM  cauchy3_vanilla      MMCM  429.940828   \n",
       "75  GO_mut:(cauchy3_vanilla)_cro:MMCR  cauchy3_vanilla      MMCR  457.724573   \n",
       "20  GO_mut:(cauchy1_vanilla)_cro:MMCM  cauchy1_vanilla      MMCM  477.146814   \n",
       "48  GO_mut:(cauchy2_vanilla)_cro:MMCR  cauchy2_vanilla      MMCR  662.557528   \n",
       "21  GO_mut:(cauchy1_vanilla)_cro:MMCR  cauchy1_vanilla      MMCR  688.986338   \n",
       "\n",
       "          mne    rel  \n",
       "47  54.689922  0.129  \n",
       "74  55.892308  0.130  \n",
       "75  47.145631  0.103  \n",
       "20  54.394737  0.114  \n",
       "48  51.679487  0.078  \n",
       "21  53.051948  0.077  "
      ]
     },
     "execution_count": 11,
     "metadata": {},
     "output_type": "execute_result"
    }
   ],
   "source": [
    "results_pivot_vanilla = results_pivot[(results_pivot['mutation'].isin(['cauchy1_vanilla', 'cauchy2_vanilla', 'cauchy3_vanilla']))]\n",
    "results_pivot_vanilla[(results_pivot_vanilla['crossover'].isin(['MMCM', 'MMCR']))].sort_values(by='feo')"
   ]
  },
  {
   "cell_type": "markdown",
   "metadata": {},
   "source": [
    "Z definície nových crossover metód vieme, že MatchCrossoverMax() (MCM) a MatchCrossoverRnd() (MCR), <br> resp. MisMatchCrossoverMax() (MMCM) a MisMatchCrossoverRnd() (MMCR) sú si dosť podobné. <br> \n",
    "Z výsledkov prvej fázy testov vidíme, že lepšie pracujú Max metódy, teda MCM a MMCM. <br>\n",
    "\n",
    "Okrem toho je možné vidieť, že MCM pracuje najlepšie v nastavení cauchy1_vanilla. <br>\n",
    "MMCM pracuje najlepšie v spolupráci s cauchy2_vanilla. <br>"
   ]
  },
  {
   "cell_type": "code",
   "execution_count": 12,
   "metadata": {},
   "outputs": [
    {
     "data": {
      "text/html": [
       "<div>\n",
       "<style scoped>\n",
       "    .dataframe tbody tr th:only-of-type {\n",
       "        vertical-align: middle;\n",
       "    }\n",
       "\n",
       "    .dataframe tbody tr th {\n",
       "        vertical-align: top;\n",
       "    }\n",
       "\n",
       "    .dataframe thead th {\n",
       "        text-align: right;\n",
       "    }\n",
       "</style>\n",
       "<table border=\"1\" class=\"dataframe\">\n",
       "  <thead>\n",
       "    <tr style=\"text-align: right;\">\n",
       "      <th></th>\n",
       "      <th>heur</th>\n",
       "      <th>mutation</th>\n",
       "      <th>crossover</th>\n",
       "      <th>feo</th>\n",
       "      <th>mne</th>\n",
       "      <th>rel</th>\n",
       "    </tr>\n",
       "  </thead>\n",
       "  <tbody>\n",
       "    <tr>\n",
       "      <th>24</th>\n",
       "      <td>GO_mut:(cauchy1_vanilla)_cro:uni1</td>\n",
       "      <td>cauchy1_vanilla</td>\n",
       "      <td>uni1</td>\n",
       "      <td>266.118172</td>\n",
       "      <td>58.013761</td>\n",
       "      <td>0.218</td>\n",
       "    </tr>\n",
       "    <tr>\n",
       "      <th>25</th>\n",
       "      <td>GO_mut:(cauchy1_vanilla)_cro:uni2</td>\n",
       "      <td>cauchy1_vanilla</td>\n",
       "      <td>uni2</td>\n",
       "      <td>296.257894</td>\n",
       "      <td>61.029126</td>\n",
       "      <td>0.206</td>\n",
       "    </tr>\n",
       "    <tr>\n",
       "      <th>26</th>\n",
       "      <td>GO_mut:(cauchy1_vanilla)_cro:uni3</td>\n",
       "      <td>cauchy1_vanilla</td>\n",
       "      <td>uni3</td>\n",
       "      <td>302.113583</td>\n",
       "      <td>60.120603</td>\n",
       "      <td>0.199</td>\n",
       "    </tr>\n",
       "    <tr>\n",
       "      <th>80</th>\n",
       "      <td>GO_mut:(cauchy3_vanilla)_cro:uni3</td>\n",
       "      <td>cauchy3_vanilla</td>\n",
       "      <td>uni3</td>\n",
       "      <td>334.278435</td>\n",
       "      <td>52.147436</td>\n",
       "      <td>0.156</td>\n",
       "    </tr>\n",
       "    <tr>\n",
       "      <th>53</th>\n",
       "      <td>GO_mut:(cauchy2_vanilla)_cro:uni3</td>\n",
       "      <td>cauchy2_vanilla</td>\n",
       "      <td>uni3</td>\n",
       "      <td>348.412170</td>\n",
       "      <td>58.881657</td>\n",
       "      <td>0.169</td>\n",
       "    </tr>\n",
       "    <tr>\n",
       "      <th>51</th>\n",
       "      <td>GO_mut:(cauchy2_vanilla)_cro:uni1</td>\n",
       "      <td>cauchy2_vanilla</td>\n",
       "      <td>uni1</td>\n",
       "      <td>351.523438</td>\n",
       "      <td>56.243750</td>\n",
       "      <td>0.160</td>\n",
       "    </tr>\n",
       "    <tr>\n",
       "      <th>79</th>\n",
       "      <td>GO_mut:(cauchy3_vanilla)_cro:uni2</td>\n",
       "      <td>cauchy3_vanilla</td>\n",
       "      <td>uni2</td>\n",
       "      <td>381.822222</td>\n",
       "      <td>57.273333</td>\n",
       "      <td>0.150</td>\n",
       "    </tr>\n",
       "    <tr>\n",
       "      <th>78</th>\n",
       "      <td>GO_mut:(cauchy3_vanilla)_cro:uni1</td>\n",
       "      <td>cauchy3_vanilla</td>\n",
       "      <td>uni1</td>\n",
       "      <td>398.183155</td>\n",
       "      <td>54.949275</td>\n",
       "      <td>0.138</td>\n",
       "    </tr>\n",
       "    <tr>\n",
       "      <th>52</th>\n",
       "      <td>GO_mut:(cauchy2_vanilla)_cro:uni2</td>\n",
       "      <td>cauchy2_vanilla</td>\n",
       "      <td>uni2</td>\n",
       "      <td>412.448204</td>\n",
       "      <td>63.104575</td>\n",
       "      <td>0.153</td>\n",
       "    </tr>\n",
       "  </tbody>\n",
       "</table>\n",
       "</div>"
      ],
      "text/plain": [
       "                                 heur         mutation crossover         feo  \\\n",
       "24  GO_mut:(cauchy1_vanilla)_cro:uni1  cauchy1_vanilla      uni1  266.118172   \n",
       "25  GO_mut:(cauchy1_vanilla)_cro:uni2  cauchy1_vanilla      uni2  296.257894   \n",
       "26  GO_mut:(cauchy1_vanilla)_cro:uni3  cauchy1_vanilla      uni3  302.113583   \n",
       "80  GO_mut:(cauchy3_vanilla)_cro:uni3  cauchy3_vanilla      uni3  334.278435   \n",
       "53  GO_mut:(cauchy2_vanilla)_cro:uni3  cauchy2_vanilla      uni3  348.412170   \n",
       "51  GO_mut:(cauchy2_vanilla)_cro:uni1  cauchy2_vanilla      uni1  351.523438   \n",
       "79  GO_mut:(cauchy3_vanilla)_cro:uni2  cauchy3_vanilla      uni2  381.822222   \n",
       "78  GO_mut:(cauchy3_vanilla)_cro:uni1  cauchy3_vanilla      uni1  398.183155   \n",
       "52  GO_mut:(cauchy2_vanilla)_cro:uni2  cauchy2_vanilla      uni2  412.448204   \n",
       "\n",
       "          mne    rel  \n",
       "24  58.013761  0.218  \n",
       "25  61.029126  0.206  \n",
       "26  60.120603  0.199  \n",
       "80  52.147436  0.156  \n",
       "53  58.881657  0.169  \n",
       "51  56.243750  0.160  \n",
       "79  57.273333  0.150  \n",
       "78  54.949275  0.138  \n",
       "52  63.104575  0.153  "
      ]
     },
     "execution_count": 12,
     "metadata": {},
     "output_type": "execute_result"
    }
   ],
   "source": [
    "results_pivot_vanilla[(results_pivot_vanilla['crossover'].isin(['uni1', 'uni2', 'uni3']))].sort_values(by='feo')"
   ]
  },
  {
   "cell_type": "code",
   "execution_count": 13,
   "metadata": {},
   "outputs": [
    {
     "data": {
      "text/html": [
       "<div>\n",
       "<style scoped>\n",
       "    .dataframe tbody tr th:only-of-type {\n",
       "        vertical-align: middle;\n",
       "    }\n",
       "\n",
       "    .dataframe tbody tr th {\n",
       "        vertical-align: top;\n",
       "    }\n",
       "\n",
       "    .dataframe thead th {\n",
       "        text-align: right;\n",
       "    }\n",
       "</style>\n",
       "<table border=\"1\" class=\"dataframe\">\n",
       "  <thead>\n",
       "    <tr style=\"text-align: right;\">\n",
       "      <th></th>\n",
       "      <th>heur</th>\n",
       "      <th>mutation</th>\n",
       "      <th>crossover</th>\n",
       "      <th>feo</th>\n",
       "      <th>mne</th>\n",
       "      <th>rel</th>\n",
       "    </tr>\n",
       "  </thead>\n",
       "  <tbody>\n",
       "    <tr>\n",
       "      <th>23</th>\n",
       "      <td>GO_mut:(cauchy1_vanilla)_cro:rnd</td>\n",
       "      <td>cauchy1_vanilla</td>\n",
       "      <td>rnd</td>\n",
       "      <td>283.431418</td>\n",
       "      <td>60.370892</td>\n",
       "      <td>0.213</td>\n",
       "    </tr>\n",
       "    <tr>\n",
       "      <th>22</th>\n",
       "      <td>GO_mut:(cauchy1_vanilla)_cro:mix</td>\n",
       "      <td>cauchy1_vanilla</td>\n",
       "      <td>mix</td>\n",
       "      <td>290.320951</td>\n",
       "      <td>57.773869</td>\n",
       "      <td>0.199</td>\n",
       "    </tr>\n",
       "    <tr>\n",
       "      <th>50</th>\n",
       "      <td>GO_mut:(cauchy2_vanilla)_cro:rnd</td>\n",
       "      <td>cauchy2_vanilla</td>\n",
       "      <td>rnd</td>\n",
       "      <td>339.906196</td>\n",
       "      <td>59.143678</td>\n",
       "      <td>0.174</td>\n",
       "    </tr>\n",
       "    <tr>\n",
       "      <th>49</th>\n",
       "      <td>GO_mut:(cauchy2_vanilla)_cro:mix</td>\n",
       "      <td>cauchy2_vanilla</td>\n",
       "      <td>mix</td>\n",
       "      <td>345.450680</td>\n",
       "      <td>58.035714</td>\n",
       "      <td>0.168</td>\n",
       "    </tr>\n",
       "    <tr>\n",
       "      <th>77</th>\n",
       "      <td>GO_mut:(cauchy3_vanilla)_cro:rnd</td>\n",
       "      <td>cauchy3_vanilla</td>\n",
       "      <td>rnd</td>\n",
       "      <td>356.513379</td>\n",
       "      <td>56.329114</td>\n",
       "      <td>0.158</td>\n",
       "    </tr>\n",
       "    <tr>\n",
       "      <th>76</th>\n",
       "      <td>GO_mut:(cauchy3_vanilla)_cro:mix</td>\n",
       "      <td>cauchy3_vanilla</td>\n",
       "      <td>mix</td>\n",
       "      <td>382.717208</td>\n",
       "      <td>55.876712</td>\n",
       "      <td>0.146</td>\n",
       "    </tr>\n",
       "  </tbody>\n",
       "</table>\n",
       "</div>"
      ],
      "text/plain": [
       "                                heur         mutation crossover         feo  \\\n",
       "23  GO_mut:(cauchy1_vanilla)_cro:rnd  cauchy1_vanilla       rnd  283.431418   \n",
       "22  GO_mut:(cauchy1_vanilla)_cro:mix  cauchy1_vanilla       mix  290.320951   \n",
       "50  GO_mut:(cauchy2_vanilla)_cro:rnd  cauchy2_vanilla       rnd  339.906196   \n",
       "49  GO_mut:(cauchy2_vanilla)_cro:mix  cauchy2_vanilla       mix  345.450680   \n",
       "77  GO_mut:(cauchy3_vanilla)_cro:rnd  cauchy3_vanilla       rnd  356.513379   \n",
       "76  GO_mut:(cauchy3_vanilla)_cro:mix  cauchy3_vanilla       mix  382.717208   \n",
       "\n",
       "          mne    rel  \n",
       "23  60.370892  0.213  \n",
       "22  57.773869  0.199  \n",
       "50  59.143678  0.174  \n",
       "49  58.035714  0.168  \n",
       "77  56.329114  0.158  \n",
       "76  55.876712  0.146  "
      ]
     },
     "execution_count": 13,
     "metadata": {},
     "output_type": "execute_result"
    }
   ],
   "source": [
    "results_pivot_vanilla[(results_pivot_vanilla['crossover'].isin(['rnd', 'mix']))].sort_values(by='feo')"
   ]
  },
  {
   "cell_type": "markdown",
   "metadata": {},
   "source": [
    "Analogicky si zistíme aj pre pôvodné crossover metódy, že s ktorou mutation a correction metódou pracujú najlepšie: <br>\n",
    "\n",
    "UniformMultipoint(1): cauchy1_vanilla <br>\n",
    "UniformMultipoint(2): cauchy1_vanilla <br>\n",
    "UniformMultipoint(3): cauchy1_vanilla <br>\n",
    "RandomCombination(): cauchy1_vanilla <br>\n",
    "Crossover(): cauchy1_vanilla <br>\n",
    "\n",
    "Vybrali sme teda 5 najlepších kombinácii (v zmysle porovnávania crossover metód) z tých, čo boli implementované v rámci kurzu HEUR a vyššie sme vybrali 2 najlepšie kombinácie s novo navrhnutými crossover metódami. Týchto 7 nastavení budeme ďalej testovať pre rôzne hodnoty hyper-parametrov $ N, M, T_{1}, T_{2} $. "
   ]
  },
  {
   "cell_type": "markdown",
   "metadata": {},
   "source": [
    "## 3. Tuning hyper-parametrov $ N, M, T_{1}, T_{2} $"
   ]
  },
  {
   "cell_type": "code",
   "execution_count": 14,
   "metadata": {},
   "outputs": [],
   "source": [
    "N = [3, 5, 10, 15]\n",
    "T1 = [0.5, 1, 5]\n",
    "T2 = [0.1, 0.4]"
   ]
  },
  {
   "cell_type": "markdown",
   "metadata": {},
   "source": [
    "Parameter $ M $ volíme $  M = 3*N $."
   ]
  },
  {
   "cell_type": "code",
   "execution_count": 15,
   "metadata": {},
   "outputs": [],
   "source": [
    "crossovers_mutations = [\n",
    "    {'crossover': UniformMultipoint(1), 'mutation': CauchyMutation(r=1, correction = Correction(tsp)), 'name':\n",
    "    'uni1_cauchy1'},\n",
    "    {'crossover': UniformMultipoint(2), 'mutation': CauchyMutation(r=1, correction = Correction(tsp)), 'name':\n",
    "    'uni2_cauchy1'},\n",
    "    {'crossover': UniformMultipoint(3), 'mutation': CauchyMutation(r=1, correction = Correction(tsp)), 'name':\n",
    "    'uni3_cauchy1'},\n",
    "    {'crossover': MatchCrossoverMax(), 'mutation': CauchyMutation(r=1, correction = Correction(tsp)), 'name':\n",
    "    'MCM_cauchy1'},\n",
    "    {'crossover': MisMatchCrossoverMax(), 'mutation': CauchyMutation(r=2, correction = Correction(tsp)), 'name':\n",
    "    'MMCM_cauchy3'},\n",
    "    {'crossover': RandomCombination(), 'mutation': CauchyMutation(r=1, correction = Correction(tsp)), 'name':\n",
    "    'rnd_cauchy1'},\n",
    "    {'crossover': Crossover(), 'mutation': CauchyMutation(r=1, correction = Correction(tsp)), 'name':\n",
    "    'mix_cauchy1'}\n",
    "]"
   ]
  },
  {
   "cell_type": "code",
   "execution_count": 16,
   "metadata": {},
   "outputs": [
    {
     "data": {
      "application/vnd.jupyter.widget-view+json": {
       "model_id": "6fc05f8f51504f709b25033be6106fc5",
       "version_major": 2,
       "version_minor": 0
      },
      "text/plain": [
       "HBox(children=(FloatProgress(value=0.0, description='Testing GO_uni1_cauchy1_N:3_T1:0.5_T2:0.1', max=1000.0, s…"
      ]
     },
     "metadata": {},
     "output_type": "display_data"
    },
    {
     "name": "stdout",
     "output_type": "stream",
     "text": [
      "\n"
     ]
    },
    {
     "data": {
      "application/vnd.jupyter.widget-view+json": {
       "model_id": "b119df0abeba4ef082aa8d87c787c414",
       "version_major": 2,
       "version_minor": 0
      },
      "text/plain": [
       "HBox(children=(FloatProgress(value=0.0, description='Testing GO_uni2_cauchy1_N:3_T1:0.5_T2:0.1', max=1000.0, s…"
      ]
     },
     "metadata": {},
     "output_type": "display_data"
    },
    {
     "name": "stdout",
     "output_type": "stream",
     "text": [
      "\n"
     ]
    },
    {
     "data": {
      "application/vnd.jupyter.widget-view+json": {
       "model_id": "91a31b9ed06249e9a527e3944a14679f",
       "version_major": 2,
       "version_minor": 0
      },
      "text/plain": [
       "HBox(children=(FloatProgress(value=0.0, description='Testing GO_uni3_cauchy1_N:3_T1:0.5_T2:0.1', max=1000.0, s…"
      ]
     },
     "metadata": {},
     "output_type": "display_data"
    },
    {
     "name": "stdout",
     "output_type": "stream",
     "text": [
      "\n"
     ]
    },
    {
     "data": {
      "application/vnd.jupyter.widget-view+json": {
       "model_id": "e2d7eca2d4a54d9e843fe01407f7c120",
       "version_major": 2,
       "version_minor": 0
      },
      "text/plain": [
       "HBox(children=(FloatProgress(value=0.0, description='Testing GO_MCM_cauchy1_N:3_T1:0.5_T2:0.1', max=1000.0, st…"
      ]
     },
     "metadata": {},
     "output_type": "display_data"
    },
    {
     "name": "stdout",
     "output_type": "stream",
     "text": [
      "\n"
     ]
    },
    {
     "data": {
      "application/vnd.jupyter.widget-view+json": {
       "model_id": "a4b673a7ccdb43688e4a66aa85d1f924",
       "version_major": 2,
       "version_minor": 0
      },
      "text/plain": [
       "HBox(children=(FloatProgress(value=0.0, description='Testing GO_MMCM_cauchy3_N:3_T1:0.5_T2:0.1', max=1000.0, s…"
      ]
     },
     "metadata": {},
     "output_type": "display_data"
    },
    {
     "name": "stdout",
     "output_type": "stream",
     "text": [
      "\n"
     ]
    },
    {
     "data": {
      "application/vnd.jupyter.widget-view+json": {
       "model_id": "7a5e794a1e4f4127b1ae138c5009e905",
       "version_major": 2,
       "version_minor": 0
      },
      "text/plain": [
       "HBox(children=(FloatProgress(value=0.0, description='Testing GO_rnd_cauchy1_N:3_T1:0.5_T2:0.1', max=1000.0, st…"
      ]
     },
     "metadata": {},
     "output_type": "display_data"
    },
    {
     "name": "stdout",
     "output_type": "stream",
     "text": [
      "\n"
     ]
    },
    {
     "data": {
      "application/vnd.jupyter.widget-view+json": {
       "model_id": "9536e1eb27ec49319262b62b4006128d",
       "version_major": 2,
       "version_minor": 0
      },
      "text/plain": [
       "HBox(children=(FloatProgress(value=0.0, description='Testing GO_mix_cauchy1_N:3_T1:0.5_T2:0.1', max=1000.0, st…"
      ]
     },
     "metadata": {},
     "output_type": "display_data"
    },
    {
     "name": "stdout",
     "output_type": "stream",
     "text": [
      "\n"
     ]
    },
    {
     "data": {
      "application/vnd.jupyter.widget-view+json": {
       "model_id": "11258694bb004240a19eb8ab52818bfe",
       "version_major": 2,
       "version_minor": 0
      },
      "text/plain": [
       "HBox(children=(FloatProgress(value=0.0, description='Testing GO_uni1_cauchy1_N:3_T1:0.5_T2:0.4', max=1000.0, s…"
      ]
     },
     "metadata": {},
     "output_type": "display_data"
    },
    {
     "name": "stdout",
     "output_type": "stream",
     "text": [
      "\n"
     ]
    },
    {
     "data": {
      "application/vnd.jupyter.widget-view+json": {
       "model_id": "c26022da468843e68e460b392d7f0ddd",
       "version_major": 2,
       "version_minor": 0
      },
      "text/plain": [
       "HBox(children=(FloatProgress(value=0.0, description='Testing GO_uni2_cauchy1_N:3_T1:0.5_T2:0.4', max=1000.0, s…"
      ]
     },
     "metadata": {},
     "output_type": "display_data"
    },
    {
     "name": "stdout",
     "output_type": "stream",
     "text": [
      "\n"
     ]
    },
    {
     "data": {
      "application/vnd.jupyter.widget-view+json": {
       "model_id": "f675942c2b9a411c89299e92d1f44202",
       "version_major": 2,
       "version_minor": 0
      },
      "text/plain": [
       "HBox(children=(FloatProgress(value=0.0, description='Testing GO_uni3_cauchy1_N:3_T1:0.5_T2:0.4', max=1000.0, s…"
      ]
     },
     "metadata": {},
     "output_type": "display_data"
    },
    {
     "name": "stdout",
     "output_type": "stream",
     "text": [
      "\n"
     ]
    },
    {
     "data": {
      "application/vnd.jupyter.widget-view+json": {
       "model_id": "a4493f79824c42db8ea3280ea53a1d6d",
       "version_major": 2,
       "version_minor": 0
      },
      "text/plain": [
       "HBox(children=(FloatProgress(value=0.0, description='Testing GO_MCM_cauchy1_N:3_T1:0.5_T2:0.4', max=1000.0, st…"
      ]
     },
     "metadata": {},
     "output_type": "display_data"
    },
    {
     "name": "stdout",
     "output_type": "stream",
     "text": [
      "\n"
     ]
    },
    {
     "data": {
      "application/vnd.jupyter.widget-view+json": {
       "model_id": "47dfed1fe7a54a05ae9a54502cd069a0",
       "version_major": 2,
       "version_minor": 0
      },
      "text/plain": [
       "HBox(children=(FloatProgress(value=0.0, description='Testing GO_MMCM_cauchy3_N:3_T1:0.5_T2:0.4', max=1000.0, s…"
      ]
     },
     "metadata": {},
     "output_type": "display_data"
    },
    {
     "name": "stdout",
     "output_type": "stream",
     "text": [
      "\n"
     ]
    },
    {
     "data": {
      "application/vnd.jupyter.widget-view+json": {
       "model_id": "bd4ec30c7fa445c59de1d7b2c7277f31",
       "version_major": 2,
       "version_minor": 0
      },
      "text/plain": [
       "HBox(children=(FloatProgress(value=0.0, description='Testing GO_rnd_cauchy1_N:3_T1:0.5_T2:0.4', max=1000.0, st…"
      ]
     },
     "metadata": {},
     "output_type": "display_data"
    },
    {
     "name": "stdout",
     "output_type": "stream",
     "text": [
      "\n"
     ]
    },
    {
     "data": {
      "application/vnd.jupyter.widget-view+json": {
       "model_id": "78d2663cbe6a4695bb5b62791235964f",
       "version_major": 2,
       "version_minor": 0
      },
      "text/plain": [
       "HBox(children=(FloatProgress(value=0.0, description='Testing GO_mix_cauchy1_N:3_T1:0.5_T2:0.4', max=1000.0, st…"
      ]
     },
     "metadata": {},
     "output_type": "display_data"
    },
    {
     "name": "stdout",
     "output_type": "stream",
     "text": [
      "\n"
     ]
    },
    {
     "data": {
      "application/vnd.jupyter.widget-view+json": {
       "model_id": "4a23b2a7212f4cc3b55cc9e6db923850",
       "version_major": 2,
       "version_minor": 0
      },
      "text/plain": [
       "HBox(children=(FloatProgress(value=0.0, description='Testing GO_uni1_cauchy1_N:3_T1:1_T2:0.1', max=1000.0, sty…"
      ]
     },
     "metadata": {},
     "output_type": "display_data"
    },
    {
     "name": "stdout",
     "output_type": "stream",
     "text": [
      "\n"
     ]
    },
    {
     "data": {
      "application/vnd.jupyter.widget-view+json": {
       "model_id": "7688555ceb424a058554abe6c75a9e52",
       "version_major": 2,
       "version_minor": 0
      },
      "text/plain": [
       "HBox(children=(FloatProgress(value=0.0, description='Testing GO_uni2_cauchy1_N:3_T1:1_T2:0.1', max=1000.0, sty…"
      ]
     },
     "metadata": {},
     "output_type": "display_data"
    },
    {
     "name": "stdout",
     "output_type": "stream",
     "text": [
      "\n"
     ]
    },
    {
     "data": {
      "application/vnd.jupyter.widget-view+json": {
       "model_id": "d52df1c544f7474085cf5620d261036d",
       "version_major": 2,
       "version_minor": 0
      },
      "text/plain": [
       "HBox(children=(FloatProgress(value=0.0, description='Testing GO_uni3_cauchy1_N:3_T1:1_T2:0.1', max=1000.0, sty…"
      ]
     },
     "metadata": {},
     "output_type": "display_data"
    },
    {
     "name": "stdout",
     "output_type": "stream",
     "text": [
      "\n"
     ]
    },
    {
     "data": {
      "application/vnd.jupyter.widget-view+json": {
       "model_id": "cb1eda8dc1d548a3b04ed2e074c1005e",
       "version_major": 2,
       "version_minor": 0
      },
      "text/plain": [
       "HBox(children=(FloatProgress(value=0.0, description='Testing GO_MCM_cauchy1_N:3_T1:1_T2:0.1', max=1000.0, styl…"
      ]
     },
     "metadata": {},
     "output_type": "display_data"
    },
    {
     "name": "stdout",
     "output_type": "stream",
     "text": [
      "\n"
     ]
    },
    {
     "data": {
      "application/vnd.jupyter.widget-view+json": {
       "model_id": "c4fa967954bf4935bb374368c37aa204",
       "version_major": 2,
       "version_minor": 0
      },
      "text/plain": [
       "HBox(children=(FloatProgress(value=0.0, description='Testing GO_MMCM_cauchy3_N:3_T1:1_T2:0.1', max=1000.0, sty…"
      ]
     },
     "metadata": {},
     "output_type": "display_data"
    },
    {
     "name": "stdout",
     "output_type": "stream",
     "text": [
      "\n"
     ]
    },
    {
     "data": {
      "application/vnd.jupyter.widget-view+json": {
       "model_id": "71ce3e835d434357afd5824fa9ccc27b",
       "version_major": 2,
       "version_minor": 0
      },
      "text/plain": [
       "HBox(children=(FloatProgress(value=0.0, description='Testing GO_rnd_cauchy1_N:3_T1:1_T2:0.1', max=1000.0, styl…"
      ]
     },
     "metadata": {},
     "output_type": "display_data"
    },
    {
     "name": "stdout",
     "output_type": "stream",
     "text": [
      "\n"
     ]
    },
    {
     "data": {
      "application/vnd.jupyter.widget-view+json": {
       "model_id": "cf66bc8314a843cf988fad3b9372277b",
       "version_major": 2,
       "version_minor": 0
      },
      "text/plain": [
       "HBox(children=(FloatProgress(value=0.0, description='Testing GO_mix_cauchy1_N:3_T1:1_T2:0.1', max=1000.0, styl…"
      ]
     },
     "metadata": {},
     "output_type": "display_data"
    },
    {
     "name": "stdout",
     "output_type": "stream",
     "text": [
      "\n"
     ]
    },
    {
     "data": {
      "application/vnd.jupyter.widget-view+json": {
       "model_id": "7b31d3cf85ec414b8c5be75ce2e27e0e",
       "version_major": 2,
       "version_minor": 0
      },
      "text/plain": [
       "HBox(children=(FloatProgress(value=0.0, description='Testing GO_uni1_cauchy1_N:3_T1:1_T2:0.4', max=1000.0, sty…"
      ]
     },
     "metadata": {},
     "output_type": "display_data"
    },
    {
     "name": "stdout",
     "output_type": "stream",
     "text": [
      "\n"
     ]
    },
    {
     "data": {
      "application/vnd.jupyter.widget-view+json": {
       "model_id": "155cb291f3674197b79c6378df3cdf1f",
       "version_major": 2,
       "version_minor": 0
      },
      "text/plain": [
       "HBox(children=(FloatProgress(value=0.0, description='Testing GO_uni2_cauchy1_N:3_T1:1_T2:0.4', max=1000.0, sty…"
      ]
     },
     "metadata": {},
     "output_type": "display_data"
    },
    {
     "name": "stdout",
     "output_type": "stream",
     "text": [
      "\n"
     ]
    },
    {
     "data": {
      "application/vnd.jupyter.widget-view+json": {
       "model_id": "07827df3af1f4de794f356fd0638d1a3",
       "version_major": 2,
       "version_minor": 0
      },
      "text/plain": [
       "HBox(children=(FloatProgress(value=0.0, description='Testing GO_uni3_cauchy1_N:3_T1:1_T2:0.4', max=1000.0, sty…"
      ]
     },
     "metadata": {},
     "output_type": "display_data"
    },
    {
     "name": "stdout",
     "output_type": "stream",
     "text": [
      "\n"
     ]
    },
    {
     "data": {
      "application/vnd.jupyter.widget-view+json": {
       "model_id": "9d1b49de8bd64c56b1c6944724a6cced",
       "version_major": 2,
       "version_minor": 0
      },
      "text/plain": [
       "HBox(children=(FloatProgress(value=0.0, description='Testing GO_MCM_cauchy1_N:3_T1:1_T2:0.4', max=1000.0, styl…"
      ]
     },
     "metadata": {},
     "output_type": "display_data"
    },
    {
     "name": "stdout",
     "output_type": "stream",
     "text": [
      "\n"
     ]
    },
    {
     "data": {
      "application/vnd.jupyter.widget-view+json": {
       "model_id": "e832482c85e848278a4a42e641acfad8",
       "version_major": 2,
       "version_minor": 0
      },
      "text/plain": [
       "HBox(children=(FloatProgress(value=0.0, description='Testing GO_MMCM_cauchy3_N:3_T1:1_T2:0.4', max=1000.0, sty…"
      ]
     },
     "metadata": {},
     "output_type": "display_data"
    },
    {
     "name": "stdout",
     "output_type": "stream",
     "text": [
      "\n"
     ]
    },
    {
     "data": {
      "application/vnd.jupyter.widget-view+json": {
       "model_id": "490147aee12a49cebfb193d2f3165606",
       "version_major": 2,
       "version_minor": 0
      },
      "text/plain": [
       "HBox(children=(FloatProgress(value=0.0, description='Testing GO_rnd_cauchy1_N:3_T1:1_T2:0.4', max=1000.0, styl…"
      ]
     },
     "metadata": {},
     "output_type": "display_data"
    },
    {
     "name": "stdout",
     "output_type": "stream",
     "text": [
      "\n"
     ]
    },
    {
     "data": {
      "application/vnd.jupyter.widget-view+json": {
       "model_id": "79eb4a7678894723a8313fb8698f818b",
       "version_major": 2,
       "version_minor": 0
      },
      "text/plain": [
       "HBox(children=(FloatProgress(value=0.0, description='Testing GO_mix_cauchy1_N:3_T1:1_T2:0.4', max=1000.0, styl…"
      ]
     },
     "metadata": {},
     "output_type": "display_data"
    },
    {
     "name": "stdout",
     "output_type": "stream",
     "text": [
      "\n"
     ]
    },
    {
     "data": {
      "application/vnd.jupyter.widget-view+json": {
       "model_id": "483e05bb0ba343b7b7d9fb94859e542e",
       "version_major": 2,
       "version_minor": 0
      },
      "text/plain": [
       "HBox(children=(FloatProgress(value=0.0, description='Testing GO_uni1_cauchy1_N:3_T1:5_T2:0.1', max=1000.0, sty…"
      ]
     },
     "metadata": {},
     "output_type": "display_data"
    },
    {
     "name": "stdout",
     "output_type": "stream",
     "text": [
      "\n"
     ]
    },
    {
     "data": {
      "application/vnd.jupyter.widget-view+json": {
       "model_id": "3f3e40211ee444a29ce8cb3f4697282b",
       "version_major": 2,
       "version_minor": 0
      },
      "text/plain": [
       "HBox(children=(FloatProgress(value=0.0, description='Testing GO_uni2_cauchy1_N:3_T1:5_T2:0.1', max=1000.0, sty…"
      ]
     },
     "metadata": {},
     "output_type": "display_data"
    },
    {
     "name": "stdout",
     "output_type": "stream",
     "text": [
      "\n"
     ]
    },
    {
     "data": {
      "application/vnd.jupyter.widget-view+json": {
       "model_id": "763e62a7efb14acfb2f43721dcba1757",
       "version_major": 2,
       "version_minor": 0
      },
      "text/plain": [
       "HBox(children=(FloatProgress(value=0.0, description='Testing GO_uni3_cauchy1_N:3_T1:5_T2:0.1', max=1000.0, sty…"
      ]
     },
     "metadata": {},
     "output_type": "display_data"
    },
    {
     "name": "stdout",
     "output_type": "stream",
     "text": [
      "\n"
     ]
    },
    {
     "data": {
      "application/vnd.jupyter.widget-view+json": {
       "model_id": "95ef08d185924c459d674bee92860fff",
       "version_major": 2,
       "version_minor": 0
      },
      "text/plain": [
       "HBox(children=(FloatProgress(value=0.0, description='Testing GO_MCM_cauchy1_N:3_T1:5_T2:0.1', max=1000.0, styl…"
      ]
     },
     "metadata": {},
     "output_type": "display_data"
    },
    {
     "name": "stdout",
     "output_type": "stream",
     "text": [
      "\n"
     ]
    },
    {
     "data": {
      "application/vnd.jupyter.widget-view+json": {
       "model_id": "57b9904ea5b74cf59f3ccec3b3a4bc81",
       "version_major": 2,
       "version_minor": 0
      },
      "text/plain": [
       "HBox(children=(FloatProgress(value=0.0, description='Testing GO_MMCM_cauchy3_N:3_T1:5_T2:0.1', max=1000.0, sty…"
      ]
     },
     "metadata": {},
     "output_type": "display_data"
    },
    {
     "name": "stdout",
     "output_type": "stream",
     "text": [
      "\n"
     ]
    },
    {
     "data": {
      "application/vnd.jupyter.widget-view+json": {
       "model_id": "89b0c1fbb3f14f3f93fe6edda02d01e4",
       "version_major": 2,
       "version_minor": 0
      },
      "text/plain": [
       "HBox(children=(FloatProgress(value=0.0, description='Testing GO_rnd_cauchy1_N:3_T1:5_T2:0.1', max=1000.0, styl…"
      ]
     },
     "metadata": {},
     "output_type": "display_data"
    },
    {
     "name": "stdout",
     "output_type": "stream",
     "text": [
      "\n"
     ]
    },
    {
     "data": {
      "application/vnd.jupyter.widget-view+json": {
       "model_id": "0c119bf169a645a29ba12b5b141587d3",
       "version_major": 2,
       "version_minor": 0
      },
      "text/plain": [
       "HBox(children=(FloatProgress(value=0.0, description='Testing GO_mix_cauchy1_N:3_T1:5_T2:0.1', max=1000.0, styl…"
      ]
     },
     "metadata": {},
     "output_type": "display_data"
    },
    {
     "name": "stdout",
     "output_type": "stream",
     "text": [
      "\n"
     ]
    },
    {
     "data": {
      "application/vnd.jupyter.widget-view+json": {
       "model_id": "1145329d41884990b47e547d0d02339f",
       "version_major": 2,
       "version_minor": 0
      },
      "text/plain": [
       "HBox(children=(FloatProgress(value=0.0, description='Testing GO_uni1_cauchy1_N:3_T1:5_T2:0.4', max=1000.0, sty…"
      ]
     },
     "metadata": {},
     "output_type": "display_data"
    },
    {
     "name": "stdout",
     "output_type": "stream",
     "text": [
      "\n"
     ]
    },
    {
     "data": {
      "application/vnd.jupyter.widget-view+json": {
       "model_id": "fd57e30f4e49492aa21494992dbeb967",
       "version_major": 2,
       "version_minor": 0
      },
      "text/plain": [
       "HBox(children=(FloatProgress(value=0.0, description='Testing GO_uni2_cauchy1_N:3_T1:5_T2:0.4', max=1000.0, sty…"
      ]
     },
     "metadata": {},
     "output_type": "display_data"
    },
    {
     "name": "stdout",
     "output_type": "stream",
     "text": [
      "\n"
     ]
    },
    {
     "data": {
      "application/vnd.jupyter.widget-view+json": {
       "model_id": "1e0c4f6bef5544d6a31c3a9b92ba765b",
       "version_major": 2,
       "version_minor": 0
      },
      "text/plain": [
       "HBox(children=(FloatProgress(value=0.0, description='Testing GO_uni3_cauchy1_N:3_T1:5_T2:0.4', max=1000.0, sty…"
      ]
     },
     "metadata": {},
     "output_type": "display_data"
    },
    {
     "name": "stdout",
     "output_type": "stream",
     "text": [
      "\n"
     ]
    },
    {
     "data": {
      "application/vnd.jupyter.widget-view+json": {
       "model_id": "5f5d92fc97ce4777a5372a26f47bf4ce",
       "version_major": 2,
       "version_minor": 0
      },
      "text/plain": [
       "HBox(children=(FloatProgress(value=0.0, description='Testing GO_MCM_cauchy1_N:3_T1:5_T2:0.4', max=1000.0, styl…"
      ]
     },
     "metadata": {},
     "output_type": "display_data"
    },
    {
     "name": "stdout",
     "output_type": "stream",
     "text": [
      "\n"
     ]
    },
    {
     "data": {
      "application/vnd.jupyter.widget-view+json": {
       "model_id": "efd2149389e940ddb7212c3ec30f3e63",
       "version_major": 2,
       "version_minor": 0
      },
      "text/plain": [
       "HBox(children=(FloatProgress(value=0.0, description='Testing GO_MMCM_cauchy3_N:3_T1:5_T2:0.4', max=1000.0, sty…"
      ]
     },
     "metadata": {},
     "output_type": "display_data"
    },
    {
     "name": "stdout",
     "output_type": "stream",
     "text": [
      "\n"
     ]
    },
    {
     "data": {
      "application/vnd.jupyter.widget-view+json": {
       "model_id": "c396fed8d51844cfa132bc5c6ef7e151",
       "version_major": 2,
       "version_minor": 0
      },
      "text/plain": [
       "HBox(children=(FloatProgress(value=0.0, description='Testing GO_rnd_cauchy1_N:3_T1:5_T2:0.4', max=1000.0, styl…"
      ]
     },
     "metadata": {},
     "output_type": "display_data"
    },
    {
     "name": "stdout",
     "output_type": "stream",
     "text": [
      "\n"
     ]
    },
    {
     "data": {
      "application/vnd.jupyter.widget-view+json": {
       "model_id": "346e54357c9d489e8ac1b3afe860e8bb",
       "version_major": 2,
       "version_minor": 0
      },
      "text/plain": [
       "HBox(children=(FloatProgress(value=0.0, description='Testing GO_mix_cauchy1_N:3_T1:5_T2:0.4', max=1000.0, styl…"
      ]
     },
     "metadata": {},
     "output_type": "display_data"
    },
    {
     "name": "stdout",
     "output_type": "stream",
     "text": [
      "\n"
     ]
    },
    {
     "data": {
      "application/vnd.jupyter.widget-view+json": {
       "model_id": "b08a3da0f1eb453eabd766206fa6f5df",
       "version_major": 2,
       "version_minor": 0
      },
      "text/plain": [
       "HBox(children=(FloatProgress(value=0.0, description='Testing GO_uni1_cauchy1_N:5_T1:0.5_T2:0.1', max=1000.0, s…"
      ]
     },
     "metadata": {},
     "output_type": "display_data"
    },
    {
     "name": "stdout",
     "output_type": "stream",
     "text": [
      "\n"
     ]
    },
    {
     "data": {
      "application/vnd.jupyter.widget-view+json": {
       "model_id": "16c399a8c67843aeaddb5f1c9526ba1c",
       "version_major": 2,
       "version_minor": 0
      },
      "text/plain": [
       "HBox(children=(FloatProgress(value=0.0, description='Testing GO_uni2_cauchy1_N:5_T1:0.5_T2:0.1', max=1000.0, s…"
      ]
     },
     "metadata": {},
     "output_type": "display_data"
    },
    {
     "name": "stdout",
     "output_type": "stream",
     "text": [
      "\n"
     ]
    },
    {
     "data": {
      "application/vnd.jupyter.widget-view+json": {
       "model_id": "2d0e7fbf51ae435e9453ec212de42ef2",
       "version_major": 2,
       "version_minor": 0
      },
      "text/plain": [
       "HBox(children=(FloatProgress(value=0.0, description='Testing GO_uni3_cauchy1_N:5_T1:0.5_T2:0.1', max=1000.0, s…"
      ]
     },
     "metadata": {},
     "output_type": "display_data"
    },
    {
     "name": "stdout",
     "output_type": "stream",
     "text": [
      "\n"
     ]
    },
    {
     "data": {
      "application/vnd.jupyter.widget-view+json": {
       "model_id": "223d35dedb0348fca08a36fa63170a14",
       "version_major": 2,
       "version_minor": 0
      },
      "text/plain": [
       "HBox(children=(FloatProgress(value=0.0, description='Testing GO_MCM_cauchy1_N:5_T1:0.5_T2:0.1', max=1000.0, st…"
      ]
     },
     "metadata": {},
     "output_type": "display_data"
    },
    {
     "name": "stdout",
     "output_type": "stream",
     "text": [
      "\n"
     ]
    },
    {
     "data": {
      "application/vnd.jupyter.widget-view+json": {
       "model_id": "5ed45c60e1d34355b077c9de06d22882",
       "version_major": 2,
       "version_minor": 0
      },
      "text/plain": [
       "HBox(children=(FloatProgress(value=0.0, description='Testing GO_MMCM_cauchy3_N:5_T1:0.5_T2:0.1', max=1000.0, s…"
      ]
     },
     "metadata": {},
     "output_type": "display_data"
    },
    {
     "name": "stdout",
     "output_type": "stream",
     "text": [
      "\n"
     ]
    },
    {
     "data": {
      "application/vnd.jupyter.widget-view+json": {
       "model_id": "82e4b776f1c84fba85f1dc54b6823558",
       "version_major": 2,
       "version_minor": 0
      },
      "text/plain": [
       "HBox(children=(FloatProgress(value=0.0, description='Testing GO_rnd_cauchy1_N:5_T1:0.5_T2:0.1', max=1000.0, st…"
      ]
     },
     "metadata": {},
     "output_type": "display_data"
    },
    {
     "name": "stdout",
     "output_type": "stream",
     "text": [
      "\n"
     ]
    },
    {
     "data": {
      "application/vnd.jupyter.widget-view+json": {
       "model_id": "e1034d4328b34051b139be2a28635cf7",
       "version_major": 2,
       "version_minor": 0
      },
      "text/plain": [
       "HBox(children=(FloatProgress(value=0.0, description='Testing GO_mix_cauchy1_N:5_T1:0.5_T2:0.1', max=1000.0, st…"
      ]
     },
     "metadata": {},
     "output_type": "display_data"
    },
    {
     "name": "stdout",
     "output_type": "stream",
     "text": [
      "\n"
     ]
    },
    {
     "data": {
      "application/vnd.jupyter.widget-view+json": {
       "model_id": "e39a5c29deec4578a0205647ea38dd82",
       "version_major": 2,
       "version_minor": 0
      },
      "text/plain": [
       "HBox(children=(FloatProgress(value=0.0, description='Testing GO_uni1_cauchy1_N:5_T1:0.5_T2:0.4', max=1000.0, s…"
      ]
     },
     "metadata": {},
     "output_type": "display_data"
    },
    {
     "name": "stdout",
     "output_type": "stream",
     "text": [
      "\n"
     ]
    },
    {
     "data": {
      "application/vnd.jupyter.widget-view+json": {
       "model_id": "1bb136894e7e429fb6b5b75be5ea1c2c",
       "version_major": 2,
       "version_minor": 0
      },
      "text/plain": [
       "HBox(children=(FloatProgress(value=0.0, description='Testing GO_uni2_cauchy1_N:5_T1:0.5_T2:0.4', max=1000.0, s…"
      ]
     },
     "metadata": {},
     "output_type": "display_data"
    },
    {
     "name": "stdout",
     "output_type": "stream",
     "text": [
      "\n"
     ]
    },
    {
     "data": {
      "application/vnd.jupyter.widget-view+json": {
       "model_id": "a07cc3b091b74f3293514f351366d1a5",
       "version_major": 2,
       "version_minor": 0
      },
      "text/plain": [
       "HBox(children=(FloatProgress(value=0.0, description='Testing GO_uni3_cauchy1_N:5_T1:0.5_T2:0.4', max=1000.0, s…"
      ]
     },
     "metadata": {},
     "output_type": "display_data"
    },
    {
     "name": "stdout",
     "output_type": "stream",
     "text": [
      "\n"
     ]
    },
    {
     "data": {
      "application/vnd.jupyter.widget-view+json": {
       "model_id": "5bcec21caa3a485a823134e271c66dbb",
       "version_major": 2,
       "version_minor": 0
      },
      "text/plain": [
       "HBox(children=(FloatProgress(value=0.0, description='Testing GO_MCM_cauchy1_N:5_T1:0.5_T2:0.4', max=1000.0, st…"
      ]
     },
     "metadata": {},
     "output_type": "display_data"
    },
    {
     "name": "stdout",
     "output_type": "stream",
     "text": [
      "\n"
     ]
    },
    {
     "data": {
      "application/vnd.jupyter.widget-view+json": {
       "model_id": "51fdff40f6ef449a9aa15ea4e51f7bd7",
       "version_major": 2,
       "version_minor": 0
      },
      "text/plain": [
       "HBox(children=(FloatProgress(value=0.0, description='Testing GO_MMCM_cauchy3_N:5_T1:0.5_T2:0.4', max=1000.0, s…"
      ]
     },
     "metadata": {},
     "output_type": "display_data"
    },
    {
     "name": "stdout",
     "output_type": "stream",
     "text": [
      "\n"
     ]
    },
    {
     "data": {
      "application/vnd.jupyter.widget-view+json": {
       "model_id": "f2f97ae6d765411492399aec846923cd",
       "version_major": 2,
       "version_minor": 0
      },
      "text/plain": [
       "HBox(children=(FloatProgress(value=0.0, description='Testing GO_rnd_cauchy1_N:5_T1:0.5_T2:0.4', max=1000.0, st…"
      ]
     },
     "metadata": {},
     "output_type": "display_data"
    },
    {
     "name": "stdout",
     "output_type": "stream",
     "text": [
      "\n"
     ]
    },
    {
     "data": {
      "application/vnd.jupyter.widget-view+json": {
       "model_id": "6152f8a3081d4fc495af21bd199cc610",
       "version_major": 2,
       "version_minor": 0
      },
      "text/plain": [
       "HBox(children=(FloatProgress(value=0.0, description='Testing GO_mix_cauchy1_N:5_T1:0.5_T2:0.4', max=1000.0, st…"
      ]
     },
     "metadata": {},
     "output_type": "display_data"
    },
    {
     "name": "stdout",
     "output_type": "stream",
     "text": [
      "\n"
     ]
    },
    {
     "data": {
      "application/vnd.jupyter.widget-view+json": {
       "model_id": "abbd45190db4498b83af30a381f187ff",
       "version_major": 2,
       "version_minor": 0
      },
      "text/plain": [
       "HBox(children=(FloatProgress(value=0.0, description='Testing GO_uni1_cauchy1_N:5_T1:1_T2:0.1', max=1000.0, sty…"
      ]
     },
     "metadata": {},
     "output_type": "display_data"
    },
    {
     "name": "stdout",
     "output_type": "stream",
     "text": [
      "\n"
     ]
    },
    {
     "data": {
      "application/vnd.jupyter.widget-view+json": {
       "model_id": "b240e7cc51ae4a52b41cf1710347c088",
       "version_major": 2,
       "version_minor": 0
      },
      "text/plain": [
       "HBox(children=(FloatProgress(value=0.0, description='Testing GO_uni2_cauchy1_N:5_T1:1_T2:0.1', max=1000.0, sty…"
      ]
     },
     "metadata": {},
     "output_type": "display_data"
    },
    {
     "name": "stdout",
     "output_type": "stream",
     "text": [
      "\n"
     ]
    },
    {
     "data": {
      "application/vnd.jupyter.widget-view+json": {
       "model_id": "6122758ee3bb4b76bf04216864dd50c4",
       "version_major": 2,
       "version_minor": 0
      },
      "text/plain": [
       "HBox(children=(FloatProgress(value=0.0, description='Testing GO_uni3_cauchy1_N:5_T1:1_T2:0.1', max=1000.0, sty…"
      ]
     },
     "metadata": {},
     "output_type": "display_data"
    },
    {
     "name": "stdout",
     "output_type": "stream",
     "text": [
      "\n"
     ]
    },
    {
     "data": {
      "application/vnd.jupyter.widget-view+json": {
       "model_id": "b04d8ea3918541f4983df911590fc20a",
       "version_major": 2,
       "version_minor": 0
      },
      "text/plain": [
       "HBox(children=(FloatProgress(value=0.0, description='Testing GO_MCM_cauchy1_N:5_T1:1_T2:0.1', max=1000.0, styl…"
      ]
     },
     "metadata": {},
     "output_type": "display_data"
    },
    {
     "name": "stdout",
     "output_type": "stream",
     "text": [
      "\n"
     ]
    },
    {
     "data": {
      "application/vnd.jupyter.widget-view+json": {
       "model_id": "0579312677f747d283077e49764c6526",
       "version_major": 2,
       "version_minor": 0
      },
      "text/plain": [
       "HBox(children=(FloatProgress(value=0.0, description='Testing GO_MMCM_cauchy3_N:5_T1:1_T2:0.1', max=1000.0, sty…"
      ]
     },
     "metadata": {},
     "output_type": "display_data"
    },
    {
     "name": "stdout",
     "output_type": "stream",
     "text": [
      "\n"
     ]
    },
    {
     "data": {
      "application/vnd.jupyter.widget-view+json": {
       "model_id": "82228a62564642ec8c318c194f93dfb5",
       "version_major": 2,
       "version_minor": 0
      },
      "text/plain": [
       "HBox(children=(FloatProgress(value=0.0, description='Testing GO_rnd_cauchy1_N:5_T1:1_T2:0.1', max=1000.0, styl…"
      ]
     },
     "metadata": {},
     "output_type": "display_data"
    },
    {
     "name": "stdout",
     "output_type": "stream",
     "text": [
      "\n"
     ]
    },
    {
     "data": {
      "application/vnd.jupyter.widget-view+json": {
       "model_id": "cb54d3cf93c84f8f86783530553ff226",
       "version_major": 2,
       "version_minor": 0
      },
      "text/plain": [
       "HBox(children=(FloatProgress(value=0.0, description='Testing GO_mix_cauchy1_N:5_T1:1_T2:0.1', max=1000.0, styl…"
      ]
     },
     "metadata": {},
     "output_type": "display_data"
    },
    {
     "name": "stdout",
     "output_type": "stream",
     "text": [
      "\n"
     ]
    },
    {
     "data": {
      "application/vnd.jupyter.widget-view+json": {
       "model_id": "aa1a9d629db343f28a7e4fe75eabd0f4",
       "version_major": 2,
       "version_minor": 0
      },
      "text/plain": [
       "HBox(children=(FloatProgress(value=0.0, description='Testing GO_uni1_cauchy1_N:5_T1:1_T2:0.4', max=1000.0, sty…"
      ]
     },
     "metadata": {},
     "output_type": "display_data"
    },
    {
     "name": "stdout",
     "output_type": "stream",
     "text": [
      "\n"
     ]
    },
    {
     "data": {
      "application/vnd.jupyter.widget-view+json": {
       "model_id": "e1963cc21bc74a54bfa21358f582ab72",
       "version_major": 2,
       "version_minor": 0
      },
      "text/plain": [
       "HBox(children=(FloatProgress(value=0.0, description='Testing GO_uni2_cauchy1_N:5_T1:1_T2:0.4', max=1000.0, sty…"
      ]
     },
     "metadata": {},
     "output_type": "display_data"
    },
    {
     "name": "stdout",
     "output_type": "stream",
     "text": [
      "\n"
     ]
    },
    {
     "data": {
      "application/vnd.jupyter.widget-view+json": {
       "model_id": "d50e48a4090e4132a6179d7650482b35",
       "version_major": 2,
       "version_minor": 0
      },
      "text/plain": [
       "HBox(children=(FloatProgress(value=0.0, description='Testing GO_uni3_cauchy1_N:5_T1:1_T2:0.4', max=1000.0, sty…"
      ]
     },
     "metadata": {},
     "output_type": "display_data"
    },
    {
     "name": "stdout",
     "output_type": "stream",
     "text": [
      "\n"
     ]
    },
    {
     "data": {
      "application/vnd.jupyter.widget-view+json": {
       "model_id": "6ffcf143c3ec40048b5d5b87d69df3e6",
       "version_major": 2,
       "version_minor": 0
      },
      "text/plain": [
       "HBox(children=(FloatProgress(value=0.0, description='Testing GO_MCM_cauchy1_N:5_T1:1_T2:0.4', max=1000.0, styl…"
      ]
     },
     "metadata": {},
     "output_type": "display_data"
    },
    {
     "name": "stdout",
     "output_type": "stream",
     "text": [
      "\n"
     ]
    },
    {
     "data": {
      "application/vnd.jupyter.widget-view+json": {
       "model_id": "4e66bc4aa94d47cb9235581f20f13bfb",
       "version_major": 2,
       "version_minor": 0
      },
      "text/plain": [
       "HBox(children=(FloatProgress(value=0.0, description='Testing GO_MMCM_cauchy3_N:5_T1:1_T2:0.4', max=1000.0, sty…"
      ]
     },
     "metadata": {},
     "output_type": "display_data"
    },
    {
     "name": "stdout",
     "output_type": "stream",
     "text": [
      "\n"
     ]
    },
    {
     "data": {
      "application/vnd.jupyter.widget-view+json": {
       "model_id": "c73aec54513747568f8bd2811d310319",
       "version_major": 2,
       "version_minor": 0
      },
      "text/plain": [
       "HBox(children=(FloatProgress(value=0.0, description='Testing GO_rnd_cauchy1_N:5_T1:1_T2:0.4', max=1000.0, styl…"
      ]
     },
     "metadata": {},
     "output_type": "display_data"
    },
    {
     "name": "stdout",
     "output_type": "stream",
     "text": [
      "\n"
     ]
    },
    {
     "data": {
      "application/vnd.jupyter.widget-view+json": {
       "model_id": "a3420e8f69084187a6a58cc7d084014b",
       "version_major": 2,
       "version_minor": 0
      },
      "text/plain": [
       "HBox(children=(FloatProgress(value=0.0, description='Testing GO_mix_cauchy1_N:5_T1:1_T2:0.4', max=1000.0, styl…"
      ]
     },
     "metadata": {},
     "output_type": "display_data"
    },
    {
     "name": "stdout",
     "output_type": "stream",
     "text": [
      "\n"
     ]
    },
    {
     "data": {
      "application/vnd.jupyter.widget-view+json": {
       "model_id": "8973b36f100b4e92bf3de3bcc5c655f7",
       "version_major": 2,
       "version_minor": 0
      },
      "text/plain": [
       "HBox(children=(FloatProgress(value=0.0, description='Testing GO_uni1_cauchy1_N:5_T1:5_T2:0.1', max=1000.0, sty…"
      ]
     },
     "metadata": {},
     "output_type": "display_data"
    },
    {
     "name": "stdout",
     "output_type": "stream",
     "text": [
      "\n"
     ]
    },
    {
     "data": {
      "application/vnd.jupyter.widget-view+json": {
       "model_id": "3ced3380f1a4460ebaa144e6fe071dfb",
       "version_major": 2,
       "version_minor": 0
      },
      "text/plain": [
       "HBox(children=(FloatProgress(value=0.0, description='Testing GO_uni2_cauchy1_N:5_T1:5_T2:0.1', max=1000.0, sty…"
      ]
     },
     "metadata": {},
     "output_type": "display_data"
    },
    {
     "name": "stdout",
     "output_type": "stream",
     "text": [
      "\n"
     ]
    },
    {
     "data": {
      "application/vnd.jupyter.widget-view+json": {
       "model_id": "5286644a46e3448bb9cad861324a8833",
       "version_major": 2,
       "version_minor": 0
      },
      "text/plain": [
       "HBox(children=(FloatProgress(value=0.0, description='Testing GO_uni3_cauchy1_N:5_T1:5_T2:0.1', max=1000.0, sty…"
      ]
     },
     "metadata": {},
     "output_type": "display_data"
    },
    {
     "name": "stdout",
     "output_type": "stream",
     "text": [
      "\n"
     ]
    },
    {
     "data": {
      "application/vnd.jupyter.widget-view+json": {
       "model_id": "e431a44258ee465c821bd7b6b8f28cf3",
       "version_major": 2,
       "version_minor": 0
      },
      "text/plain": [
       "HBox(children=(FloatProgress(value=0.0, description='Testing GO_MCM_cauchy1_N:5_T1:5_T2:0.1', max=1000.0, styl…"
      ]
     },
     "metadata": {},
     "output_type": "display_data"
    },
    {
     "name": "stdout",
     "output_type": "stream",
     "text": [
      "\n"
     ]
    },
    {
     "data": {
      "application/vnd.jupyter.widget-view+json": {
       "model_id": "23601c4e681e47eeb730140fa79edeb3",
       "version_major": 2,
       "version_minor": 0
      },
      "text/plain": [
       "HBox(children=(FloatProgress(value=0.0, description='Testing GO_MMCM_cauchy3_N:5_T1:5_T2:0.1', max=1000.0, sty…"
      ]
     },
     "metadata": {},
     "output_type": "display_data"
    },
    {
     "name": "stdout",
     "output_type": "stream",
     "text": [
      "\n"
     ]
    },
    {
     "data": {
      "application/vnd.jupyter.widget-view+json": {
       "model_id": "bdfd5f421d9e4eb381cf864d9386ba59",
       "version_major": 2,
       "version_minor": 0
      },
      "text/plain": [
       "HBox(children=(FloatProgress(value=0.0, description='Testing GO_rnd_cauchy1_N:5_T1:5_T2:0.1', max=1000.0, styl…"
      ]
     },
     "metadata": {},
     "output_type": "display_data"
    },
    {
     "name": "stdout",
     "output_type": "stream",
     "text": [
      "\n"
     ]
    },
    {
     "data": {
      "application/vnd.jupyter.widget-view+json": {
       "model_id": "e53329b4d6a24013bdb1cd95821d93c3",
       "version_major": 2,
       "version_minor": 0
      },
      "text/plain": [
       "HBox(children=(FloatProgress(value=0.0, description='Testing GO_mix_cauchy1_N:5_T1:5_T2:0.1', max=1000.0, styl…"
      ]
     },
     "metadata": {},
     "output_type": "display_data"
    },
    {
     "name": "stdout",
     "output_type": "stream",
     "text": [
      "\n"
     ]
    },
    {
     "data": {
      "application/vnd.jupyter.widget-view+json": {
       "model_id": "5cfe174516c249369c59dd5991a6c243",
       "version_major": 2,
       "version_minor": 0
      },
      "text/plain": [
       "HBox(children=(FloatProgress(value=0.0, description='Testing GO_uni1_cauchy1_N:5_T1:5_T2:0.4', max=1000.0, sty…"
      ]
     },
     "metadata": {},
     "output_type": "display_data"
    },
    {
     "name": "stdout",
     "output_type": "stream",
     "text": [
      "\n"
     ]
    },
    {
     "data": {
      "application/vnd.jupyter.widget-view+json": {
       "model_id": "13e6f823b65e4dcba9d74769fed8e84b",
       "version_major": 2,
       "version_minor": 0
      },
      "text/plain": [
       "HBox(children=(FloatProgress(value=0.0, description='Testing GO_uni2_cauchy1_N:5_T1:5_T2:0.4', max=1000.0, sty…"
      ]
     },
     "metadata": {},
     "output_type": "display_data"
    },
    {
     "name": "stdout",
     "output_type": "stream",
     "text": [
      "\n"
     ]
    },
    {
     "data": {
      "application/vnd.jupyter.widget-view+json": {
       "model_id": "a001306dc0bd4afc87fdec3992f7035f",
       "version_major": 2,
       "version_minor": 0
      },
      "text/plain": [
       "HBox(children=(FloatProgress(value=0.0, description='Testing GO_uni3_cauchy1_N:5_T1:5_T2:0.4', max=1000.0, sty…"
      ]
     },
     "metadata": {},
     "output_type": "display_data"
    },
    {
     "name": "stdout",
     "output_type": "stream",
     "text": [
      "\n"
     ]
    },
    {
     "data": {
      "application/vnd.jupyter.widget-view+json": {
       "model_id": "adf99bc9ca7c40ba8d358f767230e49d",
       "version_major": 2,
       "version_minor": 0
      },
      "text/plain": [
       "HBox(children=(FloatProgress(value=0.0, description='Testing GO_MCM_cauchy1_N:5_T1:5_T2:0.4', max=1000.0, styl…"
      ]
     },
     "metadata": {},
     "output_type": "display_data"
    },
    {
     "name": "stdout",
     "output_type": "stream",
     "text": [
      "\n"
     ]
    },
    {
     "data": {
      "application/vnd.jupyter.widget-view+json": {
       "model_id": "3016e09d9f3a4b2a8db69950ae203c31",
       "version_major": 2,
       "version_minor": 0
      },
      "text/plain": [
       "HBox(children=(FloatProgress(value=0.0, description='Testing GO_MMCM_cauchy3_N:5_T1:5_T2:0.4', max=1000.0, sty…"
      ]
     },
     "metadata": {},
     "output_type": "display_data"
    },
    {
     "name": "stdout",
     "output_type": "stream",
     "text": [
      "\n"
     ]
    },
    {
     "data": {
      "application/vnd.jupyter.widget-view+json": {
       "model_id": "e6b5ec626c39456484af0be32a60ab05",
       "version_major": 2,
       "version_minor": 0
      },
      "text/plain": [
       "HBox(children=(FloatProgress(value=0.0, description='Testing GO_rnd_cauchy1_N:5_T1:5_T2:0.4', max=1000.0, styl…"
      ]
     },
     "metadata": {},
     "output_type": "display_data"
    },
    {
     "name": "stdout",
     "output_type": "stream",
     "text": [
      "\n"
     ]
    },
    {
     "data": {
      "application/vnd.jupyter.widget-view+json": {
       "model_id": "d4303cd12f524b76abc438834b723b32",
       "version_major": 2,
       "version_minor": 0
      },
      "text/plain": [
       "HBox(children=(FloatProgress(value=0.0, description='Testing GO_mix_cauchy1_N:5_T1:5_T2:0.4', max=1000.0, styl…"
      ]
     },
     "metadata": {},
     "output_type": "display_data"
    },
    {
     "name": "stdout",
     "output_type": "stream",
     "text": [
      "\n"
     ]
    },
    {
     "data": {
      "application/vnd.jupyter.widget-view+json": {
       "model_id": "fcf37d42ca984b16bb876bba7c93e965",
       "version_major": 2,
       "version_minor": 0
      },
      "text/plain": [
       "HBox(children=(FloatProgress(value=0.0, description='Testing GO_uni1_cauchy1_N:10_T1:0.5_T2:0.1', max=1000.0, …"
      ]
     },
     "metadata": {},
     "output_type": "display_data"
    },
    {
     "name": "stdout",
     "output_type": "stream",
     "text": [
      "\n"
     ]
    },
    {
     "data": {
      "application/vnd.jupyter.widget-view+json": {
       "model_id": "fa8fe90e4b4740de8b3cd60d734849c8",
       "version_major": 2,
       "version_minor": 0
      },
      "text/plain": [
       "HBox(children=(FloatProgress(value=0.0, description='Testing GO_uni2_cauchy1_N:10_T1:0.5_T2:0.1', max=1000.0, …"
      ]
     },
     "metadata": {},
     "output_type": "display_data"
    },
    {
     "name": "stdout",
     "output_type": "stream",
     "text": [
      "\n"
     ]
    },
    {
     "data": {
      "application/vnd.jupyter.widget-view+json": {
       "model_id": "c0d859be1fc84cf3b7d4d821f92ae8c0",
       "version_major": 2,
       "version_minor": 0
      },
      "text/plain": [
       "HBox(children=(FloatProgress(value=0.0, description='Testing GO_uni3_cauchy1_N:10_T1:0.5_T2:0.1', max=1000.0, …"
      ]
     },
     "metadata": {},
     "output_type": "display_data"
    },
    {
     "name": "stdout",
     "output_type": "stream",
     "text": [
      "\n"
     ]
    },
    {
     "data": {
      "application/vnd.jupyter.widget-view+json": {
       "model_id": "815373b338e74b3ea01dfb3bd56ca697",
       "version_major": 2,
       "version_minor": 0
      },
      "text/plain": [
       "HBox(children=(FloatProgress(value=0.0, description='Testing GO_MCM_cauchy1_N:10_T1:0.5_T2:0.1', max=1000.0, s…"
      ]
     },
     "metadata": {},
     "output_type": "display_data"
    },
    {
     "name": "stdout",
     "output_type": "stream",
     "text": [
      "\n"
     ]
    },
    {
     "data": {
      "application/vnd.jupyter.widget-view+json": {
       "model_id": "4aefc4a275dd4857957060dfe154fc57",
       "version_major": 2,
       "version_minor": 0
      },
      "text/plain": [
       "HBox(children=(FloatProgress(value=0.0, description='Testing GO_MMCM_cauchy3_N:10_T1:0.5_T2:0.1', max=1000.0, …"
      ]
     },
     "metadata": {},
     "output_type": "display_data"
    },
    {
     "name": "stdout",
     "output_type": "stream",
     "text": [
      "\n"
     ]
    },
    {
     "data": {
      "application/vnd.jupyter.widget-view+json": {
       "model_id": "a4f78399fce447d3b78a730de356b4bd",
       "version_major": 2,
       "version_minor": 0
      },
      "text/plain": [
       "HBox(children=(FloatProgress(value=0.0, description='Testing GO_rnd_cauchy1_N:10_T1:0.5_T2:0.1', max=1000.0, s…"
      ]
     },
     "metadata": {},
     "output_type": "display_data"
    },
    {
     "name": "stdout",
     "output_type": "stream",
     "text": [
      "\n"
     ]
    },
    {
     "data": {
      "application/vnd.jupyter.widget-view+json": {
       "model_id": "076fb5af30254a96859741eaacc00b4c",
       "version_major": 2,
       "version_minor": 0
      },
      "text/plain": [
       "HBox(children=(FloatProgress(value=0.0, description='Testing GO_mix_cauchy1_N:10_T1:0.5_T2:0.1', max=1000.0, s…"
      ]
     },
     "metadata": {},
     "output_type": "display_data"
    },
    {
     "name": "stdout",
     "output_type": "stream",
     "text": [
      "\n"
     ]
    },
    {
     "data": {
      "application/vnd.jupyter.widget-view+json": {
       "model_id": "86926ca73aa14abd97bf28f4341f94f8",
       "version_major": 2,
       "version_minor": 0
      },
      "text/plain": [
       "HBox(children=(FloatProgress(value=0.0, description='Testing GO_uni1_cauchy1_N:10_T1:0.5_T2:0.4', max=1000.0, …"
      ]
     },
     "metadata": {},
     "output_type": "display_data"
    },
    {
     "name": "stdout",
     "output_type": "stream",
     "text": [
      "\n"
     ]
    },
    {
     "data": {
      "application/vnd.jupyter.widget-view+json": {
       "model_id": "ba483829548d40deb5e6460a33eac1cf",
       "version_major": 2,
       "version_minor": 0
      },
      "text/plain": [
       "HBox(children=(FloatProgress(value=0.0, description='Testing GO_uni2_cauchy1_N:10_T1:0.5_T2:0.4', max=1000.0, …"
      ]
     },
     "metadata": {},
     "output_type": "display_data"
    },
    {
     "name": "stdout",
     "output_type": "stream",
     "text": [
      "\n"
     ]
    },
    {
     "data": {
      "application/vnd.jupyter.widget-view+json": {
       "model_id": "fa30dae7b616460caa0bcde7a38fd94c",
       "version_major": 2,
       "version_minor": 0
      },
      "text/plain": [
       "HBox(children=(FloatProgress(value=0.0, description='Testing GO_uni3_cauchy1_N:10_T1:0.5_T2:0.4', max=1000.0, …"
      ]
     },
     "metadata": {},
     "output_type": "display_data"
    },
    {
     "name": "stdout",
     "output_type": "stream",
     "text": [
      "\n"
     ]
    },
    {
     "data": {
      "application/vnd.jupyter.widget-view+json": {
       "model_id": "54578ee09c754fa4a1385f6f5b48eae6",
       "version_major": 2,
       "version_minor": 0
      },
      "text/plain": [
       "HBox(children=(FloatProgress(value=0.0, description='Testing GO_MCM_cauchy1_N:10_T1:0.5_T2:0.4', max=1000.0, s…"
      ]
     },
     "metadata": {},
     "output_type": "display_data"
    },
    {
     "name": "stdout",
     "output_type": "stream",
     "text": [
      "\n"
     ]
    },
    {
     "data": {
      "application/vnd.jupyter.widget-view+json": {
       "model_id": "115d897361d64ce992c81ee03573a87c",
       "version_major": 2,
       "version_minor": 0
      },
      "text/plain": [
       "HBox(children=(FloatProgress(value=0.0, description='Testing GO_MMCM_cauchy3_N:10_T1:0.5_T2:0.4', max=1000.0, …"
      ]
     },
     "metadata": {},
     "output_type": "display_data"
    },
    {
     "name": "stdout",
     "output_type": "stream",
     "text": [
      "\n"
     ]
    },
    {
     "data": {
      "application/vnd.jupyter.widget-view+json": {
       "model_id": "8f66984f11ae4d0eb2a334eeb09f2c15",
       "version_major": 2,
       "version_minor": 0
      },
      "text/plain": [
       "HBox(children=(FloatProgress(value=0.0, description='Testing GO_rnd_cauchy1_N:10_T1:0.5_T2:0.4', max=1000.0, s…"
      ]
     },
     "metadata": {},
     "output_type": "display_data"
    },
    {
     "name": "stdout",
     "output_type": "stream",
     "text": [
      "\n"
     ]
    },
    {
     "data": {
      "application/vnd.jupyter.widget-view+json": {
       "model_id": "58cb630624ee4e128b82aba0a0f6a27c",
       "version_major": 2,
       "version_minor": 0
      },
      "text/plain": [
       "HBox(children=(FloatProgress(value=0.0, description='Testing GO_mix_cauchy1_N:10_T1:0.5_T2:0.4', max=1000.0, s…"
      ]
     },
     "metadata": {},
     "output_type": "display_data"
    },
    {
     "name": "stdout",
     "output_type": "stream",
     "text": [
      "\n"
     ]
    },
    {
     "data": {
      "application/vnd.jupyter.widget-view+json": {
       "model_id": "100570134d4a4f0d91812e3f8e13fc59",
       "version_major": 2,
       "version_minor": 0
      },
      "text/plain": [
       "HBox(children=(FloatProgress(value=0.0, description='Testing GO_uni1_cauchy1_N:10_T1:1_T2:0.1', max=1000.0, st…"
      ]
     },
     "metadata": {},
     "output_type": "display_data"
    },
    {
     "name": "stdout",
     "output_type": "stream",
     "text": [
      "\n"
     ]
    },
    {
     "data": {
      "application/vnd.jupyter.widget-view+json": {
       "model_id": "92aa32c9931c47b5b0d9a21bf64c99ca",
       "version_major": 2,
       "version_minor": 0
      },
      "text/plain": [
       "HBox(children=(FloatProgress(value=0.0, description='Testing GO_uni2_cauchy1_N:10_T1:1_T2:0.1', max=1000.0, st…"
      ]
     },
     "metadata": {},
     "output_type": "display_data"
    },
    {
     "name": "stdout",
     "output_type": "stream",
     "text": [
      "\n"
     ]
    },
    {
     "data": {
      "application/vnd.jupyter.widget-view+json": {
       "model_id": "73b257401e3346c7ad67d9f176f27af0",
       "version_major": 2,
       "version_minor": 0
      },
      "text/plain": [
       "HBox(children=(FloatProgress(value=0.0, description='Testing GO_uni3_cauchy1_N:10_T1:1_T2:0.1', max=1000.0, st…"
      ]
     },
     "metadata": {},
     "output_type": "display_data"
    },
    {
     "name": "stdout",
     "output_type": "stream",
     "text": [
      "\n"
     ]
    },
    {
     "data": {
      "application/vnd.jupyter.widget-view+json": {
       "model_id": "42a31cfe2652499395804cf3c0c1d97e",
       "version_major": 2,
       "version_minor": 0
      },
      "text/plain": [
       "HBox(children=(FloatProgress(value=0.0, description='Testing GO_MCM_cauchy1_N:10_T1:1_T2:0.1', max=1000.0, sty…"
      ]
     },
     "metadata": {},
     "output_type": "display_data"
    },
    {
     "name": "stdout",
     "output_type": "stream",
     "text": [
      "\n"
     ]
    },
    {
     "data": {
      "application/vnd.jupyter.widget-view+json": {
       "model_id": "26f2ac0c7b9c4682bc7aae93cb57a0c4",
       "version_major": 2,
       "version_minor": 0
      },
      "text/plain": [
       "HBox(children=(FloatProgress(value=0.0, description='Testing GO_MMCM_cauchy3_N:10_T1:1_T2:0.1', max=1000.0, st…"
      ]
     },
     "metadata": {},
     "output_type": "display_data"
    },
    {
     "name": "stdout",
     "output_type": "stream",
     "text": [
      "\n"
     ]
    },
    {
     "data": {
      "application/vnd.jupyter.widget-view+json": {
       "model_id": "7e45d4f2f29045acb7fdc19d9a8ced6c",
       "version_major": 2,
       "version_minor": 0
      },
      "text/plain": [
       "HBox(children=(FloatProgress(value=0.0, description='Testing GO_rnd_cauchy1_N:10_T1:1_T2:0.1', max=1000.0, sty…"
      ]
     },
     "metadata": {},
     "output_type": "display_data"
    },
    {
     "name": "stdout",
     "output_type": "stream",
     "text": [
      "\n"
     ]
    },
    {
     "data": {
      "application/vnd.jupyter.widget-view+json": {
       "model_id": "4e90deedc4884192914b11d924c329e1",
       "version_major": 2,
       "version_minor": 0
      },
      "text/plain": [
       "HBox(children=(FloatProgress(value=0.0, description='Testing GO_mix_cauchy1_N:10_T1:1_T2:0.1', max=1000.0, sty…"
      ]
     },
     "metadata": {},
     "output_type": "display_data"
    },
    {
     "name": "stdout",
     "output_type": "stream",
     "text": [
      "\n"
     ]
    },
    {
     "data": {
      "application/vnd.jupyter.widget-view+json": {
       "model_id": "17e8095ec908492a8161b661ce6b1f27",
       "version_major": 2,
       "version_minor": 0
      },
      "text/plain": [
       "HBox(children=(FloatProgress(value=0.0, description='Testing GO_uni1_cauchy1_N:10_T1:1_T2:0.4', max=1000.0, st…"
      ]
     },
     "metadata": {},
     "output_type": "display_data"
    },
    {
     "name": "stdout",
     "output_type": "stream",
     "text": [
      "\n"
     ]
    },
    {
     "data": {
      "application/vnd.jupyter.widget-view+json": {
       "model_id": "c5fd88324c774591a4883b4555136f85",
       "version_major": 2,
       "version_minor": 0
      },
      "text/plain": [
       "HBox(children=(FloatProgress(value=0.0, description='Testing GO_uni2_cauchy1_N:10_T1:1_T2:0.4', max=1000.0, st…"
      ]
     },
     "metadata": {},
     "output_type": "display_data"
    },
    {
     "name": "stdout",
     "output_type": "stream",
     "text": [
      "\n"
     ]
    },
    {
     "data": {
      "application/vnd.jupyter.widget-view+json": {
       "model_id": "cfba22fec5864559be9fdc9135d3a60f",
       "version_major": 2,
       "version_minor": 0
      },
      "text/plain": [
       "HBox(children=(FloatProgress(value=0.0, description='Testing GO_uni3_cauchy1_N:10_T1:1_T2:0.4', max=1000.0, st…"
      ]
     },
     "metadata": {},
     "output_type": "display_data"
    },
    {
     "name": "stdout",
     "output_type": "stream",
     "text": [
      "\n"
     ]
    },
    {
     "data": {
      "application/vnd.jupyter.widget-view+json": {
       "model_id": "2bd9bcfa2baa4047bef8cade54fc9081",
       "version_major": 2,
       "version_minor": 0
      },
      "text/plain": [
       "HBox(children=(FloatProgress(value=0.0, description='Testing GO_MCM_cauchy1_N:10_T1:1_T2:0.4', max=1000.0, sty…"
      ]
     },
     "metadata": {},
     "output_type": "display_data"
    },
    {
     "name": "stdout",
     "output_type": "stream",
     "text": [
      "\n"
     ]
    },
    {
     "data": {
      "application/vnd.jupyter.widget-view+json": {
       "model_id": "f8506c1ce7f54bd19e08cfa850d2ac00",
       "version_major": 2,
       "version_minor": 0
      },
      "text/plain": [
       "HBox(children=(FloatProgress(value=0.0, description='Testing GO_MMCM_cauchy3_N:10_T1:1_T2:0.4', max=1000.0, st…"
      ]
     },
     "metadata": {},
     "output_type": "display_data"
    },
    {
     "name": "stdout",
     "output_type": "stream",
     "text": [
      "\n"
     ]
    },
    {
     "data": {
      "application/vnd.jupyter.widget-view+json": {
       "model_id": "7f7449db82f9489cac21faa8911200da",
       "version_major": 2,
       "version_minor": 0
      },
      "text/plain": [
       "HBox(children=(FloatProgress(value=0.0, description='Testing GO_rnd_cauchy1_N:10_T1:1_T2:0.4', max=1000.0, sty…"
      ]
     },
     "metadata": {},
     "output_type": "display_data"
    },
    {
     "name": "stdout",
     "output_type": "stream",
     "text": [
      "\n"
     ]
    },
    {
     "data": {
      "application/vnd.jupyter.widget-view+json": {
       "model_id": "41f5fe11a3a049ec99b165e3fcb54a1e",
       "version_major": 2,
       "version_minor": 0
      },
      "text/plain": [
       "HBox(children=(FloatProgress(value=0.0, description='Testing GO_mix_cauchy1_N:10_T1:1_T2:0.4', max=1000.0, sty…"
      ]
     },
     "metadata": {},
     "output_type": "display_data"
    },
    {
     "name": "stdout",
     "output_type": "stream",
     "text": [
      "\n"
     ]
    },
    {
     "data": {
      "application/vnd.jupyter.widget-view+json": {
       "model_id": "3be82fc6b16a404e98599c95849ff872",
       "version_major": 2,
       "version_minor": 0
      },
      "text/plain": [
       "HBox(children=(FloatProgress(value=0.0, description='Testing GO_uni1_cauchy1_N:10_T1:5_T2:0.1', max=1000.0, st…"
      ]
     },
     "metadata": {},
     "output_type": "display_data"
    },
    {
     "name": "stdout",
     "output_type": "stream",
     "text": [
      "\n"
     ]
    },
    {
     "data": {
      "application/vnd.jupyter.widget-view+json": {
       "model_id": "7b8468254f7d42258ad03459acf14290",
       "version_major": 2,
       "version_minor": 0
      },
      "text/plain": [
       "HBox(children=(FloatProgress(value=0.0, description='Testing GO_uni2_cauchy1_N:10_T1:5_T2:0.1', max=1000.0, st…"
      ]
     },
     "metadata": {},
     "output_type": "display_data"
    },
    {
     "name": "stdout",
     "output_type": "stream",
     "text": [
      "\n"
     ]
    },
    {
     "data": {
      "application/vnd.jupyter.widget-view+json": {
       "model_id": "5051877dd64547a1973c31d2e4de0ce3",
       "version_major": 2,
       "version_minor": 0
      },
      "text/plain": [
       "HBox(children=(FloatProgress(value=0.0, description='Testing GO_uni3_cauchy1_N:10_T1:5_T2:0.1', max=1000.0, st…"
      ]
     },
     "metadata": {},
     "output_type": "display_data"
    },
    {
     "name": "stdout",
     "output_type": "stream",
     "text": [
      "\n"
     ]
    },
    {
     "data": {
      "application/vnd.jupyter.widget-view+json": {
       "model_id": "db12898ea77c433ab06266875c5fcffb",
       "version_major": 2,
       "version_minor": 0
      },
      "text/plain": [
       "HBox(children=(FloatProgress(value=0.0, description='Testing GO_MCM_cauchy1_N:10_T1:5_T2:0.1', max=1000.0, sty…"
      ]
     },
     "metadata": {},
     "output_type": "display_data"
    },
    {
     "name": "stdout",
     "output_type": "stream",
     "text": [
      "\n"
     ]
    },
    {
     "data": {
      "application/vnd.jupyter.widget-view+json": {
       "model_id": "569df4c87fc74da98bef603c0bf8d9eb",
       "version_major": 2,
       "version_minor": 0
      },
      "text/plain": [
       "HBox(children=(FloatProgress(value=0.0, description='Testing GO_MMCM_cauchy3_N:10_T1:5_T2:0.1', max=1000.0, st…"
      ]
     },
     "metadata": {},
     "output_type": "display_data"
    },
    {
     "name": "stdout",
     "output_type": "stream",
     "text": [
      "\n"
     ]
    },
    {
     "data": {
      "application/vnd.jupyter.widget-view+json": {
       "model_id": "ff108ea05682425cbd312917e763b93d",
       "version_major": 2,
       "version_minor": 0
      },
      "text/plain": [
       "HBox(children=(FloatProgress(value=0.0, description='Testing GO_rnd_cauchy1_N:10_T1:5_T2:0.1', max=1000.0, sty…"
      ]
     },
     "metadata": {},
     "output_type": "display_data"
    },
    {
     "name": "stdout",
     "output_type": "stream",
     "text": [
      "\n"
     ]
    },
    {
     "data": {
      "application/vnd.jupyter.widget-view+json": {
       "model_id": "925a6d5c553840ea95b9c8a438c30ad9",
       "version_major": 2,
       "version_minor": 0
      },
      "text/plain": [
       "HBox(children=(FloatProgress(value=0.0, description='Testing GO_mix_cauchy1_N:10_T1:5_T2:0.1', max=1000.0, sty…"
      ]
     },
     "metadata": {},
     "output_type": "display_data"
    },
    {
     "name": "stdout",
     "output_type": "stream",
     "text": [
      "\n"
     ]
    },
    {
     "data": {
      "application/vnd.jupyter.widget-view+json": {
       "model_id": "cb54ad54da7148cbb593d6441b0d267b",
       "version_major": 2,
       "version_minor": 0
      },
      "text/plain": [
       "HBox(children=(FloatProgress(value=0.0, description='Testing GO_uni1_cauchy1_N:10_T1:5_T2:0.4', max=1000.0, st…"
      ]
     },
     "metadata": {},
     "output_type": "display_data"
    },
    {
     "name": "stdout",
     "output_type": "stream",
     "text": [
      "\n"
     ]
    },
    {
     "data": {
      "application/vnd.jupyter.widget-view+json": {
       "model_id": "db51551665124fb084bafa1b5f666333",
       "version_major": 2,
       "version_minor": 0
      },
      "text/plain": [
       "HBox(children=(FloatProgress(value=0.0, description='Testing GO_uni2_cauchy1_N:10_T1:5_T2:0.4', max=1000.0, st…"
      ]
     },
     "metadata": {},
     "output_type": "display_data"
    },
    {
     "name": "stdout",
     "output_type": "stream",
     "text": [
      "\n"
     ]
    },
    {
     "data": {
      "application/vnd.jupyter.widget-view+json": {
       "model_id": "988f85df817a4837ab42a251187896e5",
       "version_major": 2,
       "version_minor": 0
      },
      "text/plain": [
       "HBox(children=(FloatProgress(value=0.0, description='Testing GO_uni3_cauchy1_N:10_T1:5_T2:0.4', max=1000.0, st…"
      ]
     },
     "metadata": {},
     "output_type": "display_data"
    },
    {
     "name": "stdout",
     "output_type": "stream",
     "text": [
      "\n"
     ]
    },
    {
     "data": {
      "application/vnd.jupyter.widget-view+json": {
       "model_id": "fd8533c74db0449586f7010ec5b4344e",
       "version_major": 2,
       "version_minor": 0
      },
      "text/plain": [
       "HBox(children=(FloatProgress(value=0.0, description='Testing GO_MCM_cauchy1_N:10_T1:5_T2:0.4', max=1000.0, sty…"
      ]
     },
     "metadata": {},
     "output_type": "display_data"
    },
    {
     "name": "stdout",
     "output_type": "stream",
     "text": [
      "\n"
     ]
    },
    {
     "data": {
      "application/vnd.jupyter.widget-view+json": {
       "model_id": "f78cd483e5e34037b2104c76e9e8978a",
       "version_major": 2,
       "version_minor": 0
      },
      "text/plain": [
       "HBox(children=(FloatProgress(value=0.0, description='Testing GO_MMCM_cauchy3_N:10_T1:5_T2:0.4', max=1000.0, st…"
      ]
     },
     "metadata": {},
     "output_type": "display_data"
    },
    {
     "name": "stdout",
     "output_type": "stream",
     "text": [
      "\n"
     ]
    },
    {
     "data": {
      "application/vnd.jupyter.widget-view+json": {
       "model_id": "2909a0514da249a9b69190595ab17e31",
       "version_major": 2,
       "version_minor": 0
      },
      "text/plain": [
       "HBox(children=(FloatProgress(value=0.0, description='Testing GO_rnd_cauchy1_N:10_T1:5_T2:0.4', max=1000.0, sty…"
      ]
     },
     "metadata": {},
     "output_type": "display_data"
    },
    {
     "name": "stdout",
     "output_type": "stream",
     "text": [
      "\n"
     ]
    },
    {
     "data": {
      "application/vnd.jupyter.widget-view+json": {
       "model_id": "3c30a87e87bc435ab3eff70c652b3697",
       "version_major": 2,
       "version_minor": 0
      },
      "text/plain": [
       "HBox(children=(FloatProgress(value=0.0, description='Testing GO_mix_cauchy1_N:10_T1:5_T2:0.4', max=1000.0, sty…"
      ]
     },
     "metadata": {},
     "output_type": "display_data"
    },
    {
     "name": "stdout",
     "output_type": "stream",
     "text": [
      "\n"
     ]
    },
    {
     "data": {
      "application/vnd.jupyter.widget-view+json": {
       "model_id": "7e15288540764b66b3d31d61ac995bca",
       "version_major": 2,
       "version_minor": 0
      },
      "text/plain": [
       "HBox(children=(FloatProgress(value=0.0, description='Testing GO_uni1_cauchy1_N:15_T1:0.5_T2:0.1', max=1000.0, …"
      ]
     },
     "metadata": {},
     "output_type": "display_data"
    },
    {
     "name": "stdout",
     "output_type": "stream",
     "text": [
      "\n"
     ]
    },
    {
     "data": {
      "application/vnd.jupyter.widget-view+json": {
       "model_id": "72ecc7ebdfc84d30939983853619d238",
       "version_major": 2,
       "version_minor": 0
      },
      "text/plain": [
       "HBox(children=(FloatProgress(value=0.0, description='Testing GO_uni2_cauchy1_N:15_T1:0.5_T2:0.1', max=1000.0, …"
      ]
     },
     "metadata": {},
     "output_type": "display_data"
    },
    {
     "name": "stdout",
     "output_type": "stream",
     "text": [
      "\n"
     ]
    },
    {
     "data": {
      "application/vnd.jupyter.widget-view+json": {
       "model_id": "fb2baa69b75f4cd6b60c0237c3209058",
       "version_major": 2,
       "version_minor": 0
      },
      "text/plain": [
       "HBox(children=(FloatProgress(value=0.0, description='Testing GO_uni3_cauchy1_N:15_T1:0.5_T2:0.1', max=1000.0, …"
      ]
     },
     "metadata": {},
     "output_type": "display_data"
    },
    {
     "name": "stdout",
     "output_type": "stream",
     "text": [
      "\n"
     ]
    },
    {
     "data": {
      "application/vnd.jupyter.widget-view+json": {
       "model_id": "5f63e12bbfef4c1e860057ef4d001f2e",
       "version_major": 2,
       "version_minor": 0
      },
      "text/plain": [
       "HBox(children=(FloatProgress(value=0.0, description='Testing GO_MCM_cauchy1_N:15_T1:0.5_T2:0.1', max=1000.0, s…"
      ]
     },
     "metadata": {},
     "output_type": "display_data"
    },
    {
     "name": "stdout",
     "output_type": "stream",
     "text": [
      "\n"
     ]
    },
    {
     "data": {
      "application/vnd.jupyter.widget-view+json": {
       "model_id": "31b43af3499e488a95bd668b6bd1cbf9",
       "version_major": 2,
       "version_minor": 0
      },
      "text/plain": [
       "HBox(children=(FloatProgress(value=0.0, description='Testing GO_MMCM_cauchy3_N:15_T1:0.5_T2:0.1', max=1000.0, …"
      ]
     },
     "metadata": {},
     "output_type": "display_data"
    },
    {
     "name": "stdout",
     "output_type": "stream",
     "text": [
      "\n"
     ]
    },
    {
     "data": {
      "application/vnd.jupyter.widget-view+json": {
       "model_id": "71d9e0eff40144a58baf5e0e57b39188",
       "version_major": 2,
       "version_minor": 0
      },
      "text/plain": [
       "HBox(children=(FloatProgress(value=0.0, description='Testing GO_rnd_cauchy1_N:15_T1:0.5_T2:0.1', max=1000.0, s…"
      ]
     },
     "metadata": {},
     "output_type": "display_data"
    },
    {
     "name": "stdout",
     "output_type": "stream",
     "text": [
      "\n"
     ]
    },
    {
     "data": {
      "application/vnd.jupyter.widget-view+json": {
       "model_id": "780106db0d9b44558bda2d253ef3989f",
       "version_major": 2,
       "version_minor": 0
      },
      "text/plain": [
       "HBox(children=(FloatProgress(value=0.0, description='Testing GO_mix_cauchy1_N:15_T1:0.5_T2:0.1', max=1000.0, s…"
      ]
     },
     "metadata": {},
     "output_type": "display_data"
    },
    {
     "name": "stdout",
     "output_type": "stream",
     "text": [
      "\n"
     ]
    },
    {
     "data": {
      "application/vnd.jupyter.widget-view+json": {
       "model_id": "da3c5261eba249dc92e897a4f8846f9c",
       "version_major": 2,
       "version_minor": 0
      },
      "text/plain": [
       "HBox(children=(FloatProgress(value=0.0, description='Testing GO_uni1_cauchy1_N:15_T1:0.5_T2:0.4', max=1000.0, …"
      ]
     },
     "metadata": {},
     "output_type": "display_data"
    },
    {
     "name": "stdout",
     "output_type": "stream",
     "text": [
      "\n"
     ]
    },
    {
     "data": {
      "application/vnd.jupyter.widget-view+json": {
       "model_id": "681b2fa26a2e42b4a048335523bb04e4",
       "version_major": 2,
       "version_minor": 0
      },
      "text/plain": [
       "HBox(children=(FloatProgress(value=0.0, description='Testing GO_uni2_cauchy1_N:15_T1:0.5_T2:0.4', max=1000.0, …"
      ]
     },
     "metadata": {},
     "output_type": "display_data"
    },
    {
     "name": "stdout",
     "output_type": "stream",
     "text": [
      "\n"
     ]
    },
    {
     "data": {
      "application/vnd.jupyter.widget-view+json": {
       "model_id": "c8adb823ab474e90af985661708c6bf2",
       "version_major": 2,
       "version_minor": 0
      },
      "text/plain": [
       "HBox(children=(FloatProgress(value=0.0, description='Testing GO_uni3_cauchy1_N:15_T1:0.5_T2:0.4', max=1000.0, …"
      ]
     },
     "metadata": {},
     "output_type": "display_data"
    },
    {
     "name": "stdout",
     "output_type": "stream",
     "text": [
      "\n"
     ]
    },
    {
     "data": {
      "application/vnd.jupyter.widget-view+json": {
       "model_id": "b4e21c8a43fc4b629b7242cb8bae4fc5",
       "version_major": 2,
       "version_minor": 0
      },
      "text/plain": [
       "HBox(children=(FloatProgress(value=0.0, description='Testing GO_MCM_cauchy1_N:15_T1:0.5_T2:0.4', max=1000.0, s…"
      ]
     },
     "metadata": {},
     "output_type": "display_data"
    },
    {
     "name": "stdout",
     "output_type": "stream",
     "text": [
      "\n"
     ]
    },
    {
     "data": {
      "application/vnd.jupyter.widget-view+json": {
       "model_id": "15f4dfa3630a4cb1acf2bb69f5ffe11b",
       "version_major": 2,
       "version_minor": 0
      },
      "text/plain": [
       "HBox(children=(FloatProgress(value=0.0, description='Testing GO_MMCM_cauchy3_N:15_T1:0.5_T2:0.4', max=1000.0, …"
      ]
     },
     "metadata": {},
     "output_type": "display_data"
    },
    {
     "name": "stdout",
     "output_type": "stream",
     "text": [
      "\n"
     ]
    },
    {
     "data": {
      "application/vnd.jupyter.widget-view+json": {
       "model_id": "6c75829102e048dcb22d6fc77089a41c",
       "version_major": 2,
       "version_minor": 0
      },
      "text/plain": [
       "HBox(children=(FloatProgress(value=0.0, description='Testing GO_rnd_cauchy1_N:15_T1:0.5_T2:0.4', max=1000.0, s…"
      ]
     },
     "metadata": {},
     "output_type": "display_data"
    },
    {
     "name": "stdout",
     "output_type": "stream",
     "text": [
      "\n"
     ]
    },
    {
     "data": {
      "application/vnd.jupyter.widget-view+json": {
       "model_id": "b9a221b26bb04ab2a859ee804db47965",
       "version_major": 2,
       "version_minor": 0
      },
      "text/plain": [
       "HBox(children=(FloatProgress(value=0.0, description='Testing GO_mix_cauchy1_N:15_T1:0.5_T2:0.4', max=1000.0, s…"
      ]
     },
     "metadata": {},
     "output_type": "display_data"
    },
    {
     "name": "stdout",
     "output_type": "stream",
     "text": [
      "\n"
     ]
    },
    {
     "data": {
      "application/vnd.jupyter.widget-view+json": {
       "model_id": "d1d097d90966465ba2fa92d610e781e5",
       "version_major": 2,
       "version_minor": 0
      },
      "text/plain": [
       "HBox(children=(FloatProgress(value=0.0, description='Testing GO_uni1_cauchy1_N:15_T1:1_T2:0.1', max=1000.0, st…"
      ]
     },
     "metadata": {},
     "output_type": "display_data"
    },
    {
     "name": "stdout",
     "output_type": "stream",
     "text": [
      "\n"
     ]
    },
    {
     "data": {
      "application/vnd.jupyter.widget-view+json": {
       "model_id": "944531c408f948a9b387be4f1f9a988c",
       "version_major": 2,
       "version_minor": 0
      },
      "text/plain": [
       "HBox(children=(FloatProgress(value=0.0, description='Testing GO_uni2_cauchy1_N:15_T1:1_T2:0.1', max=1000.0, st…"
      ]
     },
     "metadata": {},
     "output_type": "display_data"
    },
    {
     "name": "stdout",
     "output_type": "stream",
     "text": [
      "\n"
     ]
    },
    {
     "data": {
      "application/vnd.jupyter.widget-view+json": {
       "model_id": "1a4e69b61b724bd9b4225361e6aa3dde",
       "version_major": 2,
       "version_minor": 0
      },
      "text/plain": [
       "HBox(children=(FloatProgress(value=0.0, description='Testing GO_uni3_cauchy1_N:15_T1:1_T2:0.1', max=1000.0, st…"
      ]
     },
     "metadata": {},
     "output_type": "display_data"
    },
    {
     "name": "stdout",
     "output_type": "stream",
     "text": [
      "\n"
     ]
    },
    {
     "data": {
      "application/vnd.jupyter.widget-view+json": {
       "model_id": "e0cf3d7a8edd43f8a6f4402b89a88694",
       "version_major": 2,
       "version_minor": 0
      },
      "text/plain": [
       "HBox(children=(FloatProgress(value=0.0, description='Testing GO_MCM_cauchy1_N:15_T1:1_T2:0.1', max=1000.0, sty…"
      ]
     },
     "metadata": {},
     "output_type": "display_data"
    },
    {
     "name": "stdout",
     "output_type": "stream",
     "text": [
      "\n"
     ]
    },
    {
     "data": {
      "application/vnd.jupyter.widget-view+json": {
       "model_id": "49a2a94c423f4c5bb63f90167134e5f5",
       "version_major": 2,
       "version_minor": 0
      },
      "text/plain": [
       "HBox(children=(FloatProgress(value=0.0, description='Testing GO_MMCM_cauchy3_N:15_T1:1_T2:0.1', max=1000.0, st…"
      ]
     },
     "metadata": {},
     "output_type": "display_data"
    },
    {
     "name": "stdout",
     "output_type": "stream",
     "text": [
      "\n"
     ]
    },
    {
     "data": {
      "application/vnd.jupyter.widget-view+json": {
       "model_id": "c969494b4bfc48978fb8b4a56ad57be5",
       "version_major": 2,
       "version_minor": 0
      },
      "text/plain": [
       "HBox(children=(FloatProgress(value=0.0, description='Testing GO_rnd_cauchy1_N:15_T1:1_T2:0.1', max=1000.0, sty…"
      ]
     },
     "metadata": {},
     "output_type": "display_data"
    },
    {
     "name": "stdout",
     "output_type": "stream",
     "text": [
      "\n"
     ]
    },
    {
     "data": {
      "application/vnd.jupyter.widget-view+json": {
       "model_id": "f2ce13fa75dd423d970c22b2229d6fa0",
       "version_major": 2,
       "version_minor": 0
      },
      "text/plain": [
       "HBox(children=(FloatProgress(value=0.0, description='Testing GO_mix_cauchy1_N:15_T1:1_T2:0.1', max=1000.0, sty…"
      ]
     },
     "metadata": {},
     "output_type": "display_data"
    },
    {
     "name": "stdout",
     "output_type": "stream",
     "text": [
      "\n"
     ]
    },
    {
     "data": {
      "application/vnd.jupyter.widget-view+json": {
       "model_id": "7d1920c1729d4e49a72793c9b2106dc0",
       "version_major": 2,
       "version_minor": 0
      },
      "text/plain": [
       "HBox(children=(FloatProgress(value=0.0, description='Testing GO_uni1_cauchy1_N:15_T1:1_T2:0.4', max=1000.0, st…"
      ]
     },
     "metadata": {},
     "output_type": "display_data"
    },
    {
     "name": "stdout",
     "output_type": "stream",
     "text": [
      "\n"
     ]
    },
    {
     "data": {
      "application/vnd.jupyter.widget-view+json": {
       "model_id": "5c8fac3ba40a43f4a2f61a85bce71a49",
       "version_major": 2,
       "version_minor": 0
      },
      "text/plain": [
       "HBox(children=(FloatProgress(value=0.0, description='Testing GO_uni2_cauchy1_N:15_T1:1_T2:0.4', max=1000.0, st…"
      ]
     },
     "metadata": {},
     "output_type": "display_data"
    },
    {
     "name": "stdout",
     "output_type": "stream",
     "text": [
      "\n"
     ]
    },
    {
     "data": {
      "application/vnd.jupyter.widget-view+json": {
       "model_id": "fa02df57011041d59cf3c2215b04b011",
       "version_major": 2,
       "version_minor": 0
      },
      "text/plain": [
       "HBox(children=(FloatProgress(value=0.0, description='Testing GO_uni3_cauchy1_N:15_T1:1_T2:0.4', max=1000.0, st…"
      ]
     },
     "metadata": {},
     "output_type": "display_data"
    },
    {
     "name": "stdout",
     "output_type": "stream",
     "text": [
      "\n"
     ]
    },
    {
     "data": {
      "application/vnd.jupyter.widget-view+json": {
       "model_id": "307d28a00fb54b0e926272f4392d797a",
       "version_major": 2,
       "version_minor": 0
      },
      "text/plain": [
       "HBox(children=(FloatProgress(value=0.0, description='Testing GO_MCM_cauchy1_N:15_T1:1_T2:0.4', max=1000.0, sty…"
      ]
     },
     "metadata": {},
     "output_type": "display_data"
    },
    {
     "name": "stdout",
     "output_type": "stream",
     "text": [
      "\n"
     ]
    },
    {
     "data": {
      "application/vnd.jupyter.widget-view+json": {
       "model_id": "5497a25643f14b8b86009baa50b08eab",
       "version_major": 2,
       "version_minor": 0
      },
      "text/plain": [
       "HBox(children=(FloatProgress(value=0.0, description='Testing GO_MMCM_cauchy3_N:15_T1:1_T2:0.4', max=1000.0, st…"
      ]
     },
     "metadata": {},
     "output_type": "display_data"
    },
    {
     "name": "stdout",
     "output_type": "stream",
     "text": [
      "\n"
     ]
    },
    {
     "data": {
      "application/vnd.jupyter.widget-view+json": {
       "model_id": "ceaafd9be37848bd908db22831bcdece",
       "version_major": 2,
       "version_minor": 0
      },
      "text/plain": [
       "HBox(children=(FloatProgress(value=0.0, description='Testing GO_rnd_cauchy1_N:15_T1:1_T2:0.4', max=1000.0, sty…"
      ]
     },
     "metadata": {},
     "output_type": "display_data"
    },
    {
     "name": "stdout",
     "output_type": "stream",
     "text": [
      "\n"
     ]
    },
    {
     "data": {
      "application/vnd.jupyter.widget-view+json": {
       "model_id": "623ddc8d09fd450294360c3e3892499c",
       "version_major": 2,
       "version_minor": 0
      },
      "text/plain": [
       "HBox(children=(FloatProgress(value=0.0, description='Testing GO_mix_cauchy1_N:15_T1:1_T2:0.4', max=1000.0, sty…"
      ]
     },
     "metadata": {},
     "output_type": "display_data"
    },
    {
     "name": "stdout",
     "output_type": "stream",
     "text": [
      "\n"
     ]
    },
    {
     "data": {
      "application/vnd.jupyter.widget-view+json": {
       "model_id": "49c82ae765b94345874f9c47f7b3d299",
       "version_major": 2,
       "version_minor": 0
      },
      "text/plain": [
       "HBox(children=(FloatProgress(value=0.0, description='Testing GO_uni1_cauchy1_N:15_T1:5_T2:0.1', max=1000.0, st…"
      ]
     },
     "metadata": {},
     "output_type": "display_data"
    },
    {
     "name": "stdout",
     "output_type": "stream",
     "text": [
      "\n"
     ]
    },
    {
     "data": {
      "application/vnd.jupyter.widget-view+json": {
       "model_id": "b05c054874c04dc1a52a254ffa428c4e",
       "version_major": 2,
       "version_minor": 0
      },
      "text/plain": [
       "HBox(children=(FloatProgress(value=0.0, description='Testing GO_uni2_cauchy1_N:15_T1:5_T2:0.1', max=1000.0, st…"
      ]
     },
     "metadata": {},
     "output_type": "display_data"
    },
    {
     "name": "stdout",
     "output_type": "stream",
     "text": [
      "\n"
     ]
    },
    {
     "data": {
      "application/vnd.jupyter.widget-view+json": {
       "model_id": "5c5b456f9a4b45878c9b072b30afac57",
       "version_major": 2,
       "version_minor": 0
      },
      "text/plain": [
       "HBox(children=(FloatProgress(value=0.0, description='Testing GO_uni3_cauchy1_N:15_T1:5_T2:0.1', max=1000.0, st…"
      ]
     },
     "metadata": {},
     "output_type": "display_data"
    },
    {
     "name": "stdout",
     "output_type": "stream",
     "text": [
      "\n"
     ]
    },
    {
     "data": {
      "application/vnd.jupyter.widget-view+json": {
       "model_id": "a97e2465f2f648dea0fb40b343cbbcd5",
       "version_major": 2,
       "version_minor": 0
      },
      "text/plain": [
       "HBox(children=(FloatProgress(value=0.0, description='Testing GO_MCM_cauchy1_N:15_T1:5_T2:0.1', max=1000.0, sty…"
      ]
     },
     "metadata": {},
     "output_type": "display_data"
    },
    {
     "name": "stdout",
     "output_type": "stream",
     "text": [
      "\n"
     ]
    },
    {
     "data": {
      "application/vnd.jupyter.widget-view+json": {
       "model_id": "6aef84daee8f4a48a4a5df37368b5e33",
       "version_major": 2,
       "version_minor": 0
      },
      "text/plain": [
       "HBox(children=(FloatProgress(value=0.0, description='Testing GO_MMCM_cauchy3_N:15_T1:5_T2:0.1', max=1000.0, st…"
      ]
     },
     "metadata": {},
     "output_type": "display_data"
    },
    {
     "name": "stdout",
     "output_type": "stream",
     "text": [
      "\n"
     ]
    },
    {
     "data": {
      "application/vnd.jupyter.widget-view+json": {
       "model_id": "086329f907684bc9a9b68fafad0c505a",
       "version_major": 2,
       "version_minor": 0
      },
      "text/plain": [
       "HBox(children=(FloatProgress(value=0.0, description='Testing GO_rnd_cauchy1_N:15_T1:5_T2:0.1', max=1000.0, sty…"
      ]
     },
     "metadata": {},
     "output_type": "display_data"
    },
    {
     "name": "stdout",
     "output_type": "stream",
     "text": [
      "\n"
     ]
    },
    {
     "data": {
      "application/vnd.jupyter.widget-view+json": {
       "model_id": "7062cdcc993b4dfcbb10deef6ff6398c",
       "version_major": 2,
       "version_minor": 0
      },
      "text/plain": [
       "HBox(children=(FloatProgress(value=0.0, description='Testing GO_mix_cauchy1_N:15_T1:5_T2:0.1', max=1000.0, sty…"
      ]
     },
     "metadata": {},
     "output_type": "display_data"
    },
    {
     "name": "stdout",
     "output_type": "stream",
     "text": [
      "\n"
     ]
    },
    {
     "data": {
      "application/vnd.jupyter.widget-view+json": {
       "model_id": "f7dcd326d00a442085a111f0ba565db0",
       "version_major": 2,
       "version_minor": 0
      },
      "text/plain": [
       "HBox(children=(FloatProgress(value=0.0, description='Testing GO_uni1_cauchy1_N:15_T1:5_T2:0.4', max=1000.0, st…"
      ]
     },
     "metadata": {},
     "output_type": "display_data"
    },
    {
     "name": "stdout",
     "output_type": "stream",
     "text": [
      "\n"
     ]
    },
    {
     "data": {
      "application/vnd.jupyter.widget-view+json": {
       "model_id": "03d80d5dc61644d885be3ebcff9d17f9",
       "version_major": 2,
       "version_minor": 0
      },
      "text/plain": [
       "HBox(children=(FloatProgress(value=0.0, description='Testing GO_uni2_cauchy1_N:15_T1:5_T2:0.4', max=1000.0, st…"
      ]
     },
     "metadata": {},
     "output_type": "display_data"
    },
    {
     "name": "stdout",
     "output_type": "stream",
     "text": [
      "\n"
     ]
    },
    {
     "data": {
      "application/vnd.jupyter.widget-view+json": {
       "model_id": "674db75ea3554cd7b532e748da72447d",
       "version_major": 2,
       "version_minor": 0
      },
      "text/plain": [
       "HBox(children=(FloatProgress(value=0.0, description='Testing GO_uni3_cauchy1_N:15_T1:5_T2:0.4', max=1000.0, st…"
      ]
     },
     "metadata": {},
     "output_type": "display_data"
    },
    {
     "name": "stdout",
     "output_type": "stream",
     "text": [
      "\n"
     ]
    },
    {
     "data": {
      "application/vnd.jupyter.widget-view+json": {
       "model_id": "50730de574ba44baae844e1fadf06547",
       "version_major": 2,
       "version_minor": 0
      },
      "text/plain": [
       "HBox(children=(FloatProgress(value=0.0, description='Testing GO_MCM_cauchy1_N:15_T1:5_T2:0.4', max=1000.0, sty…"
      ]
     },
     "metadata": {},
     "output_type": "display_data"
    },
    {
     "name": "stdout",
     "output_type": "stream",
     "text": [
      "\n"
     ]
    },
    {
     "data": {
      "application/vnd.jupyter.widget-view+json": {
       "model_id": "7ab14174f4c44a08b54289869d008e31",
       "version_major": 2,
       "version_minor": 0
      },
      "text/plain": [
       "HBox(children=(FloatProgress(value=0.0, description='Testing GO_MMCM_cauchy3_N:15_T1:5_T2:0.4', max=1000.0, st…"
      ]
     },
     "metadata": {},
     "output_type": "display_data"
    },
    {
     "name": "stdout",
     "output_type": "stream",
     "text": [
      "\n"
     ]
    },
    {
     "data": {
      "application/vnd.jupyter.widget-view+json": {
       "model_id": "0171c2d8565b43e8a12cb33cc5d7c397",
       "version_major": 2,
       "version_minor": 0
      },
      "text/plain": [
       "HBox(children=(FloatProgress(value=0.0, description='Testing GO_rnd_cauchy1_N:15_T1:5_T2:0.4', max=1000.0, sty…"
      ]
     },
     "metadata": {},
     "output_type": "display_data"
    },
    {
     "name": "stdout",
     "output_type": "stream",
     "text": [
      "\n"
     ]
    },
    {
     "data": {
      "application/vnd.jupyter.widget-view+json": {
       "model_id": "e989129713c44cb2affa2db81899f893",
       "version_major": 2,
       "version_minor": 0
      },
      "text/plain": [
       "HBox(children=(FloatProgress(value=0.0, description='Testing GO_mix_cauchy1_N:15_T1:5_T2:0.4', max=1000.0, sty…"
      ]
     },
     "metadata": {},
     "output_type": "display_data"
    },
    {
     "name": "stdout",
     "output_type": "stream",
     "text": [
      "\n"
     ]
    }
   ],
   "source": [
    "results_2 = pd.DataFrame()\n",
    "for n in N:\n",
    "    for temp1 in T1:\n",
    "        for temp2 in T2:\n",
    "            for cr_mut in crossovers_mutations:\n",
    "                heur_name = 'GO_{}_N:{}_T1:{}_T2:{}'.format(cr_mut['name'], n, temp1, temp2)\n",
    "                runs = []\n",
    "                for i in tqdm(range(NUM_RUNS), 'Testing {}'.format(heur_name)):\n",
    "                    run = GeneticOptimization(tsp, maxeval, N=n, M=3*n, Tsel1=temp1, Tsel2=temp2, \n",
    "                                              mutation=cr_mut['mutation'],\n",
    "                                              crossover=cr_mut['crossover']).search()\n",
    "                    run['run'] = i\n",
    "                    run['heur'] = heur_name\n",
    "                    run['n'] = n\n",
    "                    run['temp1'] = temp1\n",
    "                    run['temp2'] = temp2\n",
    "                    runs.append(run)\n",
    "\n",
    "                res_df = pd.DataFrame(runs, columns=['heur', 'run', 'n','temp1', 'temp2', \n",
    "                                                     'best_x', 'best_y', 'neval'])\n",
    "                results_2 = pd.concat([results_2, res_df], axis=0)"
   ]
  },
  {
   "cell_type": "code",
   "execution_count": 16,
   "metadata": {},
   "outputs": [
    {
     "name": "stderr",
     "output_type": "stream",
     "text": [
      "/home/benjamin/anaconda3/lib/python3.7/site-packages/numpy/core/fromnumeric.py:3335: RuntimeWarning: Mean of empty slice.\n",
      "  out=out, **kwargs)\n",
      "/home/benjamin/anaconda3/lib/python3.7/site-packages/numpy/core/_methods.py:161: RuntimeWarning: invalid value encountered in double_scalars\n",
      "  ret = ret.dtype.type(ret / rcount)\n"
     ]
    },
    {
     "data": {
      "text/html": [
       "<div>\n",
       "<style scoped>\n",
       "    .dataframe tbody tr th:only-of-type {\n",
       "        vertical-align: middle;\n",
       "    }\n",
       "\n",
       "    .dataframe tbody tr th {\n",
       "        vertical-align: top;\n",
       "    }\n",
       "\n",
       "    .dataframe thead th {\n",
       "        text-align: right;\n",
       "    }\n",
       "</style>\n",
       "<table border=\"1\" class=\"dataframe\">\n",
       "  <thead>\n",
       "    <tr style=\"text-align: right;\">\n",
       "      <th></th>\n",
       "      <th>heur</th>\n",
       "      <th>n</th>\n",
       "      <th>temp1</th>\n",
       "      <th>temp2</th>\n",
       "      <th>feo</th>\n",
       "      <th>mne</th>\n",
       "      <th>rel</th>\n",
       "    </tr>\n",
       "  </thead>\n",
       "  <tbody>\n",
       "    <tr>\n",
       "      <th>13</th>\n",
       "      <td>GO_MCM_cauchy1_N:3_T1:0.5_T2:0.4</td>\n",
       "      <td>3</td>\n",
       "      <td>0.5</td>\n",
       "      <td>0.4</td>\n",
       "      <td>240.151229</td>\n",
       "      <td>55.234783</td>\n",
       "      <td>0.230</td>\n",
       "    </tr>\n",
       "    <tr>\n",
       "      <th>12</th>\n",
       "      <td>GO_MCM_cauchy1_N:3_T1:0.5_T2:0.1</td>\n",
       "      <td>3</td>\n",
       "      <td>0.5</td>\n",
       "      <td>0.1</td>\n",
       "      <td>241.220195</td>\n",
       "      <td>56.927966</td>\n",
       "      <td>0.236</td>\n",
       "    </tr>\n",
       "    <tr>\n",
       "      <th>108</th>\n",
       "      <td>GO_uni1_cauchy1_N:3_T1:0.5_T2:0.1</td>\n",
       "      <td>3</td>\n",
       "      <td>0.5</td>\n",
       "      <td>0.1</td>\n",
       "      <td>250.224140</td>\n",
       "      <td>54.799087</td>\n",
       "      <td>0.219</td>\n",
       "    </tr>\n",
       "    <tr>\n",
       "      <th>19</th>\n",
       "      <td>GO_MCM_cauchy1_N:5_T1:0.5_T2:0.4</td>\n",
       "      <td>5</td>\n",
       "      <td>0.5</td>\n",
       "      <td>0.4</td>\n",
       "      <td>250.236281</td>\n",
       "      <td>55.802691</td>\n",
       "      <td>0.223</td>\n",
       "    </tr>\n",
       "    <tr>\n",
       "      <th>3</th>\n",
       "      <td>GO_MCM_cauchy1_N:10_T1:1_T2:0.4</td>\n",
       "      <td>10</td>\n",
       "      <td>1.0</td>\n",
       "      <td>0.4</td>\n",
       "      <td>250.853340</td>\n",
       "      <td>57.445415</td>\n",
       "      <td>0.229</td>\n",
       "    </tr>\n",
       "    <tr>\n",
       "      <th>18</th>\n",
       "      <td>GO_MCM_cauchy1_N:5_T1:0.5_T2:0.1</td>\n",
       "      <td>5</td>\n",
       "      <td>0.5</td>\n",
       "      <td>0.1</td>\n",
       "      <td>252.261047</td>\n",
       "      <td>58.776824</td>\n",
       "      <td>0.233</td>\n",
       "    </tr>\n",
       "    <tr>\n",
       "      <th>66</th>\n",
       "      <td>GO_mix_cauchy1_N:5_T1:0.5_T2:0.1</td>\n",
       "      <td>5</td>\n",
       "      <td>0.5</td>\n",
       "      <td>0.1</td>\n",
       "      <td>258.328044</td>\n",
       "      <td>57.090498</td>\n",
       "      <td>0.221</td>\n",
       "    </tr>\n",
       "    <tr>\n",
       "      <th>15</th>\n",
       "      <td>GO_MCM_cauchy1_N:3_T1:1_T2:0.4</td>\n",
       "      <td>3</td>\n",
       "      <td>1.0</td>\n",
       "      <td>0.4</td>\n",
       "      <td>260.480967</td>\n",
       "      <td>56.263889</td>\n",
       "      <td>0.216</td>\n",
       "    </tr>\n",
       "    <tr>\n",
       "      <th>157</th>\n",
       "      <td>GO_uni3_cauchy1_N:3_T1:0.5_T2:0.4</td>\n",
       "      <td>3</td>\n",
       "      <td>0.5</td>\n",
       "      <td>0.4</td>\n",
       "      <td>262.310845</td>\n",
       "      <td>54.822967</td>\n",
       "      <td>0.209</td>\n",
       "    </tr>\n",
       "    <tr>\n",
       "      <th>114</th>\n",
       "      <td>GO_uni1_cauchy1_N:5_T1:0.5_T2:0.1</td>\n",
       "      <td>5</td>\n",
       "      <td>0.5</td>\n",
       "      <td>0.1</td>\n",
       "      <td>263.890479</td>\n",
       "      <td>55.153110</td>\n",
       "      <td>0.209</td>\n",
       "    </tr>\n",
       "    <tr>\n",
       "      <th>110</th>\n",
       "      <td>GO_uni1_cauchy1_N:3_T1:1_T2:0.1</td>\n",
       "      <td>3</td>\n",
       "      <td>1.0</td>\n",
       "      <td>0.1</td>\n",
       "      <td>265.327079</td>\n",
       "      <td>54.922705</td>\n",
       "      <td>0.207</td>\n",
       "    </tr>\n",
       "    <tr>\n",
       "      <th>141</th>\n",
       "      <td>GO_uni2_cauchy1_N:5_T1:1_T2:0.4</td>\n",
       "      <td>5</td>\n",
       "      <td>1.0</td>\n",
       "      <td>0.4</td>\n",
       "      <td>265.644930</td>\n",
       "      <td>59.504464</td>\n",
       "      <td>0.224</td>\n",
       "    </tr>\n",
       "    <tr>\n",
       "      <th>67</th>\n",
       "      <td>GO_mix_cauchy1_N:5_T1:0.5_T2:0.4</td>\n",
       "      <td>5</td>\n",
       "      <td>0.5</td>\n",
       "      <td>0.4</td>\n",
       "      <td>265.735997</td>\n",
       "      <td>53.412935</td>\n",
       "      <td>0.201</td>\n",
       "    </tr>\n",
       "    <tr>\n",
       "      <th>138</th>\n",
       "      <td>GO_uni2_cauchy1_N:5_T1:0.5_T2:0.1</td>\n",
       "      <td>5</td>\n",
       "      <td>0.5</td>\n",
       "      <td>0.1</td>\n",
       "      <td>265.798232</td>\n",
       "      <td>56.615023</td>\n",
       "      <td>0.213</td>\n",
       "    </tr>\n",
       "    <tr>\n",
       "      <th>85</th>\n",
       "      <td>GO_rnd_cauchy1_N:3_T1:0.5_T2:0.4</td>\n",
       "      <td>3</td>\n",
       "      <td>0.5</td>\n",
       "      <td>0.4</td>\n",
       "      <td>266.261103</td>\n",
       "      <td>56.713615</td>\n",
       "      <td>0.213</td>\n",
       "    </tr>\n",
       "    <tr>\n",
       "      <th>115</th>\n",
       "      <td>GO_uni1_cauchy1_N:5_T1:0.5_T2:0.4</td>\n",
       "      <td>5</td>\n",
       "      <td>0.5</td>\n",
       "      <td>0.4</td>\n",
       "      <td>267.119399</td>\n",
       "      <td>57.163551</td>\n",
       "      <td>0.214</td>\n",
       "    </tr>\n",
       "    <tr>\n",
       "      <th>60</th>\n",
       "      <td>GO_mix_cauchy1_N:3_T1:0.5_T2:0.1</td>\n",
       "      <td>3</td>\n",
       "      <td>0.5</td>\n",
       "      <td>0.1</td>\n",
       "      <td>268.080935</td>\n",
       "      <td>55.492754</td>\n",
       "      <td>0.207</td>\n",
       "    </tr>\n",
       "    <tr>\n",
       "      <th>135</th>\n",
       "      <td>GO_uni2_cauchy1_N:3_T1:1_T2:0.4</td>\n",
       "      <td>3</td>\n",
       "      <td>1.0</td>\n",
       "      <td>0.4</td>\n",
       "      <td>270.125497</td>\n",
       "      <td>53.484848</td>\n",
       "      <td>0.198</td>\n",
       "    </tr>\n",
       "    <tr>\n",
       "      <th>61</th>\n",
       "      <td>GO_mix_cauchy1_N:3_T1:0.5_T2:0.4</td>\n",
       "      <td>3</td>\n",
       "      <td>0.5</td>\n",
       "      <td>0.4</td>\n",
       "      <td>270.140336</td>\n",
       "      <td>56.459330</td>\n",
       "      <td>0.209</td>\n",
       "    </tr>\n",
       "    <tr>\n",
       "      <th>158</th>\n",
       "      <td>GO_uni3_cauchy1_N:3_T1:1_T2:0.1</td>\n",
       "      <td>3</td>\n",
       "      <td>1.0</td>\n",
       "      <td>0.1</td>\n",
       "      <td>271.582414</td>\n",
       "      <td>57.575472</td>\n",
       "      <td>0.212</td>\n",
       "    </tr>\n",
       "    <tr>\n",
       "      <th>90</th>\n",
       "      <td>GO_rnd_cauchy1_N:5_T1:0.5_T2:0.1</td>\n",
       "      <td>5</td>\n",
       "      <td>0.5</td>\n",
       "      <td>0.1</td>\n",
       "      <td>272.544127</td>\n",
       "      <td>56.961722</td>\n",
       "      <td>0.209</td>\n",
       "    </tr>\n",
       "    <tr>\n",
       "      <th>14</th>\n",
       "      <td>GO_MCM_cauchy1_N:3_T1:1_T2:0.1</td>\n",
       "      <td>3</td>\n",
       "      <td>1.0</td>\n",
       "      <td>0.1</td>\n",
       "      <td>272.704379</td>\n",
       "      <td>56.995215</td>\n",
       "      <td>0.209</td>\n",
       "    </tr>\n",
       "    <tr>\n",
       "      <th>86</th>\n",
       "      <td>GO_rnd_cauchy1_N:3_T1:1_T2:0.1</td>\n",
       "      <td>3</td>\n",
       "      <td>1.0</td>\n",
       "      <td>0.1</td>\n",
       "      <td>273.870262</td>\n",
       "      <td>53.678571</td>\n",
       "      <td>0.196</td>\n",
       "    </tr>\n",
       "    <tr>\n",
       "      <th>116</th>\n",
       "      <td>GO_uni1_cauchy1_N:5_T1:1_T2:0.1</td>\n",
       "      <td>5</td>\n",
       "      <td>1.0</td>\n",
       "      <td>0.1</td>\n",
       "      <td>274.879238</td>\n",
       "      <td>57.449761</td>\n",
       "      <td>0.209</td>\n",
       "    </tr>\n",
       "    <tr>\n",
       "      <th>63</th>\n",
       "      <td>GO_mix_cauchy1_N:3_T1:1_T2:0.4</td>\n",
       "      <td>3</td>\n",
       "      <td>1.0</td>\n",
       "      <td>0.4</td>\n",
       "      <td>275.573849</td>\n",
       "      <td>54.839196</td>\n",
       "      <td>0.199</td>\n",
       "    </tr>\n",
       "    <tr>\n",
       "      <th>96</th>\n",
       "      <td>GO_uni1_cauchy1_N:10_T1:0.5_T2:0.1</td>\n",
       "      <td>10</td>\n",
       "      <td>0.5</td>\n",
       "      <td>0.1</td>\n",
       "      <td>279.816615</td>\n",
       "      <td>59.600939</td>\n",
       "      <td>0.213</td>\n",
       "    </tr>\n",
       "    <tr>\n",
       "      <th>133</th>\n",
       "      <td>GO_uni2_cauchy1_N:3_T1:0.5_T2:0.4</td>\n",
       "      <td>3</td>\n",
       "      <td>0.5</td>\n",
       "      <td>0.4</td>\n",
       "      <td>279.843893</td>\n",
       "      <td>55.409091</td>\n",
       "      <td>0.198</td>\n",
       "    </tr>\n",
       "    <tr>\n",
       "      <th>117</th>\n",
       "      <td>GO_uni1_cauchy1_N:5_T1:1_T2:0.4</td>\n",
       "      <td>5</td>\n",
       "      <td>1.0</td>\n",
       "      <td>0.4</td>\n",
       "      <td>282.411117</td>\n",
       "      <td>59.023923</td>\n",
       "      <td>0.209</td>\n",
       "    </tr>\n",
       "    <tr>\n",
       "      <th>140</th>\n",
       "      <td>GO_uni2_cauchy1_N:5_T1:1_T2:0.1</td>\n",
       "      <td>5</td>\n",
       "      <td>1.0</td>\n",
       "      <td>0.1</td>\n",
       "      <td>284.937756</td>\n",
       "      <td>57.842365</td>\n",
       "      <td>0.203</td>\n",
       "    </tr>\n",
       "    <tr>\n",
       "      <th>109</th>\n",
       "      <td>GO_uni1_cauchy1_N:3_T1:0.5_T2:0.4</td>\n",
       "      <td>3</td>\n",
       "      <td>0.5</td>\n",
       "      <td>0.4</td>\n",
       "      <td>285.191579</td>\n",
       "      <td>56.182741</td>\n",
       "      <td>0.197</td>\n",
       "    </tr>\n",
       "    <tr>\n",
       "      <th>91</th>\n",
       "      <td>GO_rnd_cauchy1_N:5_T1:0.5_T2:0.4</td>\n",
       "      <td>5</td>\n",
       "      <td>0.5</td>\n",
       "      <td>0.4</td>\n",
       "      <td>285.377751</td>\n",
       "      <td>58.502439</td>\n",
       "      <td>0.205</td>\n",
       "    </tr>\n",
       "    <tr>\n",
       "      <th>163</th>\n",
       "      <td>GO_uni3_cauchy1_N:5_T1:0.5_T2:0.4</td>\n",
       "      <td>5</td>\n",
       "      <td>0.5</td>\n",
       "      <td>0.4</td>\n",
       "      <td>286.577900</td>\n",
       "      <td>56.742424</td>\n",
       "      <td>0.198</td>\n",
       "    </tr>\n",
       "    <tr>\n",
       "      <th>123</th>\n",
       "      <td>GO_uni2_cauchy1_N:10_T1:1_T2:0.4</td>\n",
       "      <td>10</td>\n",
       "      <td>1.0</td>\n",
       "      <td>0.4</td>\n",
       "      <td>290.093685</td>\n",
       "      <td>57.728643</td>\n",
       "      <td>0.199</td>\n",
       "    </tr>\n",
       "    <tr>\n",
       "      <th>156</th>\n",
       "      <td>GO_uni3_cauchy1_N:3_T1:0.5_T2:0.1</td>\n",
       "      <td>3</td>\n",
       "      <td>0.5</td>\n",
       "      <td>0.1</td>\n",
       "      <td>293.123605</td>\n",
       "      <td>56.865979</td>\n",
       "      <td>0.194</td>\n",
       "    </tr>\n",
       "    <tr>\n",
       "      <th>132</th>\n",
       "      <td>GO_uni2_cauchy1_N:3_T1:0.5_T2:0.1</td>\n",
       "      <td>3</td>\n",
       "      <td>0.5</td>\n",
       "      <td>0.1</td>\n",
       "      <td>294.705532</td>\n",
       "      <td>60.414634</td>\n",
       "      <td>0.205</td>\n",
       "    </tr>\n",
       "    <tr>\n",
       "      <th>98</th>\n",
       "      <td>GO_uni1_cauchy1_N:10_T1:1_T2:0.1</td>\n",
       "      <td>10</td>\n",
       "      <td>1.0</td>\n",
       "      <td>0.1</td>\n",
       "      <td>295.472337</td>\n",
       "      <td>58.798995</td>\n",
       "      <td>0.199</td>\n",
       "    </tr>\n",
       "    <tr>\n",
       "      <th>84</th>\n",
       "      <td>GO_rnd_cauchy1_N:3_T1:0.5_T2:0.1</td>\n",
       "      <td>3</td>\n",
       "      <td>0.5</td>\n",
       "      <td>0.1</td>\n",
       "      <td>296.828196</td>\n",
       "      <td>56.100529</td>\n",
       "      <td>0.189</td>\n",
       "    </tr>\n",
       "    <tr>\n",
       "      <th>139</th>\n",
       "      <td>GO_uni2_cauchy1_N:5_T1:0.5_T2:0.4</td>\n",
       "      <td>5</td>\n",
       "      <td>0.5</td>\n",
       "      <td>0.4</td>\n",
       "      <td>296.933569</td>\n",
       "      <td>58.198980</td>\n",
       "      <td>0.196</td>\n",
       "    </tr>\n",
       "    <tr>\n",
       "      <th>121</th>\n",
       "      <td>GO_uni2_cauchy1_N:10_T1:0.5_T2:0.4</td>\n",
       "      <td>10</td>\n",
       "      <td>0.5</td>\n",
       "      <td>0.4</td>\n",
       "      <td>296.989887</td>\n",
       "      <td>60.882927</td>\n",
       "      <td>0.205</td>\n",
       "    </tr>\n",
       "    <tr>\n",
       "      <th>159</th>\n",
       "      <td>GO_uni3_cauchy1_N:3_T1:1_T2:0.4</td>\n",
       "      <td>3</td>\n",
       "      <td>1.0</td>\n",
       "      <td>0.4</td>\n",
       "      <td>297.334767</td>\n",
       "      <td>55.898936</td>\n",
       "      <td>0.188</td>\n",
       "    </tr>\n",
       "    <tr>\n",
       "      <th>62</th>\n",
       "      <td>GO_mix_cauchy1_N:3_T1:1_T2:0.1</td>\n",
       "      <td>3</td>\n",
       "      <td>1.0</td>\n",
       "      <td>0.1</td>\n",
       "      <td>297.643999</td>\n",
       "      <td>59.231156</td>\n",
       "      <td>0.199</td>\n",
       "    </tr>\n",
       "    <tr>\n",
       "      <th>69</th>\n",
       "      <td>GO_mix_cauchy1_N:5_T1:1_T2:0.4</td>\n",
       "      <td>5</td>\n",
       "      <td>1.0</td>\n",
       "      <td>0.4</td>\n",
       "      <td>298.936632</td>\n",
       "      <td>57.395833</td>\n",
       "      <td>0.192</td>\n",
       "    </tr>\n",
       "    <tr>\n",
       "      <th>1</th>\n",
       "      <td>GO_MCM_cauchy1_N:10_T1:0.5_T2:0.4</td>\n",
       "      <td>10</td>\n",
       "      <td>0.5</td>\n",
       "      <td>0.4</td>\n",
       "      <td>299.024943</td>\n",
       "      <td>62.795238</td>\n",
       "      <td>0.210</td>\n",
       "    </tr>\n",
       "    <tr>\n",
       "      <th>162</th>\n",
       "      <td>GO_uni3_cauchy1_N:5_T1:0.5_T2:0.1</td>\n",
       "      <td>5</td>\n",
       "      <td>0.5</td>\n",
       "      <td>0.1</td>\n",
       "      <td>299.208946</td>\n",
       "      <td>58.944162</td>\n",
       "      <td>0.197</td>\n",
       "    </tr>\n",
       "    <tr>\n",
       "      <th>20</th>\n",
       "      <td>GO_MCM_cauchy1_N:5_T1:1_T2:0.1</td>\n",
       "      <td>5</td>\n",
       "      <td>1.0</td>\n",
       "      <td>0.1</td>\n",
       "      <td>300.031237</td>\n",
       "      <td>58.806122</td>\n",
       "      <td>0.196</td>\n",
       "    </tr>\n",
       "    <tr>\n",
       "      <th>165</th>\n",
       "      <td>GO_uni3_cauchy1_N:5_T1:1_T2:0.4</td>\n",
       "      <td>5</td>\n",
       "      <td>1.0</td>\n",
       "      <td>0.4</td>\n",
       "      <td>300.916121</td>\n",
       "      <td>61.687805</td>\n",
       "      <td>0.205</td>\n",
       "    </tr>\n",
       "    <tr>\n",
       "      <th>120</th>\n",
       "      <td>GO_uni2_cauchy1_N:10_T1:0.5_T2:0.1</td>\n",
       "      <td>10</td>\n",
       "      <td>0.5</td>\n",
       "      <td>0.1</td>\n",
       "      <td>301.482286</td>\n",
       "      <td>59.994975</td>\n",
       "      <td>0.199</td>\n",
       "    </tr>\n",
       "    <tr>\n",
       "      <th>68</th>\n",
       "      <td>GO_mix_cauchy1_N:5_T1:1_T2:0.1</td>\n",
       "      <td>5</td>\n",
       "      <td>1.0</td>\n",
       "      <td>0.1</td>\n",
       "      <td>302.455138</td>\n",
       "      <td>57.164021</td>\n",
       "      <td>0.189</td>\n",
       "    </tr>\n",
       "    <tr>\n",
       "      <th>0</th>\n",
       "      <td>GO_MCM_cauchy1_N:10_T1:0.5_T2:0.1</td>\n",
       "      <td>10</td>\n",
       "      <td>0.5</td>\n",
       "      <td>0.1</td>\n",
       "      <td>302.869987</td>\n",
       "      <td>57.848168</td>\n",
       "      <td>0.191</td>\n",
       "    </tr>\n",
       "    <tr>\n",
       "      <th>111</th>\n",
       "      <td>GO_uni1_cauchy1_N:3_T1:1_T2:0.4</td>\n",
       "      <td>3</td>\n",
       "      <td>1.0</td>\n",
       "      <td>0.4</td>\n",
       "      <td>304.514973</td>\n",
       "      <td>56.639785</td>\n",
       "      <td>0.186</td>\n",
       "    </tr>\n",
       "    <tr>\n",
       "      <th>134</th>\n",
       "      <td>GO_uni2_cauchy1_N:3_T1:1_T2:0.1</td>\n",
       "      <td>3</td>\n",
       "      <td>1.0</td>\n",
       "      <td>0.1</td>\n",
       "      <td>304.651737</td>\n",
       "      <td>58.188482</td>\n",
       "      <td>0.191</td>\n",
       "    </tr>\n",
       "    <tr>\n",
       "      <th>122</th>\n",
       "      <td>GO_uni2_cauchy1_N:10_T1:1_T2:0.1</td>\n",
       "      <td>10</td>\n",
       "      <td>1.0</td>\n",
       "      <td>0.1</td>\n",
       "      <td>304.742815</td>\n",
       "      <td>59.729592</td>\n",
       "      <td>0.196</td>\n",
       "    </tr>\n",
       "    <tr>\n",
       "      <th>144</th>\n",
       "      <td>GO_uni3_cauchy1_N:10_T1:0.5_T2:0.1</td>\n",
       "      <td>10</td>\n",
       "      <td>0.5</td>\n",
       "      <td>0.1</td>\n",
       "      <td>311.149293</td>\n",
       "      <td>60.051813</td>\n",
       "      <td>0.193</td>\n",
       "    </tr>\n",
       "    <tr>\n",
       "      <th>145</th>\n",
       "      <td>GO_uni3_cauchy1_N:10_T1:0.5_T2:0.4</td>\n",
       "      <td>10</td>\n",
       "      <td>0.5</td>\n",
       "      <td>0.4</td>\n",
       "      <td>318.142361</td>\n",
       "      <td>61.083333</td>\n",
       "      <td>0.192</td>\n",
       "    </tr>\n",
       "    <tr>\n",
       "      <th>21</th>\n",
       "      <td>GO_MCM_cauchy1_N:5_T1:1_T2:0.4</td>\n",
       "      <td>5</td>\n",
       "      <td>1.0</td>\n",
       "      <td>0.4</td>\n",
       "      <td>320.039324</td>\n",
       "      <td>62.087629</td>\n",
       "      <td>0.194</td>\n",
       "    </tr>\n",
       "    <tr>\n",
       "      <th>92</th>\n",
       "      <td>GO_rnd_cauchy1_N:5_T1:1_T2:0.1</td>\n",
       "      <td>5</td>\n",
       "      <td>1.0</td>\n",
       "      <td>0.1</td>\n",
       "      <td>320.215651</td>\n",
       "      <td>56.357955</td>\n",
       "      <td>0.176</td>\n",
       "    </tr>\n",
       "    <tr>\n",
       "      <th>146</th>\n",
       "      <td>GO_uni3_cauchy1_N:10_T1:1_T2:0.1</td>\n",
       "      <td>10</td>\n",
       "      <td>1.0</td>\n",
       "      <td>0.1</td>\n",
       "      <td>320.483857</td>\n",
       "      <td>59.930481</td>\n",
       "      <td>0.187</td>\n",
       "    </tr>\n",
       "    <tr>\n",
       "      <th>49</th>\n",
       "      <td>GO_mix_cauchy1_N:10_T1:0.5_T2:0.4</td>\n",
       "      <td>10</td>\n",
       "      <td>0.5</td>\n",
       "      <td>0.4</td>\n",
       "      <td>320.495600</td>\n",
       "      <td>61.214660</td>\n",
       "      <td>0.191</td>\n",
       "    </tr>\n",
       "    <tr>\n",
       "      <th>151</th>\n",
       "      <td>GO_uni3_cauchy1_N:15_T1:0.5_T2:0.4</td>\n",
       "      <td>15</td>\n",
       "      <td>0.5</td>\n",
       "      <td>0.4</td>\n",
       "      <td>322.195115</td>\n",
       "      <td>61.539267</td>\n",
       "      <td>0.191</td>\n",
       "    </tr>\n",
       "    <tr>\n",
       "      <th>99</th>\n",
       "      <td>GO_uni1_cauchy1_N:10_T1:1_T2:0.4</td>\n",
       "      <td>10</td>\n",
       "      <td>1.0</td>\n",
       "      <td>0.4</td>\n",
       "      <td>322.249938</td>\n",
       "      <td>61.549738</td>\n",
       "      <td>0.191</td>\n",
       "    </tr>\n",
       "    <tr>\n",
       "      <th>87</th>\n",
       "      <td>GO_rnd_cauchy1_N:3_T1:1_T2:0.4</td>\n",
       "      <td>3</td>\n",
       "      <td>1.0</td>\n",
       "      <td>0.4</td>\n",
       "      <td>323.637655</td>\n",
       "      <td>56.960227</td>\n",
       "      <td>0.176</td>\n",
       "    </tr>\n",
       "    <tr>\n",
       "      <th>129</th>\n",
       "      <td>GO_uni2_cauchy1_N:15_T1:1_T2:0.4</td>\n",
       "      <td>15</td>\n",
       "      <td>1.0</td>\n",
       "      <td>0.4</td>\n",
       "      <td>324.716976</td>\n",
       "      <td>62.020942</td>\n",
       "      <td>0.191</td>\n",
       "    </tr>\n",
       "    <tr>\n",
       "      <th>51</th>\n",
       "      <td>GO_mix_cauchy1_N:10_T1:1_T2:0.4</td>\n",
       "      <td>10</td>\n",
       "      <td>1.0</td>\n",
       "      <td>0.4</td>\n",
       "      <td>325.826166</td>\n",
       "      <td>61.255319</td>\n",
       "      <td>0.188</td>\n",
       "    </tr>\n",
       "    <tr>\n",
       "      <th>73</th>\n",
       "      <td>GO_rnd_cauchy1_N:10_T1:0.5_T2:0.4</td>\n",
       "      <td>10</td>\n",
       "      <td>0.5</td>\n",
       "      <td>0.4</td>\n",
       "      <td>327.659829</td>\n",
       "      <td>59.961749</td>\n",
       "      <td>0.183</td>\n",
       "    </tr>\n",
       "    <tr>\n",
       "      <th>9</th>\n",
       "      <td>GO_MCM_cauchy1_N:15_T1:1_T2:0.4</td>\n",
       "      <td>15</td>\n",
       "      <td>1.0</td>\n",
       "      <td>0.4</td>\n",
       "      <td>331.173608</td>\n",
       "      <td>62.260638</td>\n",
       "      <td>0.188</td>\n",
       "    </tr>\n",
       "    <tr>\n",
       "      <th>93</th>\n",
       "      <td>GO_rnd_cauchy1_N:5_T1:1_T2:0.4</td>\n",
       "      <td>5</td>\n",
       "      <td>1.0</td>\n",
       "      <td>0.4</td>\n",
       "      <td>331.314981</td>\n",
       "      <td>60.961957</td>\n",
       "      <td>0.184</td>\n",
       "    </tr>\n",
       "    <tr>\n",
       "      <th>102</th>\n",
       "      <td>GO_uni1_cauchy1_N:15_T1:0.5_T2:0.1</td>\n",
       "      <td>15</td>\n",
       "      <td>0.5</td>\n",
       "      <td>0.1</td>\n",
       "      <td>331.417625</td>\n",
       "      <td>57.666667</td>\n",
       "      <td>0.174</td>\n",
       "    </tr>\n",
       "    <tr>\n",
       "      <th>48</th>\n",
       "      <td>GO_mix_cauchy1_N:10_T1:0.5_T2:0.1</td>\n",
       "      <td>10</td>\n",
       "      <td>0.5</td>\n",
       "      <td>0.1</td>\n",
       "      <td>333.572376</td>\n",
       "      <td>55.706587</td>\n",
       "      <td>0.167</td>\n",
       "    </tr>\n",
       "    <tr>\n",
       "      <th>97</th>\n",
       "      <td>GO_uni1_cauchy1_N:10_T1:0.5_T2:0.4</td>\n",
       "      <td>10</td>\n",
       "      <td>0.5</td>\n",
       "      <td>0.4</td>\n",
       "      <td>334.995581</td>\n",
       "      <td>59.629213</td>\n",
       "      <td>0.178</td>\n",
       "    </tr>\n",
       "    <tr>\n",
       "      <th>70</th>\n",
       "      <td>GO_mix_cauchy1_N:5_T1:5_T2:0.1</td>\n",
       "      <td>5</td>\n",
       "      <td>5.0</td>\n",
       "      <td>0.1</td>\n",
       "      <td>335.944571</td>\n",
       "      <td>60.134078</td>\n",
       "      <td>0.179</td>\n",
       "    </tr>\n",
       "    <tr>\n",
       "      <th>164</th>\n",
       "      <td>GO_uni3_cauchy1_N:5_T1:1_T2:0.1</td>\n",
       "      <td>5</td>\n",
       "      <td>1.0</td>\n",
       "      <td>0.1</td>\n",
       "      <td>336.926985</td>\n",
       "      <td>61.994565</td>\n",
       "      <td>0.184</td>\n",
       "    </tr>\n",
       "    <tr>\n",
       "      <th>2</th>\n",
       "      <td>GO_MCM_cauchy1_N:10_T1:1_T2:0.1</td>\n",
       "      <td>10</td>\n",
       "      <td>1.0</td>\n",
       "      <td>0.1</td>\n",
       "      <td>338.285681</td>\n",
       "      <td>62.244565</td>\n",
       "      <td>0.184</td>\n",
       "    </tr>\n",
       "    <tr>\n",
       "      <th>127</th>\n",
       "      <td>GO_uni2_cauchy1_N:15_T1:0.5_T2:0.4</td>\n",
       "      <td>15</td>\n",
       "      <td>0.5</td>\n",
       "      <td>0.4</td>\n",
       "      <td>340.132146</td>\n",
       "      <td>60.203390</td>\n",
       "      <td>0.177</td>\n",
       "    </tr>\n",
       "    <tr>\n",
       "      <th>50</th>\n",
       "      <td>GO_mix_cauchy1_N:10_T1:1_T2:0.1</td>\n",
       "      <td>10</td>\n",
       "      <td>1.0</td>\n",
       "      <td>0.1</td>\n",
       "      <td>340.938173</td>\n",
       "      <td>61.027933</td>\n",
       "      <td>0.179</td>\n",
       "    </tr>\n",
       "    <tr>\n",
       "      <th>103</th>\n",
       "      <td>GO_uni1_cauchy1_N:15_T1:0.5_T2:0.4</td>\n",
       "      <td>15</td>\n",
       "      <td>0.5</td>\n",
       "      <td>0.4</td>\n",
       "      <td>342.212006</td>\n",
       "      <td>58.860465</td>\n",
       "      <td>0.172</td>\n",
       "    </tr>\n",
       "    <tr>\n",
       "      <th>38</th>\n",
       "      <td>GO_MMCM_cauchy3_N:3_T1:1_T2:0.1</td>\n",
       "      <td>3</td>\n",
       "      <td>1.0</td>\n",
       "      <td>0.1</td>\n",
       "      <td>342.430101</td>\n",
       "      <td>56.158537</td>\n",
       "      <td>0.164</td>\n",
       "    </tr>\n",
       "    <tr>\n",
       "      <th>79</th>\n",
       "      <td>GO_rnd_cauchy1_N:15_T1:0.5_T2:0.4</td>\n",
       "      <td>15</td>\n",
       "      <td>0.5</td>\n",
       "      <td>0.4</td>\n",
       "      <td>344.590330</td>\n",
       "      <td>61.337079</td>\n",
       "      <td>0.178</td>\n",
       "    </tr>\n",
       "    <tr>\n",
       "      <th>6</th>\n",
       "      <td>GO_MCM_cauchy1_N:15_T1:0.5_T2:0.1</td>\n",
       "      <td>15</td>\n",
       "      <td>0.5</td>\n",
       "      <td>0.1</td>\n",
       "      <td>346.089796</td>\n",
       "      <td>60.565714</td>\n",
       "      <td>0.175</td>\n",
       "    </tr>\n",
       "    <tr>\n",
       "      <th>36</th>\n",
       "      <td>GO_MMCM_cauchy3_N:3_T1:0.5_T2:0.1</td>\n",
       "      <td>3</td>\n",
       "      <td>0.5</td>\n",
       "      <td>0.1</td>\n",
       "      <td>346.875586</td>\n",
       "      <td>50.643836</td>\n",
       "      <td>0.146</td>\n",
       "    </tr>\n",
       "    <tr>\n",
       "      <th>8</th>\n",
       "      <td>GO_MCM_cauchy1_N:15_T1:1_T2:0.1</td>\n",
       "      <td>15</td>\n",
       "      <td>1.0</td>\n",
       "      <td>0.1</td>\n",
       "      <td>347.162630</td>\n",
       "      <td>59.017647</td>\n",
       "      <td>0.170</td>\n",
       "    </tr>\n",
       "    <tr>\n",
       "      <th>78</th>\n",
       "      <td>GO_rnd_cauchy1_N:15_T1:0.5_T2:0.1</td>\n",
       "      <td>15</td>\n",
       "      <td>0.5</td>\n",
       "      <td>0.1</td>\n",
       "      <td>348.490996</td>\n",
       "      <td>62.379888</td>\n",
       "      <td>0.179</td>\n",
       "    </tr>\n",
       "    <tr>\n",
       "      <th>37</th>\n",
       "      <td>GO_MMCM_cauchy3_N:3_T1:0.5_T2:0.4</td>\n",
       "      <td>3</td>\n",
       "      <td>0.5</td>\n",
       "      <td>0.4</td>\n",
       "      <td>349.181939</td>\n",
       "      <td>53.424837</td>\n",
       "      <td>0.153</td>\n",
       "    </tr>\n",
       "    <tr>\n",
       "      <th>147</th>\n",
       "      <td>GO_uni3_cauchy1_N:10_T1:1_T2:0.4</td>\n",
       "      <td>10</td>\n",
       "      <td>1.0</td>\n",
       "      <td>0.4</td>\n",
       "      <td>349.423775</td>\n",
       "      <td>65.342246</td>\n",
       "      <td>0.187</td>\n",
       "    </tr>\n",
       "    <tr>\n",
       "      <th>74</th>\n",
       "      <td>GO_rnd_cauchy1_N:10_T1:1_T2:0.1</td>\n",
       "      <td>10</td>\n",
       "      <td>1.0</td>\n",
       "      <td>0.1</td>\n",
       "      <td>349.583829</td>\n",
       "      <td>60.827586</td>\n",
       "      <td>0.174</td>\n",
       "    </tr>\n",
       "    <tr>\n",
       "      <th>7</th>\n",
       "      <td>GO_MCM_cauchy1_N:15_T1:0.5_T2:0.4</td>\n",
       "      <td>15</td>\n",
       "      <td>0.5</td>\n",
       "      <td>0.4</td>\n",
       "      <td>355.575227</td>\n",
       "      <td>64.359116</td>\n",
       "      <td>0.181</td>\n",
       "    </tr>\n",
       "    <tr>\n",
       "      <th>152</th>\n",
       "      <td>GO_uni3_cauchy1_N:15_T1:1_T2:0.1</td>\n",
       "      <td>15</td>\n",
       "      <td>1.0</td>\n",
       "      <td>0.1</td>\n",
       "      <td>356.601562</td>\n",
       "      <td>57.056250</td>\n",
       "      <td>0.160</td>\n",
       "    </tr>\n",
       "    <tr>\n",
       "      <th>75</th>\n",
       "      <td>GO_rnd_cauchy1_N:10_T1:1_T2:0.4</td>\n",
       "      <td>10</td>\n",
       "      <td>1.0</td>\n",
       "      <td>0.4</td>\n",
       "      <td>357.913729</td>\n",
       "      <td>61.919075</td>\n",
       "      <td>0.173</td>\n",
       "    </tr>\n",
       "    <tr>\n",
       "      <th>55</th>\n",
       "      <td>GO_mix_cauchy1_N:15_T1:0.5_T2:0.4</td>\n",
       "      <td>15</td>\n",
       "      <td>0.5</td>\n",
       "      <td>0.4</td>\n",
       "      <td>358.139003</td>\n",
       "      <td>58.018519</td>\n",
       "      <td>0.162</td>\n",
       "    </tr>\n",
       "    <tr>\n",
       "      <th>161</th>\n",
       "      <td>GO_uni3_cauchy1_N:3_T1:5_T2:0.4</td>\n",
       "      <td>3</td>\n",
       "      <td>5.0</td>\n",
       "      <td>0.4</td>\n",
       "      <td>359.272754</td>\n",
       "      <td>58.920732</td>\n",
       "      <td>0.164</td>\n",
       "    </tr>\n",
       "    <tr>\n",
       "      <th>136</th>\n",
       "      <td>GO_uni2_cauchy1_N:3_T1:5_T2:0.1</td>\n",
       "      <td>3</td>\n",
       "      <td>5.0</td>\n",
       "      <td>0.1</td>\n",
       "      <td>361.359420</td>\n",
       "      <td>55.649351</td>\n",
       "      <td>0.154</td>\n",
       "    </tr>\n",
       "    <tr>\n",
       "      <th>126</th>\n",
       "      <td>GO_uni2_cauchy1_N:15_T1:0.5_T2:0.1</td>\n",
       "      <td>15</td>\n",
       "      <td>0.5</td>\n",
       "      <td>0.1</td>\n",
       "      <td>363.114187</td>\n",
       "      <td>61.729412</td>\n",
       "      <td>0.170</td>\n",
       "    </tr>\n",
       "    <tr>\n",
       "      <th>72</th>\n",
       "      <td>GO_rnd_cauchy1_N:10_T1:0.5_T2:0.1</td>\n",
       "      <td>10</td>\n",
       "      <td>0.5</td>\n",
       "      <td>0.1</td>\n",
       "      <td>363.242188</td>\n",
       "      <td>58.118750</td>\n",
       "      <td>0.160</td>\n",
       "    </tr>\n",
       "    <tr>\n",
       "      <th>105</th>\n",
       "      <td>GO_uni1_cauchy1_N:15_T1:1_T2:0.4</td>\n",
       "      <td>15</td>\n",
       "      <td>1.0</td>\n",
       "      <td>0.4</td>\n",
       "      <td>363.747768</td>\n",
       "      <td>61.473373</td>\n",
       "      <td>0.169</td>\n",
       "    </tr>\n",
       "    <tr>\n",
       "      <th>23</th>\n",
       "      <td>GO_MCM_cauchy1_N:5_T1:5_T2:0.4</td>\n",
       "      <td>5</td>\n",
       "      <td>5.0</td>\n",
       "      <td>0.4</td>\n",
       "      <td>363.845083</td>\n",
       "      <td>59.306748</td>\n",
       "      <td>0.163</td>\n",
       "    </tr>\n",
       "    <tr>\n",
       "      <th>137</th>\n",
       "      <td>GO_uni2_cauchy1_N:3_T1:5_T2:0.4</td>\n",
       "      <td>3</td>\n",
       "      <td>5.0</td>\n",
       "      <td>0.4</td>\n",
       "      <td>367.604091</td>\n",
       "      <td>54.405405</td>\n",
       "      <td>0.148</td>\n",
       "    </tr>\n",
       "    <tr>\n",
       "      <th>112</th>\n",
       "      <td>GO_uni1_cauchy1_N:3_T1:5_T2:0.1</td>\n",
       "      <td>3</td>\n",
       "      <td>5.0</td>\n",
       "      <td>0.1</td>\n",
       "      <td>369.240375</td>\n",
       "      <td>57.232258</td>\n",
       "      <td>0.155</td>\n",
       "    </tr>\n",
       "    <tr>\n",
       "      <th>119</th>\n",
       "      <td>GO_uni1_cauchy1_N:5_T1:5_T2:0.4</td>\n",
       "      <td>5</td>\n",
       "      <td>5.0</td>\n",
       "      <td>0.4</td>\n",
       "      <td>369.386182</td>\n",
       "      <td>57.993631</td>\n",
       "      <td>0.157</td>\n",
       "    </tr>\n",
       "    <tr>\n",
       "      <th>25</th>\n",
       "      <td>GO_MMCM_cauchy3_N:10_T1:0.5_T2:0.4</td>\n",
       "      <td>10</td>\n",
       "      <td>0.5</td>\n",
       "      <td>0.4</td>\n",
       "      <td>372.318668</td>\n",
       "      <td>53.986207</td>\n",
       "      <td>0.145</td>\n",
       "    </tr>\n",
       "    <tr>\n",
       "      <th>153</th>\n",
       "      <td>GO_uni3_cauchy1_N:15_T1:1_T2:0.4</td>\n",
       "      <td>15</td>\n",
       "      <td>1.0</td>\n",
       "      <td>0.4</td>\n",
       "      <td>372.404891</td>\n",
       "      <td>62.191617</td>\n",
       "      <td>0.167</td>\n",
       "    </tr>\n",
       "    <tr>\n",
       "      <th>128</th>\n",
       "      <td>GO_uni2_cauchy1_N:15_T1:1_T2:0.1</td>\n",
       "      <td>15</td>\n",
       "      <td>1.0</td>\n",
       "      <td>0.1</td>\n",
       "      <td>373.405096</td>\n",
       "      <td>60.865031</td>\n",
       "      <td>0.163</td>\n",
       "    </tr>\n",
       "    <tr>\n",
       "      <th>16</th>\n",
       "      <td>GO_MCM_cauchy1_N:3_T1:5_T2:0.1</td>\n",
       "      <td>3</td>\n",
       "      <td>5.0</td>\n",
       "      <td>0.1</td>\n",
       "      <td>376.264630</td>\n",
       "      <td>53.429577</td>\n",
       "      <td>0.142</td>\n",
       "    </tr>\n",
       "    <tr>\n",
       "      <th>81</th>\n",
       "      <td>GO_rnd_cauchy1_N:15_T1:1_T2:0.4</td>\n",
       "      <td>15</td>\n",
       "      <td>1.0</td>\n",
       "      <td>0.4</td>\n",
       "      <td>377.617188</td>\n",
       "      <td>60.418750</td>\n",
       "      <td>0.160</td>\n",
       "    </tr>\n",
       "    <tr>\n",
       "      <th>80</th>\n",
       "      <td>GO_rnd_cauchy1_N:15_T1:1_T2:0.1</td>\n",
       "      <td>15</td>\n",
       "      <td>1.0</td>\n",
       "      <td>0.1</td>\n",
       "      <td>379.843750</td>\n",
       "      <td>60.775000</td>\n",
       "      <td>0.160</td>\n",
       "    </tr>\n",
       "    <tr>\n",
       "      <th>39</th>\n",
       "      <td>GO_MMCM_cauchy3_N:3_T1:1_T2:0.4</td>\n",
       "      <td>3</td>\n",
       "      <td>1.0</td>\n",
       "      <td>0.4</td>\n",
       "      <td>381.533380</td>\n",
       "      <td>52.270073</td>\n",
       "      <td>0.137</td>\n",
       "    </tr>\n",
       "    <tr>\n",
       "      <th>150</th>\n",
       "      <td>GO_uni3_cauchy1_N:15_T1:0.5_T2:0.1</td>\n",
       "      <td>15</td>\n",
       "      <td>0.5</td>\n",
       "      <td>0.1</td>\n",
       "      <td>383.303850</td>\n",
       "      <td>62.478528</td>\n",
       "      <td>0.163</td>\n",
       "    </tr>\n",
       "    <tr>\n",
       "      <th>47</th>\n",
       "      <td>GO_MMCM_cauchy3_N:5_T1:5_T2:0.4</td>\n",
       "      <td>5</td>\n",
       "      <td>5.0</td>\n",
       "      <td>0.4</td>\n",
       "      <td>384.712400</td>\n",
       "      <td>57.322148</td>\n",
       "      <td>0.149</td>\n",
       "    </tr>\n",
       "    <tr>\n",
       "      <th>57</th>\n",
       "      <td>GO_mix_cauchy1_N:15_T1:1_T2:0.4</td>\n",
       "      <td>15</td>\n",
       "      <td>1.0</td>\n",
       "      <td>0.4</td>\n",
       "      <td>385.040390</td>\n",
       "      <td>62.376543</td>\n",
       "      <td>0.162</td>\n",
       "    </tr>\n",
       "    <tr>\n",
       "      <th>22</th>\n",
       "      <td>GO_MCM_cauchy1_N:5_T1:5_T2:0.1</td>\n",
       "      <td>5</td>\n",
       "      <td>5.0</td>\n",
       "      <td>0.1</td>\n",
       "      <td>386.793172</td>\n",
       "      <td>62.660494</td>\n",
       "      <td>0.162</td>\n",
       "    </tr>\n",
       "    <tr>\n",
       "      <th>56</th>\n",
       "      <td>GO_mix_cauchy1_N:15_T1:1_T2:0.1</td>\n",
       "      <td>15</td>\n",
       "      <td>1.0</td>\n",
       "      <td>0.1</td>\n",
       "      <td>387.511478</td>\n",
       "      <td>63.939394</td>\n",
       "      <td>0.165</td>\n",
       "    </tr>\n",
       "    <tr>\n",
       "      <th>44</th>\n",
       "      <td>GO_MMCM_cauchy3_N:5_T1:1_T2:0.1</td>\n",
       "      <td>5</td>\n",
       "      <td>1.0</td>\n",
       "      <td>0.1</td>\n",
       "      <td>388.217872</td>\n",
       "      <td>57.068027</td>\n",
       "      <td>0.147</td>\n",
       "    </tr>\n",
       "    <tr>\n",
       "      <th>88</th>\n",
       "      <td>GO_rnd_cauchy1_N:3_T1:5_T2:0.1</td>\n",
       "      <td>3</td>\n",
       "      <td>5.0</td>\n",
       "      <td>0.1</td>\n",
       "      <td>390.032046</td>\n",
       "      <td>60.064935</td>\n",
       "      <td>0.154</td>\n",
       "    </tr>\n",
       "    <tr>\n",
       "      <th>24</th>\n",
       "      <td>GO_MMCM_cauchy3_N:10_T1:0.5_T2:0.1</td>\n",
       "      <td>10</td>\n",
       "      <td>0.5</td>\n",
       "      <td>0.1</td>\n",
       "      <td>391.153552</td>\n",
       "      <td>58.281879</td>\n",
       "      <td>0.149</td>\n",
       "    </tr>\n",
       "    <tr>\n",
       "      <th>45</th>\n",
       "      <td>GO_MMCM_cauchy3_N:5_T1:1_T2:0.4</td>\n",
       "      <td>5</td>\n",
       "      <td>1.0</td>\n",
       "      <td>0.4</td>\n",
       "      <td>392.234584</td>\n",
       "      <td>58.442953</td>\n",
       "      <td>0.149</td>\n",
       "    </tr>\n",
       "    <tr>\n",
       "      <th>143</th>\n",
       "      <td>GO_uni2_cauchy1_N:5_T1:5_T2:0.4</td>\n",
       "      <td>5</td>\n",
       "      <td>5.0</td>\n",
       "      <td>0.4</td>\n",
       "      <td>392.485179</td>\n",
       "      <td>62.012658</td>\n",
       "      <td>0.158</td>\n",
       "    </tr>\n",
       "    <tr>\n",
       "      <th>113</th>\n",
       "      <td>GO_uni1_cauchy1_N:3_T1:5_T2:0.4</td>\n",
       "      <td>3</td>\n",
       "      <td>5.0</td>\n",
       "      <td>0.4</td>\n",
       "      <td>393.566577</td>\n",
       "      <td>60.215686</td>\n",
       "      <td>0.153</td>\n",
       "    </tr>\n",
       "    <tr>\n",
       "      <th>64</th>\n",
       "      <td>GO_mix_cauchy1_N:3_T1:5_T2:0.1</td>\n",
       "      <td>3</td>\n",
       "      <td>5.0</td>\n",
       "      <td>0.1</td>\n",
       "      <td>393.798518</td>\n",
       "      <td>59.463576</td>\n",
       "      <td>0.151</td>\n",
       "    </tr>\n",
       "    <tr>\n",
       "      <th>54</th>\n",
       "      <td>GO_mix_cauchy1_N:15_T1:0.5_T2:0.1</td>\n",
       "      <td>15</td>\n",
       "      <td>0.5</td>\n",
       "      <td>0.1</td>\n",
       "      <td>394.107495</td>\n",
       "      <td>61.480769</td>\n",
       "      <td>0.156</td>\n",
       "    </tr>\n",
       "    <tr>\n",
       "      <th>166</th>\n",
       "      <td>GO_uni3_cauchy1_N:5_T1:5_T2:0.1</td>\n",
       "      <td>5</td>\n",
       "      <td>5.0</td>\n",
       "      <td>0.1</td>\n",
       "      <td>394.950694</td>\n",
       "      <td>58.452703</td>\n",
       "      <td>0.148</td>\n",
       "    </tr>\n",
       "    <tr>\n",
       "      <th>5</th>\n",
       "      <td>GO_MCM_cauchy1_N:10_T1:5_T2:0.4</td>\n",
       "      <td>10</td>\n",
       "      <td>5.0</td>\n",
       "      <td>0.4</td>\n",
       "      <td>395.761978</td>\n",
       "      <td>64.509202</td>\n",
       "      <td>0.163</td>\n",
       "    </tr>\n",
       "    <tr>\n",
       "      <th>104</th>\n",
       "      <td>GO_uni1_cauchy1_N:15_T1:1_T2:0.1</td>\n",
       "      <td>15</td>\n",
       "      <td>1.0</td>\n",
       "      <td>0.1</td>\n",
       "      <td>396.242429</td>\n",
       "      <td>63.795031</td>\n",
       "      <td>0.161</td>\n",
       "    </tr>\n",
       "    <tr>\n",
       "      <th>43</th>\n",
       "      <td>GO_MMCM_cauchy3_N:5_T1:0.5_T2:0.4</td>\n",
       "      <td>5</td>\n",
       "      <td>0.5</td>\n",
       "      <td>0.4</td>\n",
       "      <td>398.742607</td>\n",
       "      <td>54.627737</td>\n",
       "      <td>0.137</td>\n",
       "    </tr>\n",
       "    <tr>\n",
       "      <th>65</th>\n",
       "      <td>GO_mix_cauchy1_N:3_T1:5_T2:0.4</td>\n",
       "      <td>3</td>\n",
       "      <td>5.0</td>\n",
       "      <td>0.4</td>\n",
       "      <td>401.324983</td>\n",
       "      <td>55.784173</td>\n",
       "      <td>0.139</td>\n",
       "    </tr>\n",
       "    <tr>\n",
       "      <th>71</th>\n",
       "      <td>GO_mix_cauchy1_N:5_T1:5_T2:0.4</td>\n",
       "      <td>5</td>\n",
       "      <td>5.0</td>\n",
       "      <td>0.4</td>\n",
       "      <td>402.008422</td>\n",
       "      <td>59.095238</td>\n",
       "      <td>0.147</td>\n",
       "    </tr>\n",
       "    <tr>\n",
       "      <th>167</th>\n",
       "      <td>GO_uni3_cauchy1_N:5_T1:5_T2:0.4</td>\n",
       "      <td>5</td>\n",
       "      <td>5.0</td>\n",
       "      <td>0.4</td>\n",
       "      <td>403.820206</td>\n",
       "      <td>62.188312</td>\n",
       "      <td>0.154</td>\n",
       "    </tr>\n",
       "    <tr>\n",
       "      <th>100</th>\n",
       "      <td>GO_uni1_cauchy1_N:10_T1:5_T2:0.1</td>\n",
       "      <td>10</td>\n",
       "      <td>5.0</td>\n",
       "      <td>0.1</td>\n",
       "      <td>405.254501</td>\n",
       "      <td>61.598684</td>\n",
       "      <td>0.152</td>\n",
       "    </tr>\n",
       "    <tr>\n",
       "      <th>17</th>\n",
       "      <td>GO_MCM_cauchy1_N:3_T1:5_T2:0.4</td>\n",
       "      <td>3</td>\n",
       "      <td>5.0</td>\n",
       "      <td>0.4</td>\n",
       "      <td>405.797101</td>\n",
       "      <td>56.000000</td>\n",
       "      <td>0.138</td>\n",
       "    </tr>\n",
       "    <tr>\n",
       "      <th>10</th>\n",
       "      <td>GO_MCM_cauchy1_N:15_T1:5_T2:0.1</td>\n",
       "      <td>15</td>\n",
       "      <td>5.0</td>\n",
       "      <td>0.1</td>\n",
       "      <td>407.043551</td>\n",
       "      <td>61.463576</td>\n",
       "      <td>0.151</td>\n",
       "    </tr>\n",
       "    <tr>\n",
       "      <th>160</th>\n",
       "      <td>GO_uni3_cauchy1_N:3_T1:5_T2:0.1</td>\n",
       "      <td>3</td>\n",
       "      <td>5.0</td>\n",
       "      <td>0.1</td>\n",
       "      <td>411.156695</td>\n",
       "      <td>56.328467</td>\n",
       "      <td>0.137</td>\n",
       "    </tr>\n",
       "    <tr>\n",
       "      <th>95</th>\n",
       "      <td>GO_rnd_cauchy1_N:5_T1:5_T2:0.4</td>\n",
       "      <td>5</td>\n",
       "      <td>5.0</td>\n",
       "      <td>0.4</td>\n",
       "      <td>412.636315</td>\n",
       "      <td>59.006993</td>\n",
       "      <td>0.143</td>\n",
       "    </tr>\n",
       "    <tr>\n",
       "      <th>101</th>\n",
       "      <td>GO_uni1_cauchy1_N:10_T1:5_T2:0.4</td>\n",
       "      <td>10</td>\n",
       "      <td>5.0</td>\n",
       "      <td>0.4</td>\n",
       "      <td>413.009533</td>\n",
       "      <td>64.429487</td>\n",
       "      <td>0.156</td>\n",
       "    </tr>\n",
       "    <tr>\n",
       "      <th>46</th>\n",
       "      <td>GO_MMCM_cauchy3_N:5_T1:5_T2:0.1</td>\n",
       "      <td>5</td>\n",
       "      <td>5.0</td>\n",
       "      <td>0.1</td>\n",
       "      <td>413.269043</td>\n",
       "      <td>52.898438</td>\n",
       "      <td>0.128</td>\n",
       "    </tr>\n",
       "    <tr>\n",
       "      <th>4</th>\n",
       "      <td>GO_MCM_cauchy1_N:10_T1:5_T2:0.1</td>\n",
       "      <td>10</td>\n",
       "      <td>5.0</td>\n",
       "      <td>0.1</td>\n",
       "      <td>414.400000</td>\n",
       "      <td>62.160000</td>\n",
       "      <td>0.150</td>\n",
       "    </tr>\n",
       "    <tr>\n",
       "      <th>148</th>\n",
       "      <td>GO_uni3_cauchy1_N:10_T1:5_T2:0.1</td>\n",
       "      <td>10</td>\n",
       "      <td>5.0</td>\n",
       "      <td>0.1</td>\n",
       "      <td>421.536505</td>\n",
       "      <td>60.279720</td>\n",
       "      <td>0.143</td>\n",
       "    </tr>\n",
       "    <tr>\n",
       "      <th>76</th>\n",
       "      <td>GO_rnd_cauchy1_N:10_T1:5_T2:0.1</td>\n",
       "      <td>10</td>\n",
       "      <td>5.0</td>\n",
       "      <td>0.1</td>\n",
       "      <td>424.518945</td>\n",
       "      <td>60.281690</td>\n",
       "      <td>0.142</td>\n",
       "    </tr>\n",
       "    <tr>\n",
       "      <th>142</th>\n",
       "      <td>GO_uni2_cauchy1_N:5_T1:5_T2:0.1</td>\n",
       "      <td>5</td>\n",
       "      <td>5.0</td>\n",
       "      <td>0.1</td>\n",
       "      <td>424.577778</td>\n",
       "      <td>63.686667</td>\n",
       "      <td>0.150</td>\n",
       "    </tr>\n",
       "    <tr>\n",
       "      <th>41</th>\n",
       "      <td>GO_MMCM_cauchy3_N:3_T1:5_T2:0.4</td>\n",
       "      <td>3</td>\n",
       "      <td>5.0</td>\n",
       "      <td>0.4</td>\n",
       "      <td>426.431067</td>\n",
       "      <td>52.024590</td>\n",
       "      <td>0.122</td>\n",
       "    </tr>\n",
       "    <tr>\n",
       "      <th>118</th>\n",
       "      <td>GO_uni1_cauchy1_N:5_T1:5_T2:0.1</td>\n",
       "      <td>5</td>\n",
       "      <td>5.0</td>\n",
       "      <td>0.1</td>\n",
       "      <td>426.771366</td>\n",
       "      <td>63.162162</td>\n",
       "      <td>0.148</td>\n",
       "    </tr>\n",
       "    <tr>\n",
       "      <th>94</th>\n",
       "      <td>GO_rnd_cauchy1_N:5_T1:5_T2:0.1</td>\n",
       "      <td>5</td>\n",
       "      <td>5.0</td>\n",
       "      <td>0.1</td>\n",
       "      <td>440.091252</td>\n",
       "      <td>62.492958</td>\n",
       "      <td>0.142</td>\n",
       "    </tr>\n",
       "    <tr>\n",
       "      <th>42</th>\n",
       "      <td>GO_MMCM_cauchy3_N:5_T1:0.5_T2:0.1</td>\n",
       "      <td>5</td>\n",
       "      <td>0.5</td>\n",
       "      <td>0.1</td>\n",
       "      <td>440.895472</td>\n",
       "      <td>58.639098</td>\n",
       "      <td>0.133</td>\n",
       "    </tr>\n",
       "    <tr>\n",
       "      <th>124</th>\n",
       "      <td>GO_uni2_cauchy1_N:10_T1:5_T2:0.1</td>\n",
       "      <td>10</td>\n",
       "      <td>5.0</td>\n",
       "      <td>0.1</td>\n",
       "      <td>443.401920</td>\n",
       "      <td>59.859259</td>\n",
       "      <td>0.135</td>\n",
       "    </tr>\n",
       "    <tr>\n",
       "      <th>40</th>\n",
       "      <td>GO_MMCM_cauchy3_N:3_T1:5_T2:0.1</td>\n",
       "      <td>3</td>\n",
       "      <td>5.0</td>\n",
       "      <td>0.1</td>\n",
       "      <td>443.873569</td>\n",
       "      <td>55.040323</td>\n",
       "      <td>0.124</td>\n",
       "    </tr>\n",
       "    <tr>\n",
       "      <th>77</th>\n",
       "      <td>GO_rnd_cauchy1_N:10_T1:5_T2:0.4</td>\n",
       "      <td>10</td>\n",
       "      <td>5.0</td>\n",
       "      <td>0.4</td>\n",
       "      <td>448.665352</td>\n",
       "      <td>61.467153</td>\n",
       "      <td>0.137</td>\n",
       "    </tr>\n",
       "    <tr>\n",
       "      <th>125</th>\n",
       "      <td>GO_uni2_cauchy1_N:10_T1:5_T2:0.4</td>\n",
       "      <td>10</td>\n",
       "      <td>5.0</td>\n",
       "      <td>0.4</td>\n",
       "      <td>451.178633</td>\n",
       "      <td>61.360294</td>\n",
       "      <td>0.136</td>\n",
       "    </tr>\n",
       "    <tr>\n",
       "      <th>82</th>\n",
       "      <td>GO_rnd_cauchy1_N:15_T1:5_T2:0.1</td>\n",
       "      <td>15</td>\n",
       "      <td>5.0</td>\n",
       "      <td>0.1</td>\n",
       "      <td>452.092839</td>\n",
       "      <td>64.197183</td>\n",
       "      <td>0.142</td>\n",
       "    </tr>\n",
       "    <tr>\n",
       "      <th>53</th>\n",
       "      <td>GO_mix_cauchy1_N:10_T1:5_T2:0.4</td>\n",
       "      <td>10</td>\n",
       "      <td>5.0</td>\n",
       "      <td>0.4</td>\n",
       "      <td>455.366520</td>\n",
       "      <td>62.840580</td>\n",
       "      <td>0.138</td>\n",
       "    </tr>\n",
       "    <tr>\n",
       "      <th>106</th>\n",
       "      <td>GO_uni1_cauchy1_N:15_T1:5_T2:0.1</td>\n",
       "      <td>15</td>\n",
       "      <td>5.0</td>\n",
       "      <td>0.1</td>\n",
       "      <td>455.980539</td>\n",
       "      <td>63.381295</td>\n",
       "      <td>0.139</td>\n",
       "    </tr>\n",
       "    <tr>\n",
       "      <th>154</th>\n",
       "      <td>GO_uni3_cauchy1_N:15_T1:5_T2:0.1</td>\n",
       "      <td>15</td>\n",
       "      <td>5.0</td>\n",
       "      <td>0.1</td>\n",
       "      <td>456.508876</td>\n",
       "      <td>59.346154</td>\n",
       "      <td>0.130</td>\n",
       "    </tr>\n",
       "    <tr>\n",
       "      <th>27</th>\n",
       "      <td>GO_MMCM_cauchy3_N:10_T1:1_T2:0.4</td>\n",
       "      <td>10</td>\n",
       "      <td>1.0</td>\n",
       "      <td>0.4</td>\n",
       "      <td>462.980382</td>\n",
       "      <td>56.483607</td>\n",
       "      <td>0.122</td>\n",
       "    </tr>\n",
       "    <tr>\n",
       "      <th>26</th>\n",
       "      <td>GO_MMCM_cauchy3_N:10_T1:1_T2:0.1</td>\n",
       "      <td>10</td>\n",
       "      <td>1.0</td>\n",
       "      <td>0.1</td>\n",
       "      <td>473.108587</td>\n",
       "      <td>61.031008</td>\n",
       "      <td>0.129</td>\n",
       "    </tr>\n",
       "    <tr>\n",
       "      <th>32</th>\n",
       "      <td>GO_MMCM_cauchy3_N:15_T1:1_T2:0.1</td>\n",
       "      <td>15</td>\n",
       "      <td>1.0</td>\n",
       "      <td>0.1</td>\n",
       "      <td>478.516957</td>\n",
       "      <td>60.771654</td>\n",
       "      <td>0.127</td>\n",
       "    </tr>\n",
       "    <tr>\n",
       "      <th>89</th>\n",
       "      <td>GO_rnd_cauchy1_N:3_T1:5_T2:0.4</td>\n",
       "      <td>3</td>\n",
       "      <td>5.0</td>\n",
       "      <td>0.4</td>\n",
       "      <td>478.617225</td>\n",
       "      <td>58.869919</td>\n",
       "      <td>0.123</td>\n",
       "    </tr>\n",
       "    <tr>\n",
       "      <th>30</th>\n",
       "      <td>GO_MMCM_cauchy3_N:15_T1:0.5_T2:0.1</td>\n",
       "      <td>15</td>\n",
       "      <td>0.5</td>\n",
       "      <td>0.1</td>\n",
       "      <td>480.824476</td>\n",
       "      <td>56.737288</td>\n",
       "      <td>0.118</td>\n",
       "    </tr>\n",
       "    <tr>\n",
       "      <th>107</th>\n",
       "      <td>GO_uni1_cauchy1_N:15_T1:5_T2:0.4</td>\n",
       "      <td>15</td>\n",
       "      <td>5.0</td>\n",
       "      <td>0.4</td>\n",
       "      <td>486.411227</td>\n",
       "      <td>65.179104</td>\n",
       "      <td>0.134</td>\n",
       "    </tr>\n",
       "    <tr>\n",
       "      <th>31</th>\n",
       "      <td>GO_MMCM_cauchy3_N:15_T1:0.5_T2:0.4</td>\n",
       "      <td>15</td>\n",
       "      <td>0.5</td>\n",
       "      <td>0.4</td>\n",
       "      <td>490.539850</td>\n",
       "      <td>57.393162</td>\n",
       "      <td>0.117</td>\n",
       "    </tr>\n",
       "    <tr>\n",
       "      <th>149</th>\n",
       "      <td>GO_uni3_cauchy1_N:10_T1:5_T2:0.4</td>\n",
       "      <td>10</td>\n",
       "      <td>5.0</td>\n",
       "      <td>0.4</td>\n",
       "      <td>493.768988</td>\n",
       "      <td>62.708661</td>\n",
       "      <td>0.127</td>\n",
       "    </tr>\n",
       "    <tr>\n",
       "      <th>131</th>\n",
       "      <td>GO_uni2_cauchy1_N:15_T1:5_T2:0.4</td>\n",
       "      <td>15</td>\n",
       "      <td>5.0</td>\n",
       "      <td>0.4</td>\n",
       "      <td>494.848000</td>\n",
       "      <td>61.856000</td>\n",
       "      <td>0.125</td>\n",
       "    </tr>\n",
       "    <tr>\n",
       "      <th>58</th>\n",
       "      <td>GO_mix_cauchy1_N:15_T1:5_T2:0.1</td>\n",
       "      <td>15</td>\n",
       "      <td>5.0</td>\n",
       "      <td>0.1</td>\n",
       "      <td>495.296000</td>\n",
       "      <td>61.912000</td>\n",
       "      <td>0.125</td>\n",
       "    </tr>\n",
       "    <tr>\n",
       "      <th>34</th>\n",
       "      <td>GO_MMCM_cauchy3_N:15_T1:5_T2:0.1</td>\n",
       "      <td>15</td>\n",
       "      <td>5.0</td>\n",
       "      <td>0.1</td>\n",
       "      <td>500.561835</td>\n",
       "      <td>61.569106</td>\n",
       "      <td>0.123</td>\n",
       "    </tr>\n",
       "    <tr>\n",
       "      <th>28</th>\n",
       "      <td>GO_MMCM_cauchy3_N:10_T1:5_T2:0.1</td>\n",
       "      <td>10</td>\n",
       "      <td>5.0</td>\n",
       "      <td>0.1</td>\n",
       "      <td>507.892219</td>\n",
       "      <td>56.883929</td>\n",
       "      <td>0.112</td>\n",
       "    </tr>\n",
       "    <tr>\n",
       "      <th>83</th>\n",
       "      <td>GO_rnd_cauchy1_N:15_T1:5_T2:0.4</td>\n",
       "      <td>15</td>\n",
       "      <td>5.0</td>\n",
       "      <td>0.4</td>\n",
       "      <td>510.535900</td>\n",
       "      <td>63.306452</td>\n",
       "      <td>0.124</td>\n",
       "    </tr>\n",
       "    <tr>\n",
       "      <th>52</th>\n",
       "      <td>GO_mix_cauchy1_N:10_T1:5_T2:0.1</td>\n",
       "      <td>10</td>\n",
       "      <td>5.0</td>\n",
       "      <td>0.1</td>\n",
       "      <td>510.608765</td>\n",
       "      <td>62.804878</td>\n",
       "      <td>0.123</td>\n",
       "    </tr>\n",
       "    <tr>\n",
       "      <th>29</th>\n",
       "      <td>GO_MMCM_cauchy3_N:10_T1:5_T2:0.4</td>\n",
       "      <td>10</td>\n",
       "      <td>5.0</td>\n",
       "      <td>0.4</td>\n",
       "      <td>524.551649</td>\n",
       "      <td>59.274336</td>\n",
       "      <td>0.113</td>\n",
       "    </tr>\n",
       "    <tr>\n",
       "      <th>11</th>\n",
       "      <td>GO_MCM_cauchy1_N:15_T1:5_T2:0.4</td>\n",
       "      <td>15</td>\n",
       "      <td>5.0</td>\n",
       "      <td>0.4</td>\n",
       "      <td>527.183731</td>\n",
       "      <td>69.061069</td>\n",
       "      <td>0.131</td>\n",
       "    </tr>\n",
       "    <tr>\n",
       "      <th>33</th>\n",
       "      <td>GO_MMCM_cauchy3_N:15_T1:1_T2:0.4</td>\n",
       "      <td>15</td>\n",
       "      <td>1.0</td>\n",
       "      <td>0.4</td>\n",
       "      <td>527.423469</td>\n",
       "      <td>59.071429</td>\n",
       "      <td>0.112</td>\n",
       "    </tr>\n",
       "    <tr>\n",
       "      <th>59</th>\n",
       "      <td>GO_mix_cauchy1_N:15_T1:5_T2:0.4</td>\n",
       "      <td>15</td>\n",
       "      <td>5.0</td>\n",
       "      <td>0.4</td>\n",
       "      <td>536.739332</td>\n",
       "      <td>58.504587</td>\n",
       "      <td>0.109</td>\n",
       "    </tr>\n",
       "    <tr>\n",
       "      <th>130</th>\n",
       "      <td>GO_uni2_cauchy1_N:15_T1:5_T2:0.1</td>\n",
       "      <td>15</td>\n",
       "      <td>5.0</td>\n",
       "      <td>0.1</td>\n",
       "      <td>541.910882</td>\n",
       "      <td>64.487395</td>\n",
       "      <td>0.119</td>\n",
       "    </tr>\n",
       "    <tr>\n",
       "      <th>155</th>\n",
       "      <td>GO_uni3_cauchy1_N:15_T1:5_T2:0.4</td>\n",
       "      <td>15</td>\n",
       "      <td>5.0</td>\n",
       "      <td>0.4</td>\n",
       "      <td>567.437642</td>\n",
       "      <td>59.580952</td>\n",
       "      <td>0.105</td>\n",
       "    </tr>\n",
       "    <tr>\n",
       "      <th>35</th>\n",
       "      <td>GO_MMCM_cauchy3_N:15_T1:5_T2:0.4</td>\n",
       "      <td>15</td>\n",
       "      <td>5.0</td>\n",
       "      <td>0.4</td>\n",
       "      <td>695.871733</td>\n",
       "      <td>61.932584</td>\n",
       "      <td>0.089</td>\n",
       "    </tr>\n",
       "  </tbody>\n",
       "</table>\n",
       "</div>"
      ],
      "text/plain": [
       "                                   heur   n  temp1  temp2         feo  \\\n",
       "13     GO_MCM_cauchy1_N:3_T1:0.5_T2:0.4   3    0.5    0.4  240.151229   \n",
       "12     GO_MCM_cauchy1_N:3_T1:0.5_T2:0.1   3    0.5    0.1  241.220195   \n",
       "108   GO_uni1_cauchy1_N:3_T1:0.5_T2:0.1   3    0.5    0.1  250.224140   \n",
       "19     GO_MCM_cauchy1_N:5_T1:0.5_T2:0.4   5    0.5    0.4  250.236281   \n",
       "3       GO_MCM_cauchy1_N:10_T1:1_T2:0.4  10    1.0    0.4  250.853340   \n",
       "18     GO_MCM_cauchy1_N:5_T1:0.5_T2:0.1   5    0.5    0.1  252.261047   \n",
       "66     GO_mix_cauchy1_N:5_T1:0.5_T2:0.1   5    0.5    0.1  258.328044   \n",
       "15       GO_MCM_cauchy1_N:3_T1:1_T2:0.4   3    1.0    0.4  260.480967   \n",
       "157   GO_uni3_cauchy1_N:3_T1:0.5_T2:0.4   3    0.5    0.4  262.310845   \n",
       "114   GO_uni1_cauchy1_N:5_T1:0.5_T2:0.1   5    0.5    0.1  263.890479   \n",
       "110     GO_uni1_cauchy1_N:3_T1:1_T2:0.1   3    1.0    0.1  265.327079   \n",
       "141     GO_uni2_cauchy1_N:5_T1:1_T2:0.4   5    1.0    0.4  265.644930   \n",
       "67     GO_mix_cauchy1_N:5_T1:0.5_T2:0.4   5    0.5    0.4  265.735997   \n",
       "138   GO_uni2_cauchy1_N:5_T1:0.5_T2:0.1   5    0.5    0.1  265.798232   \n",
       "85     GO_rnd_cauchy1_N:3_T1:0.5_T2:0.4   3    0.5    0.4  266.261103   \n",
       "115   GO_uni1_cauchy1_N:5_T1:0.5_T2:0.4   5    0.5    0.4  267.119399   \n",
       "60     GO_mix_cauchy1_N:3_T1:0.5_T2:0.1   3    0.5    0.1  268.080935   \n",
       "135     GO_uni2_cauchy1_N:3_T1:1_T2:0.4   3    1.0    0.4  270.125497   \n",
       "61     GO_mix_cauchy1_N:3_T1:0.5_T2:0.4   3    0.5    0.4  270.140336   \n",
       "158     GO_uni3_cauchy1_N:3_T1:1_T2:0.1   3    1.0    0.1  271.582414   \n",
       "90     GO_rnd_cauchy1_N:5_T1:0.5_T2:0.1   5    0.5    0.1  272.544127   \n",
       "14       GO_MCM_cauchy1_N:3_T1:1_T2:0.1   3    1.0    0.1  272.704379   \n",
       "86       GO_rnd_cauchy1_N:3_T1:1_T2:0.1   3    1.0    0.1  273.870262   \n",
       "116     GO_uni1_cauchy1_N:5_T1:1_T2:0.1   5    1.0    0.1  274.879238   \n",
       "63       GO_mix_cauchy1_N:3_T1:1_T2:0.4   3    1.0    0.4  275.573849   \n",
       "96   GO_uni1_cauchy1_N:10_T1:0.5_T2:0.1  10    0.5    0.1  279.816615   \n",
       "133   GO_uni2_cauchy1_N:3_T1:0.5_T2:0.4   3    0.5    0.4  279.843893   \n",
       "117     GO_uni1_cauchy1_N:5_T1:1_T2:0.4   5    1.0    0.4  282.411117   \n",
       "140     GO_uni2_cauchy1_N:5_T1:1_T2:0.1   5    1.0    0.1  284.937756   \n",
       "109   GO_uni1_cauchy1_N:3_T1:0.5_T2:0.4   3    0.5    0.4  285.191579   \n",
       "91     GO_rnd_cauchy1_N:5_T1:0.5_T2:0.4   5    0.5    0.4  285.377751   \n",
       "163   GO_uni3_cauchy1_N:5_T1:0.5_T2:0.4   5    0.5    0.4  286.577900   \n",
       "123    GO_uni2_cauchy1_N:10_T1:1_T2:0.4  10    1.0    0.4  290.093685   \n",
       "156   GO_uni3_cauchy1_N:3_T1:0.5_T2:0.1   3    0.5    0.1  293.123605   \n",
       "132   GO_uni2_cauchy1_N:3_T1:0.5_T2:0.1   3    0.5    0.1  294.705532   \n",
       "98     GO_uni1_cauchy1_N:10_T1:1_T2:0.1  10    1.0    0.1  295.472337   \n",
       "84     GO_rnd_cauchy1_N:3_T1:0.5_T2:0.1   3    0.5    0.1  296.828196   \n",
       "139   GO_uni2_cauchy1_N:5_T1:0.5_T2:0.4   5    0.5    0.4  296.933569   \n",
       "121  GO_uni2_cauchy1_N:10_T1:0.5_T2:0.4  10    0.5    0.4  296.989887   \n",
       "159     GO_uni3_cauchy1_N:3_T1:1_T2:0.4   3    1.0    0.4  297.334767   \n",
       "62       GO_mix_cauchy1_N:3_T1:1_T2:0.1   3    1.0    0.1  297.643999   \n",
       "69       GO_mix_cauchy1_N:5_T1:1_T2:0.4   5    1.0    0.4  298.936632   \n",
       "1     GO_MCM_cauchy1_N:10_T1:0.5_T2:0.4  10    0.5    0.4  299.024943   \n",
       "162   GO_uni3_cauchy1_N:5_T1:0.5_T2:0.1   5    0.5    0.1  299.208946   \n",
       "20       GO_MCM_cauchy1_N:5_T1:1_T2:0.1   5    1.0    0.1  300.031237   \n",
       "165     GO_uni3_cauchy1_N:5_T1:1_T2:0.4   5    1.0    0.4  300.916121   \n",
       "120  GO_uni2_cauchy1_N:10_T1:0.5_T2:0.1  10    0.5    0.1  301.482286   \n",
       "68       GO_mix_cauchy1_N:5_T1:1_T2:0.1   5    1.0    0.1  302.455138   \n",
       "0     GO_MCM_cauchy1_N:10_T1:0.5_T2:0.1  10    0.5    0.1  302.869987   \n",
       "111     GO_uni1_cauchy1_N:3_T1:1_T2:0.4   3    1.0    0.4  304.514973   \n",
       "134     GO_uni2_cauchy1_N:3_T1:1_T2:0.1   3    1.0    0.1  304.651737   \n",
       "122    GO_uni2_cauchy1_N:10_T1:1_T2:0.1  10    1.0    0.1  304.742815   \n",
       "144  GO_uni3_cauchy1_N:10_T1:0.5_T2:0.1  10    0.5    0.1  311.149293   \n",
       "145  GO_uni3_cauchy1_N:10_T1:0.5_T2:0.4  10    0.5    0.4  318.142361   \n",
       "21       GO_MCM_cauchy1_N:5_T1:1_T2:0.4   5    1.0    0.4  320.039324   \n",
       "92       GO_rnd_cauchy1_N:5_T1:1_T2:0.1   5    1.0    0.1  320.215651   \n",
       "146    GO_uni3_cauchy1_N:10_T1:1_T2:0.1  10    1.0    0.1  320.483857   \n",
       "49    GO_mix_cauchy1_N:10_T1:0.5_T2:0.4  10    0.5    0.4  320.495600   \n",
       "151  GO_uni3_cauchy1_N:15_T1:0.5_T2:0.4  15    0.5    0.4  322.195115   \n",
       "99     GO_uni1_cauchy1_N:10_T1:1_T2:0.4  10    1.0    0.4  322.249938   \n",
       "87       GO_rnd_cauchy1_N:3_T1:1_T2:0.4   3    1.0    0.4  323.637655   \n",
       "129    GO_uni2_cauchy1_N:15_T1:1_T2:0.4  15    1.0    0.4  324.716976   \n",
       "51      GO_mix_cauchy1_N:10_T1:1_T2:0.4  10    1.0    0.4  325.826166   \n",
       "73    GO_rnd_cauchy1_N:10_T1:0.5_T2:0.4  10    0.5    0.4  327.659829   \n",
       "9       GO_MCM_cauchy1_N:15_T1:1_T2:0.4  15    1.0    0.4  331.173608   \n",
       "93       GO_rnd_cauchy1_N:5_T1:1_T2:0.4   5    1.0    0.4  331.314981   \n",
       "102  GO_uni1_cauchy1_N:15_T1:0.5_T2:0.1  15    0.5    0.1  331.417625   \n",
       "48    GO_mix_cauchy1_N:10_T1:0.5_T2:0.1  10    0.5    0.1  333.572376   \n",
       "97   GO_uni1_cauchy1_N:10_T1:0.5_T2:0.4  10    0.5    0.4  334.995581   \n",
       "70       GO_mix_cauchy1_N:5_T1:5_T2:0.1   5    5.0    0.1  335.944571   \n",
       "164     GO_uni3_cauchy1_N:5_T1:1_T2:0.1   5    1.0    0.1  336.926985   \n",
       "2       GO_MCM_cauchy1_N:10_T1:1_T2:0.1  10    1.0    0.1  338.285681   \n",
       "127  GO_uni2_cauchy1_N:15_T1:0.5_T2:0.4  15    0.5    0.4  340.132146   \n",
       "50      GO_mix_cauchy1_N:10_T1:1_T2:0.1  10    1.0    0.1  340.938173   \n",
       "103  GO_uni1_cauchy1_N:15_T1:0.5_T2:0.4  15    0.5    0.4  342.212006   \n",
       "38      GO_MMCM_cauchy3_N:3_T1:1_T2:0.1   3    1.0    0.1  342.430101   \n",
       "79    GO_rnd_cauchy1_N:15_T1:0.5_T2:0.4  15    0.5    0.4  344.590330   \n",
       "6     GO_MCM_cauchy1_N:15_T1:0.5_T2:0.1  15    0.5    0.1  346.089796   \n",
       "36    GO_MMCM_cauchy3_N:3_T1:0.5_T2:0.1   3    0.5    0.1  346.875586   \n",
       "8       GO_MCM_cauchy1_N:15_T1:1_T2:0.1  15    1.0    0.1  347.162630   \n",
       "78    GO_rnd_cauchy1_N:15_T1:0.5_T2:0.1  15    0.5    0.1  348.490996   \n",
       "37    GO_MMCM_cauchy3_N:3_T1:0.5_T2:0.4   3    0.5    0.4  349.181939   \n",
       "147    GO_uni3_cauchy1_N:10_T1:1_T2:0.4  10    1.0    0.4  349.423775   \n",
       "74      GO_rnd_cauchy1_N:10_T1:1_T2:0.1  10    1.0    0.1  349.583829   \n",
       "7     GO_MCM_cauchy1_N:15_T1:0.5_T2:0.4  15    0.5    0.4  355.575227   \n",
       "152    GO_uni3_cauchy1_N:15_T1:1_T2:0.1  15    1.0    0.1  356.601562   \n",
       "75      GO_rnd_cauchy1_N:10_T1:1_T2:0.4  10    1.0    0.4  357.913729   \n",
       "55    GO_mix_cauchy1_N:15_T1:0.5_T2:0.4  15    0.5    0.4  358.139003   \n",
       "161     GO_uni3_cauchy1_N:3_T1:5_T2:0.4   3    5.0    0.4  359.272754   \n",
       "136     GO_uni2_cauchy1_N:3_T1:5_T2:0.1   3    5.0    0.1  361.359420   \n",
       "126  GO_uni2_cauchy1_N:15_T1:0.5_T2:0.1  15    0.5    0.1  363.114187   \n",
       "72    GO_rnd_cauchy1_N:10_T1:0.5_T2:0.1  10    0.5    0.1  363.242188   \n",
       "105    GO_uni1_cauchy1_N:15_T1:1_T2:0.4  15    1.0    0.4  363.747768   \n",
       "23       GO_MCM_cauchy1_N:5_T1:5_T2:0.4   5    5.0    0.4  363.845083   \n",
       "137     GO_uni2_cauchy1_N:3_T1:5_T2:0.4   3    5.0    0.4  367.604091   \n",
       "112     GO_uni1_cauchy1_N:3_T1:5_T2:0.1   3    5.0    0.1  369.240375   \n",
       "119     GO_uni1_cauchy1_N:5_T1:5_T2:0.4   5    5.0    0.4  369.386182   \n",
       "25   GO_MMCM_cauchy3_N:10_T1:0.5_T2:0.4  10    0.5    0.4  372.318668   \n",
       "153    GO_uni3_cauchy1_N:15_T1:1_T2:0.4  15    1.0    0.4  372.404891   \n",
       "128    GO_uni2_cauchy1_N:15_T1:1_T2:0.1  15    1.0    0.1  373.405096   \n",
       "16       GO_MCM_cauchy1_N:3_T1:5_T2:0.1   3    5.0    0.1  376.264630   \n",
       "81      GO_rnd_cauchy1_N:15_T1:1_T2:0.4  15    1.0    0.4  377.617188   \n",
       "80      GO_rnd_cauchy1_N:15_T1:1_T2:0.1  15    1.0    0.1  379.843750   \n",
       "39      GO_MMCM_cauchy3_N:3_T1:1_T2:0.4   3    1.0    0.4  381.533380   \n",
       "150  GO_uni3_cauchy1_N:15_T1:0.5_T2:0.1  15    0.5    0.1  383.303850   \n",
       "47      GO_MMCM_cauchy3_N:5_T1:5_T2:0.4   5    5.0    0.4  384.712400   \n",
       "57      GO_mix_cauchy1_N:15_T1:1_T2:0.4  15    1.0    0.4  385.040390   \n",
       "22       GO_MCM_cauchy1_N:5_T1:5_T2:0.1   5    5.0    0.1  386.793172   \n",
       "56      GO_mix_cauchy1_N:15_T1:1_T2:0.1  15    1.0    0.1  387.511478   \n",
       "44      GO_MMCM_cauchy3_N:5_T1:1_T2:0.1   5    1.0    0.1  388.217872   \n",
       "88       GO_rnd_cauchy1_N:3_T1:5_T2:0.1   3    5.0    0.1  390.032046   \n",
       "24   GO_MMCM_cauchy3_N:10_T1:0.5_T2:0.1  10    0.5    0.1  391.153552   \n",
       "45      GO_MMCM_cauchy3_N:5_T1:1_T2:0.4   5    1.0    0.4  392.234584   \n",
       "143     GO_uni2_cauchy1_N:5_T1:5_T2:0.4   5    5.0    0.4  392.485179   \n",
       "113     GO_uni1_cauchy1_N:3_T1:5_T2:0.4   3    5.0    0.4  393.566577   \n",
       "64       GO_mix_cauchy1_N:3_T1:5_T2:0.1   3    5.0    0.1  393.798518   \n",
       "54    GO_mix_cauchy1_N:15_T1:0.5_T2:0.1  15    0.5    0.1  394.107495   \n",
       "166     GO_uni3_cauchy1_N:5_T1:5_T2:0.1   5    5.0    0.1  394.950694   \n",
       "5       GO_MCM_cauchy1_N:10_T1:5_T2:0.4  10    5.0    0.4  395.761978   \n",
       "104    GO_uni1_cauchy1_N:15_T1:1_T2:0.1  15    1.0    0.1  396.242429   \n",
       "43    GO_MMCM_cauchy3_N:5_T1:0.5_T2:0.4   5    0.5    0.4  398.742607   \n",
       "65       GO_mix_cauchy1_N:3_T1:5_T2:0.4   3    5.0    0.4  401.324983   \n",
       "71       GO_mix_cauchy1_N:5_T1:5_T2:0.4   5    5.0    0.4  402.008422   \n",
       "167     GO_uni3_cauchy1_N:5_T1:5_T2:0.4   5    5.0    0.4  403.820206   \n",
       "100    GO_uni1_cauchy1_N:10_T1:5_T2:0.1  10    5.0    0.1  405.254501   \n",
       "17       GO_MCM_cauchy1_N:3_T1:5_T2:0.4   3    5.0    0.4  405.797101   \n",
       "10      GO_MCM_cauchy1_N:15_T1:5_T2:0.1  15    5.0    0.1  407.043551   \n",
       "160     GO_uni3_cauchy1_N:3_T1:5_T2:0.1   3    5.0    0.1  411.156695   \n",
       "95       GO_rnd_cauchy1_N:5_T1:5_T2:0.4   5    5.0    0.4  412.636315   \n",
       "101    GO_uni1_cauchy1_N:10_T1:5_T2:0.4  10    5.0    0.4  413.009533   \n",
       "46      GO_MMCM_cauchy3_N:5_T1:5_T2:0.1   5    5.0    0.1  413.269043   \n",
       "4       GO_MCM_cauchy1_N:10_T1:5_T2:0.1  10    5.0    0.1  414.400000   \n",
       "148    GO_uni3_cauchy1_N:10_T1:5_T2:0.1  10    5.0    0.1  421.536505   \n",
       "76      GO_rnd_cauchy1_N:10_T1:5_T2:0.1  10    5.0    0.1  424.518945   \n",
       "142     GO_uni2_cauchy1_N:5_T1:5_T2:0.1   5    5.0    0.1  424.577778   \n",
       "41      GO_MMCM_cauchy3_N:3_T1:5_T2:0.4   3    5.0    0.4  426.431067   \n",
       "118     GO_uni1_cauchy1_N:5_T1:5_T2:0.1   5    5.0    0.1  426.771366   \n",
       "94       GO_rnd_cauchy1_N:5_T1:5_T2:0.1   5    5.0    0.1  440.091252   \n",
       "42    GO_MMCM_cauchy3_N:5_T1:0.5_T2:0.1   5    0.5    0.1  440.895472   \n",
       "124    GO_uni2_cauchy1_N:10_T1:5_T2:0.1  10    5.0    0.1  443.401920   \n",
       "40      GO_MMCM_cauchy3_N:3_T1:5_T2:0.1   3    5.0    0.1  443.873569   \n",
       "77      GO_rnd_cauchy1_N:10_T1:5_T2:0.4  10    5.0    0.4  448.665352   \n",
       "125    GO_uni2_cauchy1_N:10_T1:5_T2:0.4  10    5.0    0.4  451.178633   \n",
       "82      GO_rnd_cauchy1_N:15_T1:5_T2:0.1  15    5.0    0.1  452.092839   \n",
       "53      GO_mix_cauchy1_N:10_T1:5_T2:0.4  10    5.0    0.4  455.366520   \n",
       "106    GO_uni1_cauchy1_N:15_T1:5_T2:0.1  15    5.0    0.1  455.980539   \n",
       "154    GO_uni3_cauchy1_N:15_T1:5_T2:0.1  15    5.0    0.1  456.508876   \n",
       "27     GO_MMCM_cauchy3_N:10_T1:1_T2:0.4  10    1.0    0.4  462.980382   \n",
       "26     GO_MMCM_cauchy3_N:10_T1:1_T2:0.1  10    1.0    0.1  473.108587   \n",
       "32     GO_MMCM_cauchy3_N:15_T1:1_T2:0.1  15    1.0    0.1  478.516957   \n",
       "89       GO_rnd_cauchy1_N:3_T1:5_T2:0.4   3    5.0    0.4  478.617225   \n",
       "30   GO_MMCM_cauchy3_N:15_T1:0.5_T2:0.1  15    0.5    0.1  480.824476   \n",
       "107    GO_uni1_cauchy1_N:15_T1:5_T2:0.4  15    5.0    0.4  486.411227   \n",
       "31   GO_MMCM_cauchy3_N:15_T1:0.5_T2:0.4  15    0.5    0.4  490.539850   \n",
       "149    GO_uni3_cauchy1_N:10_T1:5_T2:0.4  10    5.0    0.4  493.768988   \n",
       "131    GO_uni2_cauchy1_N:15_T1:5_T2:0.4  15    5.0    0.4  494.848000   \n",
       "58      GO_mix_cauchy1_N:15_T1:5_T2:0.1  15    5.0    0.1  495.296000   \n",
       "34     GO_MMCM_cauchy3_N:15_T1:5_T2:0.1  15    5.0    0.1  500.561835   \n",
       "28     GO_MMCM_cauchy3_N:10_T1:5_T2:0.1  10    5.0    0.1  507.892219   \n",
       "83      GO_rnd_cauchy1_N:15_T1:5_T2:0.4  15    5.0    0.4  510.535900   \n",
       "52      GO_mix_cauchy1_N:10_T1:5_T2:0.1  10    5.0    0.1  510.608765   \n",
       "29     GO_MMCM_cauchy3_N:10_T1:5_T2:0.4  10    5.0    0.4  524.551649   \n",
       "11      GO_MCM_cauchy1_N:15_T1:5_T2:0.4  15    5.0    0.4  527.183731   \n",
       "33     GO_MMCM_cauchy3_N:15_T1:1_T2:0.4  15    1.0    0.4  527.423469   \n",
       "59      GO_mix_cauchy1_N:15_T1:5_T2:0.4  15    5.0    0.4  536.739332   \n",
       "130    GO_uni2_cauchy1_N:15_T1:5_T2:0.1  15    5.0    0.1  541.910882   \n",
       "155    GO_uni3_cauchy1_N:15_T1:5_T2:0.4  15    5.0    0.4  567.437642   \n",
       "35     GO_MMCM_cauchy3_N:15_T1:5_T2:0.4  15    5.0    0.4  695.871733   \n",
       "\n",
       "           mne    rel  \n",
       "13   55.234783  0.230  \n",
       "12   56.927966  0.236  \n",
       "108  54.799087  0.219  \n",
       "19   55.802691  0.223  \n",
       "3    57.445415  0.229  \n",
       "18   58.776824  0.233  \n",
       "66   57.090498  0.221  \n",
       "15   56.263889  0.216  \n",
       "157  54.822967  0.209  \n",
       "114  55.153110  0.209  \n",
       "110  54.922705  0.207  \n",
       "141  59.504464  0.224  \n",
       "67   53.412935  0.201  \n",
       "138  56.615023  0.213  \n",
       "85   56.713615  0.213  \n",
       "115  57.163551  0.214  \n",
       "60   55.492754  0.207  \n",
       "135  53.484848  0.198  \n",
       "61   56.459330  0.209  \n",
       "158  57.575472  0.212  \n",
       "90   56.961722  0.209  \n",
       "14   56.995215  0.209  \n",
       "86   53.678571  0.196  \n",
       "116  57.449761  0.209  \n",
       "63   54.839196  0.199  \n",
       "96   59.600939  0.213  \n",
       "133  55.409091  0.198  \n",
       "117  59.023923  0.209  \n",
       "140  57.842365  0.203  \n",
       "109  56.182741  0.197  \n",
       "91   58.502439  0.205  \n",
       "163  56.742424  0.198  \n",
       "123  57.728643  0.199  \n",
       "156  56.865979  0.194  \n",
       "132  60.414634  0.205  \n",
       "98   58.798995  0.199  \n",
       "84   56.100529  0.189  \n",
       "139  58.198980  0.196  \n",
       "121  60.882927  0.205  \n",
       "159  55.898936  0.188  \n",
       "62   59.231156  0.199  \n",
       "69   57.395833  0.192  \n",
       "1    62.795238  0.210  \n",
       "162  58.944162  0.197  \n",
       "20   58.806122  0.196  \n",
       "165  61.687805  0.205  \n",
       "120  59.994975  0.199  \n",
       "68   57.164021  0.189  \n",
       "0    57.848168  0.191  \n",
       "111  56.639785  0.186  \n",
       "134  58.188482  0.191  \n",
       "122  59.729592  0.196  \n",
       "144  60.051813  0.193  \n",
       "145  61.083333  0.192  \n",
       "21   62.087629  0.194  \n",
       "92   56.357955  0.176  \n",
       "146  59.930481  0.187  \n",
       "49   61.214660  0.191  \n",
       "151  61.539267  0.191  \n",
       "99   61.549738  0.191  \n",
       "87   56.960227  0.176  \n",
       "129  62.020942  0.191  \n",
       "51   61.255319  0.188  \n",
       "73   59.961749  0.183  \n",
       "9    62.260638  0.188  \n",
       "93   60.961957  0.184  \n",
       "102  57.666667  0.174  \n",
       "48   55.706587  0.167  \n",
       "97   59.629213  0.178  \n",
       "70   60.134078  0.179  \n",
       "164  61.994565  0.184  \n",
       "2    62.244565  0.184  \n",
       "127  60.203390  0.177  \n",
       "50   61.027933  0.179  \n",
       "103  58.860465  0.172  \n",
       "38   56.158537  0.164  \n",
       "79   61.337079  0.178  \n",
       "6    60.565714  0.175  \n",
       "36   50.643836  0.146  \n",
       "8    59.017647  0.170  \n",
       "78   62.379888  0.179  \n",
       "37   53.424837  0.153  \n",
       "147  65.342246  0.187  \n",
       "74   60.827586  0.174  \n",
       "7    64.359116  0.181  \n",
       "152  57.056250  0.160  \n",
       "75   61.919075  0.173  \n",
       "55   58.018519  0.162  \n",
       "161  58.920732  0.164  \n",
       "136  55.649351  0.154  \n",
       "126  61.729412  0.170  \n",
       "72   58.118750  0.160  \n",
       "105  61.473373  0.169  \n",
       "23   59.306748  0.163  \n",
       "137  54.405405  0.148  \n",
       "112  57.232258  0.155  \n",
       "119  57.993631  0.157  \n",
       "25   53.986207  0.145  \n",
       "153  62.191617  0.167  \n",
       "128  60.865031  0.163  \n",
       "16   53.429577  0.142  \n",
       "81   60.418750  0.160  \n",
       "80   60.775000  0.160  \n",
       "39   52.270073  0.137  \n",
       "150  62.478528  0.163  \n",
       "47   57.322148  0.149  \n",
       "57   62.376543  0.162  \n",
       "22   62.660494  0.162  \n",
       "56   63.939394  0.165  \n",
       "44   57.068027  0.147  \n",
       "88   60.064935  0.154  \n",
       "24   58.281879  0.149  \n",
       "45   58.442953  0.149  \n",
       "143  62.012658  0.158  \n",
       "113  60.215686  0.153  \n",
       "64   59.463576  0.151  \n",
       "54   61.480769  0.156  \n",
       "166  58.452703  0.148  \n",
       "5    64.509202  0.163  \n",
       "104  63.795031  0.161  \n",
       "43   54.627737  0.137  \n",
       "65   55.784173  0.139  \n",
       "71   59.095238  0.147  \n",
       "167  62.188312  0.154  \n",
       "100  61.598684  0.152  \n",
       "17   56.000000  0.138  \n",
       "10   61.463576  0.151  \n",
       "160  56.328467  0.137  \n",
       "95   59.006993  0.143  \n",
       "101  64.429487  0.156  \n",
       "46   52.898438  0.128  \n",
       "4    62.160000  0.150  \n",
       "148  60.279720  0.143  \n",
       "76   60.281690  0.142  \n",
       "142  63.686667  0.150  \n",
       "41   52.024590  0.122  \n",
       "118  63.162162  0.148  \n",
       "94   62.492958  0.142  \n",
       "42   58.639098  0.133  \n",
       "124  59.859259  0.135  \n",
       "40   55.040323  0.124  \n",
       "77   61.467153  0.137  \n",
       "125  61.360294  0.136  \n",
       "82   64.197183  0.142  \n",
       "53   62.840580  0.138  \n",
       "106  63.381295  0.139  \n",
       "154  59.346154  0.130  \n",
       "27   56.483607  0.122  \n",
       "26   61.031008  0.129  \n",
       "32   60.771654  0.127  \n",
       "89   58.869919  0.123  \n",
       "30   56.737288  0.118  \n",
       "107  65.179104  0.134  \n",
       "31   57.393162  0.117  \n",
       "149  62.708661  0.127  \n",
       "131  61.856000  0.125  \n",
       "58   61.912000  0.125  \n",
       "34   61.569106  0.123  \n",
       "28   56.883929  0.112  \n",
       "83   63.306452  0.124  \n",
       "52   62.804878  0.123  \n",
       "29   59.274336  0.113  \n",
       "11   69.061069  0.131  \n",
       "33   59.071429  0.112  \n",
       "59   58.504587  0.109  \n",
       "130  64.487395  0.119  \n",
       "155  59.580952  0.105  \n",
       "35   61.932584  0.089  "
      ]
     },
     "execution_count": 16,
     "metadata": {},
     "output_type": "execute_result"
    }
   ],
   "source": [
    "results_pivot_2 = results_2.pivot_table(\n",
    "    index=['heur', 'n', 'temp1', 'temp2'],\n",
    "    values=['neval'],\n",
    "    aggfunc=(rel, mne, feo)\n",
    ")['neval']\n",
    "results_pivot_2 = results_pivot_2.reset_index()\n",
    "results_pivot_2.sort_values(by='feo')"
   ]
  },
  {
   "cell_type": "markdown",
   "metadata": {},
   "source": [
    "Z tabuľky výsledkov si môžeme všimnúť, že tuning hyper-parametrov viedol k podstatnému zlepšeniu výsledkov z pohľadu <b> feo </b> kritéria. V predchádzajúcej sérii testov sme sa dostali (v najlepšom prípade) na hodnotu približne 266, zatiaľ čo v tejto sérii sme sa dostali až na hodnotu približne 240 (a niekedy menej je viac :D).\n",
    "\n",
    "Naviac môžeme konštatovať, že v súčinnosti s tuningom hyper-parametrov dostávame najlepšie výsledky pre crossover metódu <b> MCM </b>, ktorá bola navrhnutá v rámci tohto projektu."
   ]
  },
  {
   "cell_type": "markdown",
   "metadata": {},
   "source": [
    "## 4. Náhoda vs. žravá heuristika"
   ]
  },
  {
   "cell_type": "markdown",
   "metadata": {},
   "source": [
    "V tejto časti sa budeme venovať využitiu žravej heuristiky. Tento princíp bude použitý pri generovaní 1. generácie riešení a to nasledovným spôsobom.\n",
    "\n",
    "V predchádzajúcom nastavení vznikala táto generácia na základe náhody, teda obchodný cestujúci si nasledujúce mesto vždy vyberal náhodne. V prípade žravého prístupu však bude pristupovať takto. Na začiatku sa nachádza v meste, ktoré je štartovné a vždy rovnaké. Následne sa s pravdepodobnosťou p vyberie do mesta, ktoré je najbližšie a ešte nebolo navštívené. Resp. s pravdepodobnosťou 1-p sa vyberie do náhodného mesta, ktoré nebolo navštívené. Týmto spôsobom postupuje, až kým nenavštívi všetky mestá. Paramater p zaručuje, že riešenia nebudú degenerované.\n",
    "\n",
    "Tento prístup žravej heuristiky otestujeme tak, že zoberieme 10 najlepších heuristík (vrátane hyper parametrov) z vykonaných experimentov. V týchto heuristikách modifikujeme generovanie 1. generácie riešení žravým spôsobom, ktorý bol popísaný. Pre určenie \"ideálnej\" hodnoty parametra p budeme testovať 5 rôznych hodnôt a to konkrétne 0.2, 0.4, 0.5, 0.6 a 0.8.  "
   ]
  },
  {
   "cell_type": "code",
   "execution_count": 17,
   "metadata": {},
   "outputs": [],
   "source": [
    "crossovers_mutations_N_T1_T2 = [\n",
    "    {'crossover': MatchCrossoverMax(), 'mutation': CauchyMutation(r=1, correction = Correction(tsp)), 'N': 3, \n",
    "     'T1': 0.5, 'T2': 0.4, 'name': 'MCM_cauchy1_N:3_T1:0.5_T2:0.4'},\n",
    "    {'crossover': MatchCrossoverMax(), 'mutation': CauchyMutation(r=1, correction = Correction(tsp)), 'N': 3, \n",
    "     'T1': 0.5, 'T2': 0.1, 'name': 'MCM_cauchy1_N:3_T1:0.5_T2:0.1'},\n",
    "    {'crossover': UniformMultipoint(1), 'mutation': CauchyMutation(r=1, correction = Correction(tsp)), 'N': 3, \n",
    "     'T1': 0.5, 'T2': 0.1, 'name': 'uni1_cauchy1_N:3_T1:0.5_T2:0.1'},\n",
    "    {'crossover': MatchCrossoverMax(), 'mutation': CauchyMutation(r=1, correction = Correction(tsp)), 'N': 5, \n",
    "     'T1': 0.5, 'T2': 0.4, 'name': 'MCM_cauchy1_N:5_T1:0.5_T2:0.4'},\n",
    "    {'crossover': MatchCrossoverMax(), 'mutation': CauchyMutation(r=1, correction = Correction(tsp)), 'N': 10, \n",
    "     'T1': 1.0, 'T2': 0.4, 'name': 'MCM_cauchy1_N:10_T1:1.0_T2:0.4'},\n",
    "    {'crossover': MatchCrossoverMax(), 'mutation': CauchyMutation(r=1, correction = Correction(tsp)), 'N': 5, \n",
    "     'T1': 0.5, 'T2': 0.1, 'name': 'MCM_cauchy1_N:5_T1:0.5_T2:0.1'},\n",
    "    {'crossover': Crossover(), 'mutation': CauchyMutation(r=1, correction = Correction(tsp)), 'N': 5, \n",
    "     'T1': 0.5, 'T2': 0.1, 'name': 'mix_cauchy1_N:5_T1:0.5_T2:0.1'},\n",
    "    {'crossover': MatchCrossoverMax(), 'mutation': CauchyMutation(r=1, correction = Correction(tsp)), 'N': 3, \n",
    "     'T1': 1.0, 'T2': 0.4, 'name': 'MCM_cauchy1_N:3_T1:1.0_T2:0.4'}, \n",
    "    {'crossover': UniformMultipoint(3), 'mutation': CauchyMutation(r=1, correction = Correction(tsp)), 'N': 3, \n",
    "     'T1': 0.5, 'T2': 0.4, 'name': 'uni3_cauchy1_N:3_T1:0.5_T2:0.4'},\n",
    "    {'crossover': UniformMultipoint(1), 'mutation': CauchyMutation(r=1, correction = Correction(tsp)), 'N': 3, \n",
    "     'T1': 0.5, 'T2': 0.1, 'name': 'uni1_cauchy1_N:3_T1:0.5_T2:0.1'}\n",
    "]"
   ]
  },
  {
   "cell_type": "code",
   "execution_count": 18,
   "metadata": {},
   "outputs": [],
   "source": [
    "P = [0.2, 0.4, 0.5, 0.6, 0.8]"
   ]
  },
  {
   "cell_type": "code",
   "execution_count": 19,
   "metadata": {},
   "outputs": [],
   "source": [
    "from heur_go import GeneticOptimization # heuristics"
   ]
  },
  {
   "cell_type": "code",
   "execution_count": 27,
   "metadata": {},
   "outputs": [
    {
     "data": {
      "application/vnd.jupyter.widget-view+json": {
       "model_id": "8db8cb26a1934808a93b05daf908e753",
       "version_major": 2,
       "version_minor": 0
      },
      "text/plain": [
       "HBox(children=(FloatProgress(value=0.0, description='Testing GO_MCM_cauchy1_N:3_T1:0.5_T2:0.4_N:3_T1:0.5_T2:0.…"
      ]
     },
     "metadata": {},
     "output_type": "display_data"
    },
    {
     "name": "stdout",
     "output_type": "stream",
     "text": [
      "\n"
     ]
    },
    {
     "data": {
      "application/vnd.jupyter.widget-view+json": {
       "model_id": "bc7d73cff4d24490beb09ac96faa1a22",
       "version_major": 2,
       "version_minor": 0
      },
      "text/plain": [
       "HBox(children=(FloatProgress(value=0.0, description='Testing GO_MCM_cauchy1_N:3_T1:0.5_T2:0.1_N:3_T1:0.5_T2:0.…"
      ]
     },
     "metadata": {},
     "output_type": "display_data"
    },
    {
     "name": "stdout",
     "output_type": "stream",
     "text": [
      "\n"
     ]
    },
    {
     "data": {
      "application/vnd.jupyter.widget-view+json": {
       "model_id": "cf1f7082d26c48fbb812723c4606d953",
       "version_major": 2,
       "version_minor": 0
      },
      "text/plain": [
       "HBox(children=(FloatProgress(value=0.0, description='Testing GO_uni1_cauchy1_N:3_T1:0.5_T2:0.1_N:3_T1:0.5_T2:0…"
      ]
     },
     "metadata": {},
     "output_type": "display_data"
    },
    {
     "name": "stdout",
     "output_type": "stream",
     "text": [
      "\n"
     ]
    },
    {
     "data": {
      "application/vnd.jupyter.widget-view+json": {
       "model_id": "aa9bd9b1ff6349ad97284beff540bc95",
       "version_major": 2,
       "version_minor": 0
      },
      "text/plain": [
       "HBox(children=(FloatProgress(value=0.0, description='Testing GO_MCM_cauchy1_N:5_T1:0.5_T2:0.4_N:5_T1:0.5_T2:0.…"
      ]
     },
     "metadata": {},
     "output_type": "display_data"
    },
    {
     "name": "stdout",
     "output_type": "stream",
     "text": [
      "\n"
     ]
    },
    {
     "data": {
      "application/vnd.jupyter.widget-view+json": {
       "model_id": "a4677326d9e746b48bbdf5c8c595739c",
       "version_major": 2,
       "version_minor": 0
      },
      "text/plain": [
       "HBox(children=(FloatProgress(value=0.0, description='Testing GO_MCM_cauchy1_N:10_T1:1.0_T2:0.4_N:10_T1:1.0_T2:…"
      ]
     },
     "metadata": {},
     "output_type": "display_data"
    },
    {
     "name": "stdout",
     "output_type": "stream",
     "text": [
      "\n"
     ]
    },
    {
     "data": {
      "application/vnd.jupyter.widget-view+json": {
       "model_id": "7485957c4d93411cb4775854783cee53",
       "version_major": 2,
       "version_minor": 0
      },
      "text/plain": [
       "HBox(children=(FloatProgress(value=0.0, description='Testing GO_MCM_cauchy1_N:5_T1:0.5_T2:0.1_N:5_T1:0.5_T2:0.…"
      ]
     },
     "metadata": {},
     "output_type": "display_data"
    },
    {
     "name": "stdout",
     "output_type": "stream",
     "text": [
      "\n"
     ]
    },
    {
     "data": {
      "application/vnd.jupyter.widget-view+json": {
       "model_id": "a7f3500de0ff491eb0e652e6049f674f",
       "version_major": 2,
       "version_minor": 0
      },
      "text/plain": [
       "HBox(children=(FloatProgress(value=0.0, description='Testing GO_mix_cauchy1_N:5_T1:0.5_T2:0.1_N:5_T1:0.5_T2:0.…"
      ]
     },
     "metadata": {},
     "output_type": "display_data"
    },
    {
     "name": "stdout",
     "output_type": "stream",
     "text": [
      "\n"
     ]
    },
    {
     "data": {
      "application/vnd.jupyter.widget-view+json": {
       "model_id": "1613dfc5a33f42eea27f15be474a95ca",
       "version_major": 2,
       "version_minor": 0
      },
      "text/plain": [
       "HBox(children=(FloatProgress(value=0.0, description='Testing GO_MCM_cauchy1_N:3_T1:1.0_T2:0.4_N:3_T1:1.0_T2:0.…"
      ]
     },
     "metadata": {},
     "output_type": "display_data"
    },
    {
     "name": "stdout",
     "output_type": "stream",
     "text": [
      "\n"
     ]
    },
    {
     "data": {
      "application/vnd.jupyter.widget-view+json": {
       "model_id": "32aded2fb4b54228bb2f6381520009f9",
       "version_major": 2,
       "version_minor": 0
      },
      "text/plain": [
       "HBox(children=(FloatProgress(value=0.0, description='Testing GO_uni3_cauchy1_N:3_T1:0.5_T2:0.4_N:3_T1:0.5_T2:0…"
      ]
     },
     "metadata": {},
     "output_type": "display_data"
    },
    {
     "name": "stdout",
     "output_type": "stream",
     "text": [
      "\n"
     ]
    },
    {
     "data": {
      "application/vnd.jupyter.widget-view+json": {
       "model_id": "f3f6be29f4a04413992046f92558d2ec",
       "version_major": 2,
       "version_minor": 0
      },
      "text/plain": [
       "HBox(children=(FloatProgress(value=0.0, description='Testing GO_uni1_cauchy1_N:3_T1:0.5_T2:0.1_N:3_T1:0.5_T2:0…"
      ]
     },
     "metadata": {},
     "output_type": "display_data"
    },
    {
     "name": "stdout",
     "output_type": "stream",
     "text": [
      "\n"
     ]
    },
    {
     "data": {
      "application/vnd.jupyter.widget-view+json": {
       "model_id": "45e6ba0fd0ee47faa4f3e38f971e22e7",
       "version_major": 2,
       "version_minor": 0
      },
      "text/plain": [
       "HBox(children=(FloatProgress(value=0.0, description='Testing GO_MCM_cauchy1_N:3_T1:0.5_T2:0.4_N:3_T1:0.5_T2:0.…"
      ]
     },
     "metadata": {},
     "output_type": "display_data"
    },
    {
     "name": "stdout",
     "output_type": "stream",
     "text": [
      "\n"
     ]
    },
    {
     "data": {
      "application/vnd.jupyter.widget-view+json": {
       "model_id": "6c04b0c3a4ad4d5b93c27f8b881bd7fb",
       "version_major": 2,
       "version_minor": 0
      },
      "text/plain": [
       "HBox(children=(FloatProgress(value=0.0, description='Testing GO_MCM_cauchy1_N:3_T1:0.5_T2:0.1_N:3_T1:0.5_T2:0.…"
      ]
     },
     "metadata": {},
     "output_type": "display_data"
    },
    {
     "name": "stdout",
     "output_type": "stream",
     "text": [
      "\n"
     ]
    },
    {
     "data": {
      "application/vnd.jupyter.widget-view+json": {
       "model_id": "29045a27d2dc40f4a002d0ba681dea4b",
       "version_major": 2,
       "version_minor": 0
      },
      "text/plain": [
       "HBox(children=(FloatProgress(value=0.0, description='Testing GO_uni1_cauchy1_N:3_T1:0.5_T2:0.1_N:3_T1:0.5_T2:0…"
      ]
     },
     "metadata": {},
     "output_type": "display_data"
    },
    {
     "name": "stdout",
     "output_type": "stream",
     "text": [
      "\n"
     ]
    },
    {
     "data": {
      "application/vnd.jupyter.widget-view+json": {
       "model_id": "7ca29ac401554c36b5f063ada821cc11",
       "version_major": 2,
       "version_minor": 0
      },
      "text/plain": [
       "HBox(children=(FloatProgress(value=0.0, description='Testing GO_MCM_cauchy1_N:5_T1:0.5_T2:0.4_N:5_T1:0.5_T2:0.…"
      ]
     },
     "metadata": {},
     "output_type": "display_data"
    },
    {
     "name": "stdout",
     "output_type": "stream",
     "text": [
      "\n"
     ]
    },
    {
     "data": {
      "application/vnd.jupyter.widget-view+json": {
       "model_id": "ccfc730dd9024d02923c74dc3c380847",
       "version_major": 2,
       "version_minor": 0
      },
      "text/plain": [
       "HBox(children=(FloatProgress(value=0.0, description='Testing GO_MCM_cauchy1_N:10_T1:1.0_T2:0.4_N:10_T1:1.0_T2:…"
      ]
     },
     "metadata": {},
     "output_type": "display_data"
    },
    {
     "name": "stdout",
     "output_type": "stream",
     "text": [
      "\n"
     ]
    },
    {
     "data": {
      "application/vnd.jupyter.widget-view+json": {
       "model_id": "ef6ba064ff9c4526aaeb908fa6edd1e7",
       "version_major": 2,
       "version_minor": 0
      },
      "text/plain": [
       "HBox(children=(FloatProgress(value=0.0, description='Testing GO_MCM_cauchy1_N:5_T1:0.5_T2:0.1_N:5_T1:0.5_T2:0.…"
      ]
     },
     "metadata": {},
     "output_type": "display_data"
    },
    {
     "name": "stdout",
     "output_type": "stream",
     "text": [
      "\n"
     ]
    },
    {
     "data": {
      "application/vnd.jupyter.widget-view+json": {
       "model_id": "8e37b236d6c84ec2bb69126093173c8d",
       "version_major": 2,
       "version_minor": 0
      },
      "text/plain": [
       "HBox(children=(FloatProgress(value=0.0, description='Testing GO_mix_cauchy1_N:5_T1:0.5_T2:0.1_N:5_T1:0.5_T2:0.…"
      ]
     },
     "metadata": {},
     "output_type": "display_data"
    },
    {
     "name": "stdout",
     "output_type": "stream",
     "text": [
      "\n"
     ]
    },
    {
     "data": {
      "application/vnd.jupyter.widget-view+json": {
       "model_id": "8fc2d268cb0b4f1096644a5945bb7251",
       "version_major": 2,
       "version_minor": 0
      },
      "text/plain": [
       "HBox(children=(FloatProgress(value=0.0, description='Testing GO_MCM_cauchy1_N:3_T1:1.0_T2:0.4_N:3_T1:1.0_T2:0.…"
      ]
     },
     "metadata": {},
     "output_type": "display_data"
    },
    {
     "name": "stdout",
     "output_type": "stream",
     "text": [
      "\n"
     ]
    },
    {
     "data": {
      "application/vnd.jupyter.widget-view+json": {
       "model_id": "2e427dc11b334ce8b28b96c7af49ce81",
       "version_major": 2,
       "version_minor": 0
      },
      "text/plain": [
       "HBox(children=(FloatProgress(value=0.0, description='Testing GO_uni3_cauchy1_N:3_T1:0.5_T2:0.4_N:3_T1:0.5_T2:0…"
      ]
     },
     "metadata": {},
     "output_type": "display_data"
    },
    {
     "name": "stdout",
     "output_type": "stream",
     "text": [
      "\n"
     ]
    },
    {
     "data": {
      "application/vnd.jupyter.widget-view+json": {
       "model_id": "d4b48298f04945008831aff4192d7d23",
       "version_major": 2,
       "version_minor": 0
      },
      "text/plain": [
       "HBox(children=(FloatProgress(value=0.0, description='Testing GO_uni1_cauchy1_N:3_T1:0.5_T2:0.1_N:3_T1:0.5_T2:0…"
      ]
     },
     "metadata": {},
     "output_type": "display_data"
    },
    {
     "name": "stdout",
     "output_type": "stream",
     "text": [
      "\n"
     ]
    },
    {
     "data": {
      "application/vnd.jupyter.widget-view+json": {
       "model_id": "d92c71597d2c4892bebeba33973d0488",
       "version_major": 2,
       "version_minor": 0
      },
      "text/plain": [
       "HBox(children=(FloatProgress(value=0.0, description='Testing GO_MCM_cauchy1_N:3_T1:0.5_T2:0.4_N:3_T1:0.5_T2:0.…"
      ]
     },
     "metadata": {},
     "output_type": "display_data"
    },
    {
     "name": "stdout",
     "output_type": "stream",
     "text": [
      "\n"
     ]
    },
    {
     "data": {
      "application/vnd.jupyter.widget-view+json": {
       "model_id": "ee80ac9f4df74d73b56bbdb95f7933fa",
       "version_major": 2,
       "version_minor": 0
      },
      "text/plain": [
       "HBox(children=(FloatProgress(value=0.0, description='Testing GO_MCM_cauchy1_N:3_T1:0.5_T2:0.1_N:3_T1:0.5_T2:0.…"
      ]
     },
     "metadata": {},
     "output_type": "display_data"
    },
    {
     "name": "stdout",
     "output_type": "stream",
     "text": [
      "\n"
     ]
    },
    {
     "data": {
      "application/vnd.jupyter.widget-view+json": {
       "model_id": "a7ca5e86a122409b974f588ba419238d",
       "version_major": 2,
       "version_minor": 0
      },
      "text/plain": [
       "HBox(children=(FloatProgress(value=0.0, description='Testing GO_uni1_cauchy1_N:3_T1:0.5_T2:0.1_N:3_T1:0.5_T2:0…"
      ]
     },
     "metadata": {},
     "output_type": "display_data"
    },
    {
     "name": "stdout",
     "output_type": "stream",
     "text": [
      "\n"
     ]
    },
    {
     "data": {
      "application/vnd.jupyter.widget-view+json": {
       "model_id": "1065cc2a84e74b8c9cef940ddacc575f",
       "version_major": 2,
       "version_minor": 0
      },
      "text/plain": [
       "HBox(children=(FloatProgress(value=0.0, description='Testing GO_MCM_cauchy1_N:5_T1:0.5_T2:0.4_N:5_T1:0.5_T2:0.…"
      ]
     },
     "metadata": {},
     "output_type": "display_data"
    },
    {
     "name": "stdout",
     "output_type": "stream",
     "text": [
      "\n"
     ]
    },
    {
     "data": {
      "application/vnd.jupyter.widget-view+json": {
       "model_id": "e484b368c5f44ce5b5b8a74d3ae2aa1c",
       "version_major": 2,
       "version_minor": 0
      },
      "text/plain": [
       "HBox(children=(FloatProgress(value=0.0, description='Testing GO_MCM_cauchy1_N:10_T1:1.0_T2:0.4_N:10_T1:1.0_T2:…"
      ]
     },
     "metadata": {},
     "output_type": "display_data"
    },
    {
     "name": "stdout",
     "output_type": "stream",
     "text": [
      "\n"
     ]
    },
    {
     "data": {
      "application/vnd.jupyter.widget-view+json": {
       "model_id": "ec348a63c6b3405daba1cc8fa90ed63d",
       "version_major": 2,
       "version_minor": 0
      },
      "text/plain": [
       "HBox(children=(FloatProgress(value=0.0, description='Testing GO_MCM_cauchy1_N:5_T1:0.5_T2:0.1_N:5_T1:0.5_T2:0.…"
      ]
     },
     "metadata": {},
     "output_type": "display_data"
    },
    {
     "name": "stdout",
     "output_type": "stream",
     "text": [
      "\n"
     ]
    },
    {
     "data": {
      "application/vnd.jupyter.widget-view+json": {
       "model_id": "eade44c13a1240ec886e805f3c5dc819",
       "version_major": 2,
       "version_minor": 0
      },
      "text/plain": [
       "HBox(children=(FloatProgress(value=0.0, description='Testing GO_mix_cauchy1_N:5_T1:0.5_T2:0.1_N:5_T1:0.5_T2:0.…"
      ]
     },
     "metadata": {},
     "output_type": "display_data"
    },
    {
     "name": "stdout",
     "output_type": "stream",
     "text": [
      "\n"
     ]
    },
    {
     "data": {
      "application/vnd.jupyter.widget-view+json": {
       "model_id": "fc69e5d735b946cd8cd86b32d0a1c957",
       "version_major": 2,
       "version_minor": 0
      },
      "text/plain": [
       "HBox(children=(FloatProgress(value=0.0, description='Testing GO_MCM_cauchy1_N:3_T1:1.0_T2:0.4_N:3_T1:1.0_T2:0.…"
      ]
     },
     "metadata": {},
     "output_type": "display_data"
    },
    {
     "name": "stdout",
     "output_type": "stream",
     "text": [
      "\n"
     ]
    },
    {
     "data": {
      "application/vnd.jupyter.widget-view+json": {
       "model_id": "46e7de3b6ca94338bc9709cba300a82c",
       "version_major": 2,
       "version_minor": 0
      },
      "text/plain": [
       "HBox(children=(FloatProgress(value=0.0, description='Testing GO_uni3_cauchy1_N:3_T1:0.5_T2:0.4_N:3_T1:0.5_T2:0…"
      ]
     },
     "metadata": {},
     "output_type": "display_data"
    },
    {
     "name": "stdout",
     "output_type": "stream",
     "text": [
      "\n"
     ]
    },
    {
     "data": {
      "application/vnd.jupyter.widget-view+json": {
       "model_id": "242a60f5c78f48e1b9d49b6c90fb67a3",
       "version_major": 2,
       "version_minor": 0
      },
      "text/plain": [
       "HBox(children=(FloatProgress(value=0.0, description='Testing GO_uni1_cauchy1_N:3_T1:0.5_T2:0.1_N:3_T1:0.5_T2:0…"
      ]
     },
     "metadata": {},
     "output_type": "display_data"
    },
    {
     "name": "stdout",
     "output_type": "stream",
     "text": [
      "\n"
     ]
    },
    {
     "data": {
      "application/vnd.jupyter.widget-view+json": {
       "model_id": "48f01383abc845abb10b16279c57564f",
       "version_major": 2,
       "version_minor": 0
      },
      "text/plain": [
       "HBox(children=(FloatProgress(value=0.0, description='Testing GO_MCM_cauchy1_N:3_T1:0.5_T2:0.4_N:3_T1:0.5_T2:0.…"
      ]
     },
     "metadata": {},
     "output_type": "display_data"
    },
    {
     "name": "stdout",
     "output_type": "stream",
     "text": [
      "\n"
     ]
    },
    {
     "data": {
      "application/vnd.jupyter.widget-view+json": {
       "model_id": "ce4875c9e94a4aa78f2b689420ff78e0",
       "version_major": 2,
       "version_minor": 0
      },
      "text/plain": [
       "HBox(children=(FloatProgress(value=0.0, description='Testing GO_MCM_cauchy1_N:3_T1:0.5_T2:0.1_N:3_T1:0.5_T2:0.…"
      ]
     },
     "metadata": {},
     "output_type": "display_data"
    },
    {
     "name": "stdout",
     "output_type": "stream",
     "text": [
      "\n"
     ]
    },
    {
     "data": {
      "application/vnd.jupyter.widget-view+json": {
       "model_id": "3dcef081b0d247b389e5a45de6129fa8",
       "version_major": 2,
       "version_minor": 0
      },
      "text/plain": [
       "HBox(children=(FloatProgress(value=0.0, description='Testing GO_uni1_cauchy1_N:3_T1:0.5_T2:0.1_N:3_T1:0.5_T2:0…"
      ]
     },
     "metadata": {},
     "output_type": "display_data"
    },
    {
     "name": "stdout",
     "output_type": "stream",
     "text": [
      "\n"
     ]
    },
    {
     "data": {
      "application/vnd.jupyter.widget-view+json": {
       "model_id": "8e8672674d794bbab9e05edc84919d8f",
       "version_major": 2,
       "version_minor": 0
      },
      "text/plain": [
       "HBox(children=(FloatProgress(value=0.0, description='Testing GO_MCM_cauchy1_N:5_T1:0.5_T2:0.4_N:5_T1:0.5_T2:0.…"
      ]
     },
     "metadata": {},
     "output_type": "display_data"
    },
    {
     "name": "stdout",
     "output_type": "stream",
     "text": [
      "\n"
     ]
    },
    {
     "data": {
      "application/vnd.jupyter.widget-view+json": {
       "model_id": "856a94b13c8c47c69fdc57a2b3f68108",
       "version_major": 2,
       "version_minor": 0
      },
      "text/plain": [
       "HBox(children=(FloatProgress(value=0.0, description='Testing GO_MCM_cauchy1_N:10_T1:1.0_T2:0.4_N:10_T1:1.0_T2:…"
      ]
     },
     "metadata": {},
     "output_type": "display_data"
    },
    {
     "name": "stdout",
     "output_type": "stream",
     "text": [
      "\n"
     ]
    },
    {
     "data": {
      "application/vnd.jupyter.widget-view+json": {
       "model_id": "c7d58f4d3f2343db841257d822529d24",
       "version_major": 2,
       "version_minor": 0
      },
      "text/plain": [
       "HBox(children=(FloatProgress(value=0.0, description='Testing GO_MCM_cauchy1_N:5_T1:0.5_T2:0.1_N:5_T1:0.5_T2:0.…"
      ]
     },
     "metadata": {},
     "output_type": "display_data"
    },
    {
     "name": "stdout",
     "output_type": "stream",
     "text": [
      "\n"
     ]
    },
    {
     "data": {
      "application/vnd.jupyter.widget-view+json": {
       "model_id": "bea30f1a313f413880bd0f1ede45ff02",
       "version_major": 2,
       "version_minor": 0
      },
      "text/plain": [
       "HBox(children=(FloatProgress(value=0.0, description='Testing GO_mix_cauchy1_N:5_T1:0.5_T2:0.1_N:5_T1:0.5_T2:0.…"
      ]
     },
     "metadata": {},
     "output_type": "display_data"
    },
    {
     "name": "stdout",
     "output_type": "stream",
     "text": [
      "\n"
     ]
    },
    {
     "data": {
      "application/vnd.jupyter.widget-view+json": {
       "model_id": "d7f39d67a8e74fa499a6317e39e07f77",
       "version_major": 2,
       "version_minor": 0
      },
      "text/plain": [
       "HBox(children=(FloatProgress(value=0.0, description='Testing GO_MCM_cauchy1_N:3_T1:1.0_T2:0.4_N:3_T1:1.0_T2:0.…"
      ]
     },
     "metadata": {},
     "output_type": "display_data"
    },
    {
     "name": "stdout",
     "output_type": "stream",
     "text": [
      "\n"
     ]
    },
    {
     "data": {
      "application/vnd.jupyter.widget-view+json": {
       "model_id": "d27e25eb363d4f5f9c7608afbb93fa2d",
       "version_major": 2,
       "version_minor": 0
      },
      "text/plain": [
       "HBox(children=(FloatProgress(value=0.0, description='Testing GO_uni3_cauchy1_N:3_T1:0.5_T2:0.4_N:3_T1:0.5_T2:0…"
      ]
     },
     "metadata": {},
     "output_type": "display_data"
    },
    {
     "name": "stdout",
     "output_type": "stream",
     "text": [
      "\n"
     ]
    },
    {
     "data": {
      "application/vnd.jupyter.widget-view+json": {
       "model_id": "f4dd2cba4d8d4f0dac18d493c14ae155",
       "version_major": 2,
       "version_minor": 0
      },
      "text/plain": [
       "HBox(children=(FloatProgress(value=0.0, description='Testing GO_uni1_cauchy1_N:3_T1:0.5_T2:0.1_N:3_T1:0.5_T2:0…"
      ]
     },
     "metadata": {},
     "output_type": "display_data"
    },
    {
     "name": "stdout",
     "output_type": "stream",
     "text": [
      "\n"
     ]
    },
    {
     "data": {
      "application/vnd.jupyter.widget-view+json": {
       "model_id": "aa637200c86a4c2380f94551f803fe6e",
       "version_major": 2,
       "version_minor": 0
      },
      "text/plain": [
       "HBox(children=(FloatProgress(value=0.0, description='Testing GO_MCM_cauchy1_N:3_T1:0.5_T2:0.4_N:3_T1:0.5_T2:0.…"
      ]
     },
     "metadata": {},
     "output_type": "display_data"
    },
    {
     "name": "stdout",
     "output_type": "stream",
     "text": [
      "\n"
     ]
    },
    {
     "data": {
      "application/vnd.jupyter.widget-view+json": {
       "model_id": "aa66174babaf4124b0a971d735c28344",
       "version_major": 2,
       "version_minor": 0
      },
      "text/plain": [
       "HBox(children=(FloatProgress(value=0.0, description='Testing GO_MCM_cauchy1_N:3_T1:0.5_T2:0.1_N:3_T1:0.5_T2:0.…"
      ]
     },
     "metadata": {},
     "output_type": "display_data"
    },
    {
     "name": "stdout",
     "output_type": "stream",
     "text": [
      "\n"
     ]
    },
    {
     "data": {
      "application/vnd.jupyter.widget-view+json": {
       "model_id": "7e2e746adba44abb848f1e94b1bbf122",
       "version_major": 2,
       "version_minor": 0
      },
      "text/plain": [
       "HBox(children=(FloatProgress(value=0.0, description='Testing GO_uni1_cauchy1_N:3_T1:0.5_T2:0.1_N:3_T1:0.5_T2:0…"
      ]
     },
     "metadata": {},
     "output_type": "display_data"
    },
    {
     "name": "stdout",
     "output_type": "stream",
     "text": [
      "\n"
     ]
    },
    {
     "data": {
      "application/vnd.jupyter.widget-view+json": {
       "model_id": "555849b252e34283802beca870daafc8",
       "version_major": 2,
       "version_minor": 0
      },
      "text/plain": [
       "HBox(children=(FloatProgress(value=0.0, description='Testing GO_MCM_cauchy1_N:5_T1:0.5_T2:0.4_N:5_T1:0.5_T2:0.…"
      ]
     },
     "metadata": {},
     "output_type": "display_data"
    },
    {
     "name": "stdout",
     "output_type": "stream",
     "text": [
      "\n"
     ]
    },
    {
     "data": {
      "application/vnd.jupyter.widget-view+json": {
       "model_id": "4ea88daf1f024f5ca8c29b58b40d681e",
       "version_major": 2,
       "version_minor": 0
      },
      "text/plain": [
       "HBox(children=(FloatProgress(value=0.0, description='Testing GO_MCM_cauchy1_N:10_T1:1.0_T2:0.4_N:10_T1:1.0_T2:…"
      ]
     },
     "metadata": {},
     "output_type": "display_data"
    },
    {
     "name": "stdout",
     "output_type": "stream",
     "text": [
      "\n"
     ]
    },
    {
     "data": {
      "application/vnd.jupyter.widget-view+json": {
       "model_id": "e979bf60972f47c980d96c7b7acd4261",
       "version_major": 2,
       "version_minor": 0
      },
      "text/plain": [
       "HBox(children=(FloatProgress(value=0.0, description='Testing GO_MCM_cauchy1_N:5_T1:0.5_T2:0.1_N:5_T1:0.5_T2:0.…"
      ]
     },
     "metadata": {},
     "output_type": "display_data"
    },
    {
     "name": "stdout",
     "output_type": "stream",
     "text": [
      "\n"
     ]
    },
    {
     "data": {
      "application/vnd.jupyter.widget-view+json": {
       "model_id": "44443758360444afb3db28fc57a756e7",
       "version_major": 2,
       "version_minor": 0
      },
      "text/plain": [
       "HBox(children=(FloatProgress(value=0.0, description='Testing GO_mix_cauchy1_N:5_T1:0.5_T2:0.1_N:5_T1:0.5_T2:0.…"
      ]
     },
     "metadata": {},
     "output_type": "display_data"
    },
    {
     "name": "stdout",
     "output_type": "stream",
     "text": [
      "\n"
     ]
    },
    {
     "data": {
      "application/vnd.jupyter.widget-view+json": {
       "model_id": "2b35b52623d54650853ca4ff3cf0847e",
       "version_major": 2,
       "version_minor": 0
      },
      "text/plain": [
       "HBox(children=(FloatProgress(value=0.0, description='Testing GO_MCM_cauchy1_N:3_T1:1.0_T2:0.4_N:3_T1:1.0_T2:0.…"
      ]
     },
     "metadata": {},
     "output_type": "display_data"
    },
    {
     "name": "stdout",
     "output_type": "stream",
     "text": [
      "\n"
     ]
    },
    {
     "data": {
      "application/vnd.jupyter.widget-view+json": {
       "model_id": "ce3f5ac7edfb4bb09c645ca6c6e866ce",
       "version_major": 2,
       "version_minor": 0
      },
      "text/plain": [
       "HBox(children=(FloatProgress(value=0.0, description='Testing GO_uni3_cauchy1_N:3_T1:0.5_T2:0.4_N:3_T1:0.5_T2:0…"
      ]
     },
     "metadata": {},
     "output_type": "display_data"
    },
    {
     "name": "stdout",
     "output_type": "stream",
     "text": [
      "\n"
     ]
    },
    {
     "data": {
      "application/vnd.jupyter.widget-view+json": {
       "model_id": "0d9312aab0c045f38ef5e6809415290f",
       "version_major": 2,
       "version_minor": 0
      },
      "text/plain": [
       "HBox(children=(FloatProgress(value=0.0, description='Testing GO_uni1_cauchy1_N:3_T1:0.5_T2:0.1_N:3_T1:0.5_T2:0…"
      ]
     },
     "metadata": {},
     "output_type": "display_data"
    },
    {
     "name": "stdout",
     "output_type": "stream",
     "text": [
      "\n"
     ]
    }
   ],
   "source": [
    "results_3 = pd.DataFrame()\n",
    "for p in P:\n",
    "    for cr_mut in crossovers_mutations_N_T1_T2:\n",
    "        n = cr_mut['N']\n",
    "        temp1 = cr_mut['T1']\n",
    "        temp2 = cr_mut['T2']\n",
    "        heur_name = 'GO_{}_N:{}_T1:{}_T2:{}_p:{}'.format(cr_mut['name'], n, temp1, temp2, p)\n",
    "        runs = []\n",
    "        for i in tqdm(range(NUM_RUNS), 'Testing {}'.format(heur_name)):\n",
    "            run = GeneticOptimization(tsp, maxeval, N=n, M=3*n, Tsel1=temp1, Tsel2=temp2, \n",
    "                                      mutation=cr_mut['mutation'],\n",
    "                                      crossover=cr_mut['crossover'],\n",
    "                                      p=p).search()\n",
    "            # tu to treba opravit\n",
    "            run['run'] = i\n",
    "            run['heur'] = heur_name\n",
    "            run['n'] = n\n",
    "            run['temp1'] = temp1\n",
    "            run['temp2'] = temp2\n",
    "            run['p'] = p\n",
    "            runs.append(run)\n",
    "\n",
    "        res_df = pd.DataFrame(runs, columns=['heur', 'run', 'n','temp1', 'temp2', 'p', \n",
    "                                             'best_x', 'best_y', 'neval'])\n",
    "        results_3 = pd.concat([results_3, res_df], axis=0)"
   ]
  },
  {
   "cell_type": "code",
   "execution_count": 28,
   "metadata": {},
   "outputs": [
    {
     "name": "stderr",
     "output_type": "stream",
     "text": [
      "/home/benjamin/anaconda3/lib/python3.7/site-packages/numpy/core/fromnumeric.py:3335: RuntimeWarning: Mean of empty slice.\n",
      "  out=out, **kwargs)\n",
      "/home/benjamin/anaconda3/lib/python3.7/site-packages/numpy/core/_methods.py:161: RuntimeWarning: invalid value encountered in double_scalars\n",
      "  ret = ret.dtype.type(ret / rcount)\n"
     ]
    },
    {
     "data": {
      "text/html": [
       "<div>\n",
       "<style scoped>\n",
       "    .dataframe tbody tr th:only-of-type {\n",
       "        vertical-align: middle;\n",
       "    }\n",
       "\n",
       "    .dataframe tbody tr th {\n",
       "        vertical-align: top;\n",
       "    }\n",
       "\n",
       "    .dataframe thead th {\n",
       "        text-align: right;\n",
       "    }\n",
       "</style>\n",
       "<table border=\"1\" class=\"dataframe\">\n",
       "  <thead>\n",
       "    <tr style=\"text-align: right;\">\n",
       "      <th></th>\n",
       "      <th>heur</th>\n",
       "      <th>p</th>\n",
       "      <th>temp1</th>\n",
       "      <th>temp2</th>\n",
       "      <th>feo</th>\n",
       "      <th>mne</th>\n",
       "      <th>rel</th>\n",
       "    </tr>\n",
       "  </thead>\n",
       "  <tbody>\n",
       "    <tr>\n",
       "      <th>4</th>\n",
       "      <td>GO_MCM_cauchy1_N:10_T1:1.0_T2:0.4_N:10_T1:1.0_...</td>\n",
       "      <td>0.8</td>\n",
       "      <td>1.0</td>\n",
       "      <td>0.4</td>\n",
       "      <td>60.237708</td>\n",
       "      <td>28.853862</td>\n",
       "      <td>0.4790</td>\n",
       "    </tr>\n",
       "    <tr>\n",
       "      <th>3</th>\n",
       "      <td>GO_MCM_cauchy1_N:10_T1:1.0_T2:0.4_N:10_T1:1.0_...</td>\n",
       "      <td>0.6</td>\n",
       "      <td>1.0</td>\n",
       "      <td>0.4</td>\n",
       "      <td>66.469076</td>\n",
       "      <td>30.376368</td>\n",
       "      <td>0.4570</td>\n",
       "    </tr>\n",
       "    <tr>\n",
       "      <th>29</th>\n",
       "      <td>GO_MCM_cauchy1_N:5_T1:0.5_T2:0.4_N:5_T1:0.5_T2...</td>\n",
       "      <td>0.8</td>\n",
       "      <td>0.5</td>\n",
       "      <td>0.4</td>\n",
       "      <td>74.700847</td>\n",
       "      <td>31.971963</td>\n",
       "      <td>0.4280</td>\n",
       "    </tr>\n",
       "    <tr>\n",
       "      <th>34</th>\n",
       "      <td>GO_mix_cauchy1_N:5_T1:0.5_T2:0.1_N:5_T1:0.5_T2...</td>\n",
       "      <td>0.8</td>\n",
       "      <td>0.5</td>\n",
       "      <td>0.1</td>\n",
       "      <td>77.076543</td>\n",
       "      <td>34.684444</td>\n",
       "      <td>0.4500</td>\n",
       "    </tr>\n",
       "    <tr>\n",
       "      <th>24</th>\n",
       "      <td>GO_MCM_cauchy1_N:5_T1:0.5_T2:0.1_N:5_T1:0.5_T2...</td>\n",
       "      <td>0.8</td>\n",
       "      <td>0.5</td>\n",
       "      <td>0.1</td>\n",
       "      <td>77.929920</td>\n",
       "      <td>32.029197</td>\n",
       "      <td>0.4110</td>\n",
       "    </tr>\n",
       "    <tr>\n",
       "      <th>2</th>\n",
       "      <td>GO_MCM_cauchy1_N:10_T1:1.0_T2:0.4_N:10_T1:1.0_...</td>\n",
       "      <td>0.5</td>\n",
       "      <td>1.0</td>\n",
       "      <td>0.4</td>\n",
       "      <td>78.214784</td>\n",
       "      <td>32.693780</td>\n",
       "      <td>0.4180</td>\n",
       "    </tr>\n",
       "    <tr>\n",
       "      <th>33</th>\n",
       "      <td>GO_mix_cauchy1_N:5_T1:0.5_T2:0.1_N:5_T1:0.5_T2...</td>\n",
       "      <td>0.6</td>\n",
       "      <td>0.5</td>\n",
       "      <td>0.1</td>\n",
       "      <td>87.029491</td>\n",
       "      <td>37.161593</td>\n",
       "      <td>0.4270</td>\n",
       "    </tr>\n",
       "    <tr>\n",
       "      <th>23</th>\n",
       "      <td>GO_MCM_cauchy1_N:5_T1:0.5_T2:0.1_N:5_T1:0.5_T2...</td>\n",
       "      <td>0.6</td>\n",
       "      <td>0.5</td>\n",
       "      <td>0.1</td>\n",
       "      <td>90.834977</td>\n",
       "      <td>35.425641</td>\n",
       "      <td>0.3900</td>\n",
       "    </tr>\n",
       "    <tr>\n",
       "      <th>28</th>\n",
       "      <td>GO_MCM_cauchy1_N:5_T1:0.5_T2:0.4_N:5_T1:0.5_T2...</td>\n",
       "      <td>0.6</td>\n",
       "      <td>0.5</td>\n",
       "      <td>0.4</td>\n",
       "      <td>94.962229</td>\n",
       "      <td>35.420912</td>\n",
       "      <td>0.3730</td>\n",
       "    </tr>\n",
       "    <tr>\n",
       "      <th>39</th>\n",
       "      <td>GO_uni1_cauchy1_N:3_T1:0.5_T2:0.1_N:3_T1:0.5_T...</td>\n",
       "      <td>0.8</td>\n",
       "      <td>0.5</td>\n",
       "      <td>0.1</td>\n",
       "      <td>99.779287</td>\n",
       "      <td>35.870654</td>\n",
       "      <td>0.3595</td>\n",
       "    </tr>\n",
       "    <tr>\n",
       "      <th>27</th>\n",
       "      <td>GO_MCM_cauchy1_N:5_T1:0.5_T2:0.4_N:5_T1:0.5_T2...</td>\n",
       "      <td>0.5</td>\n",
       "      <td>0.5</td>\n",
       "      <td>0.4</td>\n",
       "      <td>106.991547</td>\n",
       "      <td>40.763780</td>\n",
       "      <td>0.3810</td>\n",
       "    </tr>\n",
       "    <tr>\n",
       "      <th>19</th>\n",
       "      <td>GO_MCM_cauchy1_N:3_T1:1.0_T2:0.4_N:3_T1:1.0_T2...</td>\n",
       "      <td>0.8</td>\n",
       "      <td>1.0</td>\n",
       "      <td>0.4</td>\n",
       "      <td>107.422931</td>\n",
       "      <td>36.953488</td>\n",
       "      <td>0.3440</td>\n",
       "    </tr>\n",
       "    <tr>\n",
       "      <th>9</th>\n",
       "      <td>GO_MCM_cauchy1_N:3_T1:0.5_T2:0.1_N:3_T1:0.5_T2...</td>\n",
       "      <td>0.8</td>\n",
       "      <td>0.5</td>\n",
       "      <td>0.1</td>\n",
       "      <td>108.061332</td>\n",
       "      <td>37.281159</td>\n",
       "      <td>0.3450</td>\n",
       "    </tr>\n",
       "    <tr>\n",
       "      <th>43</th>\n",
       "      <td>GO_uni3_cauchy1_N:3_T1:0.5_T2:0.4_N:3_T1:0.5_T...</td>\n",
       "      <td>0.6</td>\n",
       "      <td>0.5</td>\n",
       "      <td>0.4</td>\n",
       "      <td>108.618730</td>\n",
       "      <td>35.735562</td>\n",
       "      <td>0.3290</td>\n",
       "    </tr>\n",
       "    <tr>\n",
       "      <th>44</th>\n",
       "      <td>GO_uni3_cauchy1_N:3_T1:0.5_T2:0.4_N:3_T1:0.5_T...</td>\n",
       "      <td>0.8</td>\n",
       "      <td>0.5</td>\n",
       "      <td>0.4</td>\n",
       "      <td>109.317050</td>\n",
       "      <td>37.823699</td>\n",
       "      <td>0.3460</td>\n",
       "    </tr>\n",
       "    <tr>\n",
       "      <th>1</th>\n",
       "      <td>GO_MCM_cauchy1_N:10_T1:1.0_T2:0.4_N:10_T1:1.0_...</td>\n",
       "      <td>0.4</td>\n",
       "      <td>1.0</td>\n",
       "      <td>0.4</td>\n",
       "      <td>110.927684</td>\n",
       "      <td>41.043243</td>\n",
       "      <td>0.3700</td>\n",
       "    </tr>\n",
       "    <tr>\n",
       "      <th>32</th>\n",
       "      <td>GO_mix_cauchy1_N:5_T1:0.5_T2:0.1_N:5_T1:0.5_T2...</td>\n",
       "      <td>0.5</td>\n",
       "      <td>0.5</td>\n",
       "      <td>0.1</td>\n",
       "      <td>113.091850</td>\n",
       "      <td>41.052342</td>\n",
       "      <td>0.3630</td>\n",
       "    </tr>\n",
       "    <tr>\n",
       "      <th>38</th>\n",
       "      <td>GO_uni1_cauchy1_N:3_T1:0.5_T2:0.1_N:3_T1:0.5_T...</td>\n",
       "      <td>0.6</td>\n",
       "      <td>0.5</td>\n",
       "      <td>0.1</td>\n",
       "      <td>113.476172</td>\n",
       "      <td>37.730827</td>\n",
       "      <td>0.3325</td>\n",
       "    </tr>\n",
       "    <tr>\n",
       "      <th>14</th>\n",
       "      <td>GO_MCM_cauchy1_N:3_T1:0.5_T2:0.4_N:3_T1:0.5_T2...</td>\n",
       "      <td>0.8</td>\n",
       "      <td>0.5</td>\n",
       "      <td>0.4</td>\n",
       "      <td>116.947349</td>\n",
       "      <td>37.773994</td>\n",
       "      <td>0.3230</td>\n",
       "    </tr>\n",
       "    <tr>\n",
       "      <th>22</th>\n",
       "      <td>GO_MCM_cauchy1_N:5_T1:0.5_T2:0.1_N:5_T1:0.5_T2...</td>\n",
       "      <td>0.5</td>\n",
       "      <td>0.5</td>\n",
       "      <td>0.1</td>\n",
       "      <td>117.018744</td>\n",
       "      <td>40.839542</td>\n",
       "      <td>0.3490</td>\n",
       "    </tr>\n",
       "    <tr>\n",
       "      <th>8</th>\n",
       "      <td>GO_MCM_cauchy1_N:3_T1:0.5_T2:0.1_N:3_T1:0.5_T2...</td>\n",
       "      <td>0.6</td>\n",
       "      <td>0.5</td>\n",
       "      <td>0.1</td>\n",
       "      <td>119.202714</td>\n",
       "      <td>39.575301</td>\n",
       "      <td>0.3320</td>\n",
       "    </tr>\n",
       "    <tr>\n",
       "      <th>7</th>\n",
       "      <td>GO_MCM_cauchy1_N:3_T1:0.5_T2:0.1_N:3_T1:0.5_T2...</td>\n",
       "      <td>0.5</td>\n",
       "      <td>0.5</td>\n",
       "      <td>0.1</td>\n",
       "      <td>122.076956</td>\n",
       "      <td>41.017857</td>\n",
       "      <td>0.3360</td>\n",
       "    </tr>\n",
       "    <tr>\n",
       "      <th>13</th>\n",
       "      <td>GO_MCM_cauchy1_N:3_T1:0.5_T2:0.4_N:3_T1:0.5_T2...</td>\n",
       "      <td>0.6</td>\n",
       "      <td>0.5</td>\n",
       "      <td>0.4</td>\n",
       "      <td>125.785690</td>\n",
       "      <td>41.006135</td>\n",
       "      <td>0.3260</td>\n",
       "    </tr>\n",
       "    <tr>\n",
       "      <th>21</th>\n",
       "      <td>GO_MCM_cauchy1_N:5_T1:0.5_T2:0.1_N:5_T1:0.5_T2...</td>\n",
       "      <td>0.4</td>\n",
       "      <td>0.5</td>\n",
       "      <td>0.1</td>\n",
       "      <td>128.147790</td>\n",
       "      <td>42.416918</td>\n",
       "      <td>0.3310</td>\n",
       "    </tr>\n",
       "    <tr>\n",
       "      <th>26</th>\n",
       "      <td>GO_MCM_cauchy1_N:5_T1:0.5_T2:0.4_N:5_T1:0.5_T2...</td>\n",
       "      <td>0.4</td>\n",
       "      <td>0.5</td>\n",
       "      <td>0.4</td>\n",
       "      <td>133.706752</td>\n",
       "      <td>43.320988</td>\n",
       "      <td>0.3240</td>\n",
       "    </tr>\n",
       "    <tr>\n",
       "      <th>42</th>\n",
       "      <td>GO_uni3_cauchy1_N:3_T1:0.5_T2:0.4_N:3_T1:0.5_T...</td>\n",
       "      <td>0.5</td>\n",
       "      <td>0.5</td>\n",
       "      <td>0.4</td>\n",
       "      <td>134.455642</td>\n",
       "      <td>41.412338</td>\n",
       "      <td>0.3080</td>\n",
       "    </tr>\n",
       "    <tr>\n",
       "      <th>31</th>\n",
       "      <td>GO_mix_cauchy1_N:5_T1:0.5_T2:0.1_N:5_T1:0.5_T2...</td>\n",
       "      <td>0.4</td>\n",
       "      <td>0.5</td>\n",
       "      <td>0.1</td>\n",
       "      <td>135.779679</td>\n",
       "      <td>46.979769</td>\n",
       "      <td>0.3460</td>\n",
       "    </tr>\n",
       "    <tr>\n",
       "      <th>37</th>\n",
       "      <td>GO_uni1_cauchy1_N:3_T1:0.5_T2:0.1_N:3_T1:0.5_T...</td>\n",
       "      <td>0.5</td>\n",
       "      <td>0.5</td>\n",
       "      <td>0.1</td>\n",
       "      <td>140.159825</td>\n",
       "      <td>42.398347</td>\n",
       "      <td>0.3025</td>\n",
       "    </tr>\n",
       "    <tr>\n",
       "      <th>18</th>\n",
       "      <td>GO_MCM_cauchy1_N:3_T1:1.0_T2:0.4_N:3_T1:1.0_T2...</td>\n",
       "      <td>0.6</td>\n",
       "      <td>1.0</td>\n",
       "      <td>0.4</td>\n",
       "      <td>143.817852</td>\n",
       "      <td>39.837545</td>\n",
       "      <td>0.2770</td>\n",
       "    </tr>\n",
       "    <tr>\n",
       "      <th>36</th>\n",
       "      <td>GO_uni1_cauchy1_N:3_T1:0.5_T2:0.1_N:3_T1:0.5_T...</td>\n",
       "      <td>0.4</td>\n",
       "      <td>0.5</td>\n",
       "      <td>0.1</td>\n",
       "      <td>145.552131</td>\n",
       "      <td>42.355670</td>\n",
       "      <td>0.2910</td>\n",
       "    </tr>\n",
       "    <tr>\n",
       "      <th>12</th>\n",
       "      <td>GO_MCM_cauchy1_N:3_T1:0.5_T2:0.4_N:3_T1:0.5_T2...</td>\n",
       "      <td>0.5</td>\n",
       "      <td>0.5</td>\n",
       "      <td>0.4</td>\n",
       "      <td>153.142505</td>\n",
       "      <td>43.645614</td>\n",
       "      <td>0.2850</td>\n",
       "    </tr>\n",
       "    <tr>\n",
       "      <th>41</th>\n",
       "      <td>GO_uni3_cauchy1_N:3_T1:0.5_T2:0.4_N:3_T1:0.5_T...</td>\n",
       "      <td>0.4</td>\n",
       "      <td>0.5</td>\n",
       "      <td>0.4</td>\n",
       "      <td>157.057556</td>\n",
       "      <td>44.761404</td>\n",
       "      <td>0.2850</td>\n",
       "    </tr>\n",
       "    <tr>\n",
       "      <th>17</th>\n",
       "      <td>GO_MCM_cauchy1_N:3_T1:1.0_T2:0.4_N:3_T1:1.0_T2...</td>\n",
       "      <td>0.5</td>\n",
       "      <td>1.0</td>\n",
       "      <td>0.4</td>\n",
       "      <td>157.077686</td>\n",
       "      <td>43.196364</td>\n",
       "      <td>0.2750</td>\n",
       "    </tr>\n",
       "    <tr>\n",
       "      <th>11</th>\n",
       "      <td>GO_MCM_cauchy1_N:3_T1:0.5_T2:0.4_N:3_T1:0.5_T2...</td>\n",
       "      <td>0.4</td>\n",
       "      <td>0.5</td>\n",
       "      <td>0.4</td>\n",
       "      <td>157.355372</td>\n",
       "      <td>43.272727</td>\n",
       "      <td>0.2750</td>\n",
       "    </tr>\n",
       "    <tr>\n",
       "      <th>16</th>\n",
       "      <td>GO_MCM_cauchy1_N:3_T1:1.0_T2:0.4_N:3_T1:1.0_T2...</td>\n",
       "      <td>0.4</td>\n",
       "      <td>1.0</td>\n",
       "      <td>0.4</td>\n",
       "      <td>158.241885</td>\n",
       "      <td>46.681356</td>\n",
       "      <td>0.2950</td>\n",
       "    </tr>\n",
       "    <tr>\n",
       "      <th>6</th>\n",
       "      <td>GO_MCM_cauchy1_N:3_T1:0.5_T2:0.1_N:3_T1:0.5_T2...</td>\n",
       "      <td>0.4</td>\n",
       "      <td>0.5</td>\n",
       "      <td>0.1</td>\n",
       "      <td>160.187885</td>\n",
       "      <td>47.095238</td>\n",
       "      <td>0.2940</td>\n",
       "    </tr>\n",
       "    <tr>\n",
       "      <th>30</th>\n",
       "      <td>GO_mix_cauchy1_N:5_T1:0.5_T2:0.1_N:5_T1:0.5_T2...</td>\n",
       "      <td>0.2</td>\n",
       "      <td>0.5</td>\n",
       "      <td>0.1</td>\n",
       "      <td>190.053816</td>\n",
       "      <td>49.223938</td>\n",
       "      <td>0.2590</td>\n",
       "    </tr>\n",
       "    <tr>\n",
       "      <th>25</th>\n",
       "      <td>GO_MCM_cauchy1_N:5_T1:0.5_T2:0.4_N:5_T1:0.5_T2...</td>\n",
       "      <td>0.2</td>\n",
       "      <td>0.5</td>\n",
       "      <td>0.4</td>\n",
       "      <td>193.100137</td>\n",
       "      <td>52.137037</td>\n",
       "      <td>0.2700</td>\n",
       "    </tr>\n",
       "    <tr>\n",
       "      <th>20</th>\n",
       "      <td>GO_MCM_cauchy1_N:5_T1:0.5_T2:0.1_N:5_T1:0.5_T2...</td>\n",
       "      <td>0.2</td>\n",
       "      <td>0.5</td>\n",
       "      <td>0.1</td>\n",
       "      <td>194.061281</td>\n",
       "      <td>51.620301</td>\n",
       "      <td>0.2660</td>\n",
       "    </tr>\n",
       "    <tr>\n",
       "      <th>10</th>\n",
       "      <td>GO_MCM_cauchy1_N:3_T1:0.5_T2:0.4_N:3_T1:0.5_T2...</td>\n",
       "      <td>0.2</td>\n",
       "      <td>0.5</td>\n",
       "      <td>0.4</td>\n",
       "      <td>203.202933</td>\n",
       "      <td>52.426357</td>\n",
       "      <td>0.2580</td>\n",
       "    </tr>\n",
       "    <tr>\n",
       "      <th>0</th>\n",
       "      <td>GO_MCM_cauchy1_N:10_T1:1.0_T2:0.4_N:10_T1:1.0_...</td>\n",
       "      <td>0.2</td>\n",
       "      <td>1.0</td>\n",
       "      <td>0.4</td>\n",
       "      <td>205.920000</td>\n",
       "      <td>51.480000</td>\n",
       "      <td>0.2500</td>\n",
       "    </tr>\n",
       "    <tr>\n",
       "      <th>35</th>\n",
       "      <td>GO_uni1_cauchy1_N:3_T1:0.5_T2:0.1_N:3_T1:0.5_T...</td>\n",
       "      <td>0.2</td>\n",
       "      <td>0.5</td>\n",
       "      <td>0.1</td>\n",
       "      <td>210.674314</td>\n",
       "      <td>50.877847</td>\n",
       "      <td>0.2415</td>\n",
       "    </tr>\n",
       "    <tr>\n",
       "      <th>40</th>\n",
       "      <td>GO_uni3_cauchy1_N:3_T1:0.5_T2:0.4_N:3_T1:0.5_T...</td>\n",
       "      <td>0.2</td>\n",
       "      <td>0.5</td>\n",
       "      <td>0.4</td>\n",
       "      <td>215.781026</td>\n",
       "      <td>52.219008</td>\n",
       "      <td>0.2420</td>\n",
       "    </tr>\n",
       "    <tr>\n",
       "      <th>15</th>\n",
       "      <td>GO_MCM_cauchy1_N:3_T1:1.0_T2:0.4_N:3_T1:1.0_T2...</td>\n",
       "      <td>0.2</td>\n",
       "      <td>1.0</td>\n",
       "      <td>0.4</td>\n",
       "      <td>224.483256</td>\n",
       "      <td>53.202532</td>\n",
       "      <td>0.2370</td>\n",
       "    </tr>\n",
       "    <tr>\n",
       "      <th>5</th>\n",
       "      <td>GO_MCM_cauchy1_N:3_T1:0.5_T2:0.1_N:3_T1:0.5_T2...</td>\n",
       "      <td>0.2</td>\n",
       "      <td>0.5</td>\n",
       "      <td>0.1</td>\n",
       "      <td>235.535802</td>\n",
       "      <td>52.995556</td>\n",
       "      <td>0.2250</td>\n",
       "    </tr>\n",
       "  </tbody>\n",
       "</table>\n",
       "</div>"
      ],
      "text/plain": [
       "                                                 heur    p  temp1  temp2  \\\n",
       "4   GO_MCM_cauchy1_N:10_T1:1.0_T2:0.4_N:10_T1:1.0_...  0.8    1.0    0.4   \n",
       "3   GO_MCM_cauchy1_N:10_T1:1.0_T2:0.4_N:10_T1:1.0_...  0.6    1.0    0.4   \n",
       "29  GO_MCM_cauchy1_N:5_T1:0.5_T2:0.4_N:5_T1:0.5_T2...  0.8    0.5    0.4   \n",
       "34  GO_mix_cauchy1_N:5_T1:0.5_T2:0.1_N:5_T1:0.5_T2...  0.8    0.5    0.1   \n",
       "24  GO_MCM_cauchy1_N:5_T1:0.5_T2:0.1_N:5_T1:0.5_T2...  0.8    0.5    0.1   \n",
       "2   GO_MCM_cauchy1_N:10_T1:1.0_T2:0.4_N:10_T1:1.0_...  0.5    1.0    0.4   \n",
       "33  GO_mix_cauchy1_N:5_T1:0.5_T2:0.1_N:5_T1:0.5_T2...  0.6    0.5    0.1   \n",
       "23  GO_MCM_cauchy1_N:5_T1:0.5_T2:0.1_N:5_T1:0.5_T2...  0.6    0.5    0.1   \n",
       "28  GO_MCM_cauchy1_N:5_T1:0.5_T2:0.4_N:5_T1:0.5_T2...  0.6    0.5    0.4   \n",
       "39  GO_uni1_cauchy1_N:3_T1:0.5_T2:0.1_N:3_T1:0.5_T...  0.8    0.5    0.1   \n",
       "27  GO_MCM_cauchy1_N:5_T1:0.5_T2:0.4_N:5_T1:0.5_T2...  0.5    0.5    0.4   \n",
       "19  GO_MCM_cauchy1_N:3_T1:1.0_T2:0.4_N:3_T1:1.0_T2...  0.8    1.0    0.4   \n",
       "9   GO_MCM_cauchy1_N:3_T1:0.5_T2:0.1_N:3_T1:0.5_T2...  0.8    0.5    0.1   \n",
       "43  GO_uni3_cauchy1_N:3_T1:0.5_T2:0.4_N:3_T1:0.5_T...  0.6    0.5    0.4   \n",
       "44  GO_uni3_cauchy1_N:3_T1:0.5_T2:0.4_N:3_T1:0.5_T...  0.8    0.5    0.4   \n",
       "1   GO_MCM_cauchy1_N:10_T1:1.0_T2:0.4_N:10_T1:1.0_...  0.4    1.0    0.4   \n",
       "32  GO_mix_cauchy1_N:5_T1:0.5_T2:0.1_N:5_T1:0.5_T2...  0.5    0.5    0.1   \n",
       "38  GO_uni1_cauchy1_N:3_T1:0.5_T2:0.1_N:3_T1:0.5_T...  0.6    0.5    0.1   \n",
       "14  GO_MCM_cauchy1_N:3_T1:0.5_T2:0.4_N:3_T1:0.5_T2...  0.8    0.5    0.4   \n",
       "22  GO_MCM_cauchy1_N:5_T1:0.5_T2:0.1_N:5_T1:0.5_T2...  0.5    0.5    0.1   \n",
       "8   GO_MCM_cauchy1_N:3_T1:0.5_T2:0.1_N:3_T1:0.5_T2...  0.6    0.5    0.1   \n",
       "7   GO_MCM_cauchy1_N:3_T1:0.5_T2:0.1_N:3_T1:0.5_T2...  0.5    0.5    0.1   \n",
       "13  GO_MCM_cauchy1_N:3_T1:0.5_T2:0.4_N:3_T1:0.5_T2...  0.6    0.5    0.4   \n",
       "21  GO_MCM_cauchy1_N:5_T1:0.5_T2:0.1_N:5_T1:0.5_T2...  0.4    0.5    0.1   \n",
       "26  GO_MCM_cauchy1_N:5_T1:0.5_T2:0.4_N:5_T1:0.5_T2...  0.4    0.5    0.4   \n",
       "42  GO_uni3_cauchy1_N:3_T1:0.5_T2:0.4_N:3_T1:0.5_T...  0.5    0.5    0.4   \n",
       "31  GO_mix_cauchy1_N:5_T1:0.5_T2:0.1_N:5_T1:0.5_T2...  0.4    0.5    0.1   \n",
       "37  GO_uni1_cauchy1_N:3_T1:0.5_T2:0.1_N:3_T1:0.5_T...  0.5    0.5    0.1   \n",
       "18  GO_MCM_cauchy1_N:3_T1:1.0_T2:0.4_N:3_T1:1.0_T2...  0.6    1.0    0.4   \n",
       "36  GO_uni1_cauchy1_N:3_T1:0.5_T2:0.1_N:3_T1:0.5_T...  0.4    0.5    0.1   \n",
       "12  GO_MCM_cauchy1_N:3_T1:0.5_T2:0.4_N:3_T1:0.5_T2...  0.5    0.5    0.4   \n",
       "41  GO_uni3_cauchy1_N:3_T1:0.5_T2:0.4_N:3_T1:0.5_T...  0.4    0.5    0.4   \n",
       "17  GO_MCM_cauchy1_N:3_T1:1.0_T2:0.4_N:3_T1:1.0_T2...  0.5    1.0    0.4   \n",
       "11  GO_MCM_cauchy1_N:3_T1:0.5_T2:0.4_N:3_T1:0.5_T2...  0.4    0.5    0.4   \n",
       "16  GO_MCM_cauchy1_N:3_T1:1.0_T2:0.4_N:3_T1:1.0_T2...  0.4    1.0    0.4   \n",
       "6   GO_MCM_cauchy1_N:3_T1:0.5_T2:0.1_N:3_T1:0.5_T2...  0.4    0.5    0.1   \n",
       "30  GO_mix_cauchy1_N:5_T1:0.5_T2:0.1_N:5_T1:0.5_T2...  0.2    0.5    0.1   \n",
       "25  GO_MCM_cauchy1_N:5_T1:0.5_T2:0.4_N:5_T1:0.5_T2...  0.2    0.5    0.4   \n",
       "20  GO_MCM_cauchy1_N:5_T1:0.5_T2:0.1_N:5_T1:0.5_T2...  0.2    0.5    0.1   \n",
       "10  GO_MCM_cauchy1_N:3_T1:0.5_T2:0.4_N:3_T1:0.5_T2...  0.2    0.5    0.4   \n",
       "0   GO_MCM_cauchy1_N:10_T1:1.0_T2:0.4_N:10_T1:1.0_...  0.2    1.0    0.4   \n",
       "35  GO_uni1_cauchy1_N:3_T1:0.5_T2:0.1_N:3_T1:0.5_T...  0.2    0.5    0.1   \n",
       "40  GO_uni3_cauchy1_N:3_T1:0.5_T2:0.4_N:3_T1:0.5_T...  0.2    0.5    0.4   \n",
       "15  GO_MCM_cauchy1_N:3_T1:1.0_T2:0.4_N:3_T1:1.0_T2...  0.2    1.0    0.4   \n",
       "5   GO_MCM_cauchy1_N:3_T1:0.5_T2:0.1_N:3_T1:0.5_T2...  0.2    0.5    0.1   \n",
       "\n",
       "           feo        mne     rel  \n",
       "4    60.237708  28.853862  0.4790  \n",
       "3    66.469076  30.376368  0.4570  \n",
       "29   74.700847  31.971963  0.4280  \n",
       "34   77.076543  34.684444  0.4500  \n",
       "24   77.929920  32.029197  0.4110  \n",
       "2    78.214784  32.693780  0.4180  \n",
       "33   87.029491  37.161593  0.4270  \n",
       "23   90.834977  35.425641  0.3900  \n",
       "28   94.962229  35.420912  0.3730  \n",
       "39   99.779287  35.870654  0.3595  \n",
       "27  106.991547  40.763780  0.3810  \n",
       "19  107.422931  36.953488  0.3440  \n",
       "9   108.061332  37.281159  0.3450  \n",
       "43  108.618730  35.735562  0.3290  \n",
       "44  109.317050  37.823699  0.3460  \n",
       "1   110.927684  41.043243  0.3700  \n",
       "32  113.091850  41.052342  0.3630  \n",
       "38  113.476172  37.730827  0.3325  \n",
       "14  116.947349  37.773994  0.3230  \n",
       "22  117.018744  40.839542  0.3490  \n",
       "8   119.202714  39.575301  0.3320  \n",
       "7   122.076956  41.017857  0.3360  \n",
       "13  125.785690  41.006135  0.3260  \n",
       "21  128.147790  42.416918  0.3310  \n",
       "26  133.706752  43.320988  0.3240  \n",
       "42  134.455642  41.412338  0.3080  \n",
       "31  135.779679  46.979769  0.3460  \n",
       "37  140.159825  42.398347  0.3025  \n",
       "18  143.817852  39.837545  0.2770  \n",
       "36  145.552131  42.355670  0.2910  \n",
       "12  153.142505  43.645614  0.2850  \n",
       "41  157.057556  44.761404  0.2850  \n",
       "17  157.077686  43.196364  0.2750  \n",
       "11  157.355372  43.272727  0.2750  \n",
       "16  158.241885  46.681356  0.2950  \n",
       "6   160.187885  47.095238  0.2940  \n",
       "30  190.053816  49.223938  0.2590  \n",
       "25  193.100137  52.137037  0.2700  \n",
       "20  194.061281  51.620301  0.2660  \n",
       "10  203.202933  52.426357  0.2580  \n",
       "0   205.920000  51.480000  0.2500  \n",
       "35  210.674314  50.877847  0.2415  \n",
       "40  215.781026  52.219008  0.2420  \n",
       "15  224.483256  53.202532  0.2370  \n",
       "5   235.535802  52.995556  0.2250  "
      ]
     },
     "execution_count": 28,
     "metadata": {},
     "output_type": "execute_result"
    }
   ],
   "source": [
    "results_pivot_3 = results_3.pivot_table(\n",
    "    index=['heur', 'p', 'temp1', 'temp2'],\n",
    "    values=['neval'],\n",
    "    aggfunc=(rel, mne, feo)\n",
    ")['neval']\n",
    "results_pivot_3 = results_pivot_3.reset_index()\n",
    "results_pivot_3.sort_values(by='feo')"
   ]
  },
  {
   "cell_type": "markdown",
   "metadata": {},
   "source": [
    "Pri pohľade na výsledky môžeme konštatovať obrovský progres, keďže pri feo kritériu sme dosiahli hodnotu približne 60. Pre porovnanie, v predchádzajúcich častiach sme sa dostali najlepšie na hodnotu 240. Vo všeobecnosti teda môžeme tento žravý prístup za podstatne lepší než je náhodné generovanie riešení. V drtivej väčšine prípadov môžeme takisto povedať, že zvyšovanie parametra p viedlo k zlepšovaniu výsledkov. Poslednou dôležitou vecou, ktorú by som rád zmienil je fakt, že najlepšie výsledky sme dosahovali predovšetkým pri použití MCM crossover metódy, ktorá bola navrhnutá v rámci tejto práce."
   ]
  },
  {
   "cell_type": "markdown",
   "metadata": {},
   "source": [
    "## 5. Záverečné zhodnotenie výsledkov"
   ]
  },
  {
   "cell_type": "markdown",
   "metadata": {},
   "source": [
    "Z celkového pohľadu hodnotím postup práce ako pozitívny a to z dôvodu, že sme sa postupným tuningom hyper-parametrov, zavedením nových crossover metód či využitím žravého prístupu dostávali z hľadiska výsledkov experimentov ku kvalitnejším heuristikám, ktoré riešili problém obchodného cestujúceho. Najvýraznejšie zlepšenie sme mohli sledovať práve pri zavedení žravého prístupu, ktorý je popísaný v rámci 4. časti tohto projektu. Určite je takisto potrebné zdôrazniť zavedenie nových crossover metód. Tie vznikli práve ako súčasť tohto projektu a predovšetkým metóda MCM dosahovala spomedzi všetkých metód najlepšie výsledky. Na danom probléme prekonala aj metódy preberané v rámci kurzu. "
   ]
  },
  {
   "cell_type": "code",
   "execution_count": 29,
   "metadata": {},
   "outputs": [],
   "source": [
    "import dill\n",
    "dill.dump_session('heur_4.db')"
   ]
  },
  {
   "cell_type": "code",
   "execution_count": null,
   "metadata": {},
   "outputs": [],
   "source": []
  }
 ],
 "metadata": {
  "kernelspec": {
   "display_name": "Python 3",
   "language": "python",
   "name": "python3"
  },
  "language_info": {
   "codemirror_mode": {
    "name": "ipython",
    "version": 3
   },
   "file_extension": ".py",
   "mimetype": "text/x-python",
   "name": "python",
   "nbconvert_exporter": "python",
   "pygments_lexer": "ipython3",
   "version": "3.7.6"
  }
 },
 "nbformat": 4,
 "nbformat_minor": 4
}
