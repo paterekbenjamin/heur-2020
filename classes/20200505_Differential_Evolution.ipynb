{
 "cells": [
  {
   "cell_type": "markdown",
   "metadata": {},
   "source": [
    "# Differential Evolution\n",
    "\n",
    "For detailed description refer to [Wikipedia article](https://en.wikipedia.org/wiki/Differential_evolution)."
   ]
  },
  {
   "cell_type": "markdown",
   "metadata": {},
   "source": [
    "#### Set up IPython notebook environment first..."
   ]
  },
  {
   "cell_type": "code",
   "execution_count": 1,
   "metadata": {},
   "outputs": [],
   "source": [
    "# Import path to source directory (bit of a hack in Jupyter)\n",
    "import sys\n",
    "import os\n",
    "pwd = %pwd\n",
    "sys.path.append(os.path.join(pwd, os.path.join('..', 'src')))\n",
    "\n",
    "# Ensure modules are reloaded on any change (very useful when developing code on the fly)\n",
    "%load_ext autoreload\n",
    "%autoreload 2"
   ]
  },
  {
   "cell_type": "markdown",
   "metadata": {},
   "source": [
    "# Demo"
   ]
  },
  {
   "cell_type": "code",
   "execution_count": 2,
   "metadata": {},
   "outputs": [],
   "source": [
    "from objfun_dejong1 import DeJong1\n",
    "from heur_de import DifferentialEvolution"
   ]
  },
  {
   "cell_type": "code",
   "execution_count": 3,
   "metadata": {},
   "outputs": [],
   "source": [
    "dj = DeJong1(n=3, eps=0.01)"
   ]
  },
  {
   "cell_type": "code",
   "execution_count": 4,
   "metadata": {},
   "outputs": [
    {
     "name": "stdout",
     "output_type": "stream",
     "text": [
      "x_best = [-0.07068135372491069, -0.00932580010595796, -0.0008332361152230128]\n",
      "y_best = 0.005083518594425943\n",
      "neval = 279\n"
     ]
    }
   ],
   "source": [
    "de = DifferentialEvolution(of=dj, maxeval=1000, N=10, CR=0.5, F=1)\n",
    "res = de.search()\n",
    "print('x_best = {}'.format(res['best_x']))\n",
    "print('y_best = {}'.format(res['best_y']))\n",
    "print('neval = {}'.format(res['neval']))"
   ]
  },
  {
   "cell_type": "markdown",
   "metadata": {},
   "source": [
    "# Excercises\n",
    "\n",
    "* Study the new algorithm performance\n",
    "* Experiment with alternative approaches to mutation (`DE/best/x` etc, see e.g. [this SO question](http://stackoverflow.com/questions/20393102/all-versions-of-differential-evolution-algorithm) for reference)"
   ]
  }
 ],
 "metadata": {
  "kernelspec": {
   "display_name": "Python 3",
   "language": "python",
   "name": "python3"
  },
  "language_info": {
   "codemirror_mode": {
    "name": "ipython",
    "version": 3
   },
   "file_extension": ".py",
   "mimetype": "text/x-python",
   "name": "python",
   "nbconvert_exporter": "python",
   "pygments_lexer": "ipython3",
   "version": "3.6.10"
  }
 },
 "nbformat": 4,
 "nbformat_minor": 1
}
